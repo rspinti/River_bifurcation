{
 "metadata": {
  "language_info": {
   "codemirror_mode": {
    "name": "ipython",
    "version": 3
   },
   "file_extension": ".py",
   "mimetype": "text/x-python",
   "name": "python",
   "nbconvert_exporter": "python",
   "pygments_lexer": "ipython3",
   "version": "3.8.2"
  },
  "orig_nbformat": 2,
  "kernelspec": {
   "name": "python382jvsc74a57bd0eb2e4c371ff851f574b3a23a24f12dff57252d9866a45d47014a944f9924fa20",
   "display_name": "Python 3.8.2 64-bit ('research_env': conda)"
  }
 },
 "nbformat": 4,
 "nbformat_minor": 2,
 "cells": [
  {
   "source": [
    "# Analysis testing notebook\n",
    "This notebook is for testing things concerning the analysis of the processed data. \n",
    "\n"
   ],
   "cell_type": "markdown",
   "metadata": {}
  },
  {
   "cell_type": "code",
   "execution_count": 1,
   "metadata": {},
   "outputs": [],
   "source": [
    "import pandas as pd, geopandas as gp, numpy as np, matplotlib.pyplot as plt\n",
    "# pd.set_option('display.max_colwidth', -1)"
   ]
  },
  {
   "source": [
    "## GRanD"
   ],
   "cell_type": "markdown",
   "metadata": {}
  },
  {
   "cell_type": "code",
   "execution_count": 2,
   "metadata": {},
   "outputs": [],
   "source": [
    "## Basin lists \n",
    "basin_ls = ['California', 'Colorado', 'Columbia', 'Great_Basin', 'Great_Lakes','Gulf_Coast','Mississippi', 'North_Atlantic', 'Red', 'Rio_Grande','South_Atlantic']\n",
    "\n",
    "## folder on the GDrive to save output files to\n",
    "data_folder = 'HPC_runs_fixed/processed_data/grand_dams/'\n",
    "results_folder = 'HPC_runs_fixed/analyzed_data/grand_dams/'\n",
    "gdrive = \"/Volumes/GoogleDrive/My Drive/Condon_Research_Group/Research_Projects/Rachel/Research/Data/bifurcation_data_repo/\" "
   ]
  },
  {
   "cell_type": "code",
   "execution_count": 3,
   "metadata": {},
   "outputs": [],
   "source": [
    "#dor difference\n",
    "# grand_dor = gp.read_file(gdrive+results_folder+\"all_basins_segGeo.shp\")\n",
    "grand_dor = gp.read_file(gdrive+data_folder+\"Colorado_segGeo.shp\")\n",
    "grand_dor = grand_dor[[\"Hydroseq\", \"geometry\", \"DOR\", \"line_width\"]]  #filter to columns we care about\n",
    "\n",
    "\n",
    "# grand_seggeo = grand_seggeo[[\"Hydroseq\", \"geometry\", \"DOR\", \"line_width\"]] \n",
    "# grand_seggeo[\"percent_dor\"] = 0  #add column\n",
    "# unfil_dor = gp.read_file(gdrive+'HPC_runs_fixed/analyzed_data/all_basins_unfiltered/all_basins_segGeo.shp') #read in unfiltered data\n",
    "unfil_dor = gp.read_file(gdrive+'HPC_runs_fixed/processed_data/2010/Colorado_segGeo.shp')  \n",
    "unfil_dor = unfil_dor[[\"Hydroseq\", \"DOR\"]] \n",
    "# unfil_dor = unfil_dor[[\"Hydroseq\", \"geometry\", \"DOR\"]] "
   ]
  },
  {
   "source": [
    "### Making sure that the GRanD DOR is always smaller than NABD"
   ],
   "cell_type": "markdown",
   "metadata": {}
  },
  {
   "cell_type": "code",
   "execution_count": 4,
   "metadata": {},
   "outputs": [],
   "source": [
    "# test = grand_dor.merge(unfil_dor, on=\"Hydroseq\", suffixes=('_grand', '_unfil'))\n",
    "# # nabd_dams['grand_flag'] = np.zeros(len(nabd_dams))  #add flag column\n",
    "# # nabd.loc[nabd.GRAND_ID !=0, \"grand_flag\"]=1\n",
    "# test[\"flag\"] =np.zeros(len(test))\n",
    "# test.loc[test['DOR_grand'] > test['DOR_unfil'], \"flag\"] = 1\n",
    "# test"
   ]
  },
  {
   "cell_type": "code",
   "execution_count": 5,
   "metadata": {},
   "outputs": [],
   "source": [
    "# test_fil = test[test.flag==1]\n",
    "# # pd.set_option('display.max_colwidth', -1)\n",
    "# pd.set_option('display.max_rows', None)\n",
    "# test_fil"
   ]
  },
  {
   "source": [
    "### Making sure the percent_dor is working"
   ],
   "cell_type": "markdown",
   "metadata": {}
  },
  {
   "cell_type": "code",
   "execution_count": 6,
   "metadata": {},
   "outputs": [],
   "source": [
    "percent_dor = grand_dor.merge(unfil_dor, on=\"Hydroseq\", suffixes=('_grand', '_unfil'))\n",
    "percent_dor['percent_dor'] = 'nan'\n",
    "for i in percent_dor.index:\n",
    "    # if test['DOR_grand'][i] == 0 and test['DOR_unfil'][i] == 0 or test['DOR_unfil'][i] == 0:\n",
    "    if percent_dor['DOR_unfil'][i] == 0 and percent_dor['DOR_grand'][i] == 0:\n",
    "        percent_dor.loc[i, 'percent_dor'] = 1.0\n",
    "    # if percent_dor['DOR_unfil'][i] == 0:\n",
    "    #     percent_dor.loc[i, 'percent_dor'] = 0\n",
    "    elif percent_dor['DOR_unfil'][i] == -1:\n",
    "        percent_dor.loc[i, 'percent_dor'] = -1.0\n",
    "    else:\n",
    "        percent_dor.loc[i, 'percent_dor'] = percent_dor.loc[i, 'DOR_grand']/percent_dor.loc[i, 'DOR_unfil']\n",
    "\n",
    "# test['percent_dor'] = test['DOR_grand']/test['DOR_unfil']\n",
    "# percent_dor['percent_dor'].fillna(-1, inplace=True)\n"
   ]
  },
  {
   "cell_type": "code",
   "execution_count": 8,
   "metadata": {},
   "outputs": [],
   "source": [
    "# type(percent_dor.percent_dor[0])\n",
    "# # percent_dor.to_file(\"/Users/rachelspinti/Documents/grand_percent_dor_colo.shp\")\n",
    "# percent_dor.to_csv(\"/Users/rachelspinti/Documents/grand_percent_dor_colo.csv\")"
   ]
  },
  {
   "cell_type": "code",
   "execution_count": 9,
   "metadata": {},
   "outputs": [
    {
     "output_type": "execute_result",
     "data": {
      "text/plain": [
       "        Unnamed: 0   Hydroseq  \\\n",
       "0                0  720005307   \n",
       "1                1  720002442   \n",
       "2                2  720002156   \n",
       "3                3  720002326   \n",
       "4                4  720002533   \n",
       "...            ...        ...   \n",
       "187023      187023  720050315   \n",
       "187024      187024  720026398   \n",
       "187025      187025  800064821   \n",
       "187026      187026  800047380   \n",
       "187027      187027  800064820   \n",
       "\n",
       "                                                 geometry  DOR_grand  \\\n",
       "0       LINESTRING Z (-112.269260602842 33.85347568078...   8.198375   \n",
       "1       LINESTRING Z (-111.711510403708 33.98544021391...   0.158034   \n",
       "2       LINESTRING Z (-111.630211603834 33.81836181417...   0.362512   \n",
       "3       LINESTRING Z (-111.525084403997 33.56975408122...   1.253577   \n",
       "4       LINESTRING Z (-111.343734804279 33.59034168119...   1.191705   \n",
       "...                                                   ...        ...   \n",
       "187023  LINESTRING Z (-108.829245874849 31.48585981779...   0.000000   \n",
       "187024  LINESTRING Z (-108.84771827482 31.479934617803...   0.000000   \n",
       "187025  LINESTRING Z (-113.53118966755 37.467821075175...   0.000000   \n",
       "187026  LINESTRING Z (-113.518024800904 37.45863600852...   0.000000   \n",
       "187027  LINESTRING Z (-113.536599000875 37.45562920852...   0.000000   \n",
       "\n",
       "        line_width  DOR_unfil  percent_dor  \n",
       "0              0.5   8.221051     0.997242  \n",
       "1              0.6   0.174939     0.903367  \n",
       "2              0.6   0.378982     0.956540  \n",
       "3              0.6   1.277890     0.980974  \n",
       "4              0.6   1.216353     0.979736  \n",
       "...            ...        ...          ...  \n",
       "187023         0.2   0.000000     1.000000  \n",
       "187024         0.2   0.000000     1.000000  \n",
       "187025         0.1   0.000000     1.000000  \n",
       "187026         0.2   0.000000     1.000000  \n",
       "187027         0.1   0.000000     1.000000  \n",
       "\n",
       "[187028 rows x 7 columns]"
      ],
      "text/html": "<div>\n<style scoped>\n    .dataframe tbody tr th:only-of-type {\n        vertical-align: middle;\n    }\n\n    .dataframe tbody tr th {\n        vertical-align: top;\n    }\n\n    .dataframe thead th {\n        text-align: right;\n    }\n</style>\n<table border=\"1\" class=\"dataframe\">\n  <thead>\n    <tr style=\"text-align: right;\">\n      <th></th>\n      <th>Unnamed: 0</th>\n      <th>Hydroseq</th>\n      <th>geometry</th>\n      <th>DOR_grand</th>\n      <th>line_width</th>\n      <th>DOR_unfil</th>\n      <th>percent_dor</th>\n    </tr>\n  </thead>\n  <tbody>\n    <tr>\n      <th>0</th>\n      <td>0</td>\n      <td>720005307</td>\n      <td>LINESTRING Z (-112.269260602842 33.85347568078...</td>\n      <td>8.198375</td>\n      <td>0.5</td>\n      <td>8.221051</td>\n      <td>0.997242</td>\n    </tr>\n    <tr>\n      <th>1</th>\n      <td>1</td>\n      <td>720002442</td>\n      <td>LINESTRING Z (-111.711510403708 33.98544021391...</td>\n      <td>0.158034</td>\n      <td>0.6</td>\n      <td>0.174939</td>\n      <td>0.903367</td>\n    </tr>\n    <tr>\n      <th>2</th>\n      <td>2</td>\n      <td>720002156</td>\n      <td>LINESTRING Z (-111.630211603834 33.81836181417...</td>\n      <td>0.362512</td>\n      <td>0.6</td>\n      <td>0.378982</td>\n      <td>0.956540</td>\n    </tr>\n    <tr>\n      <th>3</th>\n      <td>3</td>\n      <td>720002326</td>\n      <td>LINESTRING Z (-111.525084403997 33.56975408122...</td>\n      <td>1.253577</td>\n      <td>0.6</td>\n      <td>1.277890</td>\n      <td>0.980974</td>\n    </tr>\n    <tr>\n      <th>4</th>\n      <td>4</td>\n      <td>720002533</td>\n      <td>LINESTRING Z (-111.343734804279 33.59034168119...</td>\n      <td>1.191705</td>\n      <td>0.6</td>\n      <td>1.216353</td>\n      <td>0.979736</td>\n    </tr>\n    <tr>\n      <th>...</th>\n      <td>...</td>\n      <td>...</td>\n      <td>...</td>\n      <td>...</td>\n      <td>...</td>\n      <td>...</td>\n      <td>...</td>\n    </tr>\n    <tr>\n      <th>187023</th>\n      <td>187023</td>\n      <td>720050315</td>\n      <td>LINESTRING Z (-108.829245874849 31.48585981779...</td>\n      <td>0.000000</td>\n      <td>0.2</td>\n      <td>0.000000</td>\n      <td>1.000000</td>\n    </tr>\n    <tr>\n      <th>187024</th>\n      <td>187024</td>\n      <td>720026398</td>\n      <td>LINESTRING Z (-108.84771827482 31.479934617803...</td>\n      <td>0.000000</td>\n      <td>0.2</td>\n      <td>0.000000</td>\n      <td>1.000000</td>\n    </tr>\n    <tr>\n      <th>187025</th>\n      <td>187025</td>\n      <td>800064821</td>\n      <td>LINESTRING Z (-113.53118966755 37.467821075175...</td>\n      <td>0.000000</td>\n      <td>0.1</td>\n      <td>0.000000</td>\n      <td>1.000000</td>\n    </tr>\n    <tr>\n      <th>187026</th>\n      <td>187026</td>\n      <td>800047380</td>\n      <td>LINESTRING Z (-113.518024800904 37.45863600852...</td>\n      <td>0.000000</td>\n      <td>0.2</td>\n      <td>0.000000</td>\n      <td>1.000000</td>\n    </tr>\n    <tr>\n      <th>187027</th>\n      <td>187027</td>\n      <td>800064820</td>\n      <td>LINESTRING Z (-113.536599000875 37.45562920852...</td>\n      <td>0.000000</td>\n      <td>0.1</td>\n      <td>0.000000</td>\n      <td>1.000000</td>\n    </tr>\n  </tbody>\n</table>\n<p>187028 rows × 7 columns</p>\n</div>"
     },
     "metadata": {},
     "execution_count": 9
    }
   ],
   "source": [
    "# whateven = pd.read_csv(\"/Users/rachelspinti/Documents/grand_percent_dor_colo.csv\")\n",
    "# whateven"
   ]
  },
  {
   "cell_type": "code",
   "execution_count": 16,
   "metadata": {},
   "outputs": [
    {
     "output_type": "execute_result",
     "data": {
      "text/plain": [
       "numpy.float64"
      ]
     },
     "metadata": {},
     "execution_count": 16
    }
   ],
   "source": [
    "# type(whateven.percent_dor[187026])"
   ]
  },
  {
   "cell_type": "code",
   "execution_count": null,
   "metadata": {},
   "outputs": [],
   "source": []
  }
 ]
}