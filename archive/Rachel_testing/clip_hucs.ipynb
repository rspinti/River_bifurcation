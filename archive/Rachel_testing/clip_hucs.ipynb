{
 "metadata": {
  "language_info": {
   "codemirror_mode": {
    "name": "ipython",
    "version": 3
   },
   "file_extension": ".py",
   "mimetype": "text/x-python",
   "name": "python",
   "nbconvert_exporter": "python",
   "pygments_lexer": "ipython3",
   "version": "3.8.2"
  },
  "orig_nbformat": 2,
  "kernelspec": {
   "name": "python382jvsc74a57bd0eb2e4c371ff851f574b3a23a24f12dff57252d9866a45d47014a944f9924fa20",
   "display_name": "Python 3.8.2 64-bit ('research_env': conda)"
  }
 },
 "nbformat": 4,
 "nbformat_minor": 2,
 "cells": [
  {
   "source": [
    "# Clip HUCs\n",
    "Figuring out how to clip hucs to a certain extent to get rid of white space outside of the U.S."
   ],
   "cell_type": "markdown",
   "metadata": {}
  },
  {
   "cell_type": "code",
   "execution_count": 1,
   "metadata": {},
   "outputs": [],
   "source": [
    "import pandas as pd, geopandas as gp, numpy as np, matplotlib.pyplot as plt"
   ]
  },
  {
   "cell_type": "code",
   "execution_count": 9,
   "metadata": {},
   "outputs": [],
   "source": [
    "huc2_location = \"/Volumes/GoogleDrive/My Drive/Condon_Research_Group/Research_Projects/Rachel/Research/GIS/New_HUC2_shp/\"\n",
    "folder = 'hucs/'\n",
    "gdrive = \"/Volumes/GoogleDrive/My Drive/Condon_Research_Group/Research_Projects/Rachel/Research/Data/bifurcation_data_repo/\" #where shapefiles/csv live \n"
   ]
  },
  {
   "cell_type": "code",
   "execution_count": null,
   "metadata": {},
   "outputs": [],
   "source": [
    "huc2 = gp.read_file(huc2_location)\n",
    "huc8 = gp.read_file(gdrive+folder+\"HUC8_US_reproj.shp\")"
   ]
  },
  {
   "cell_type": "code",
   "execution_count": 3,
   "metadata": {},
   "outputs": [
    {
     "output_type": "execute_result",
     "data": {
      "text/plain": [
       "      OBJECTID                                   TNMID MetaSource SourceData  \\\n",
       "0            1  {C20B007A-FBEB-46C5-8F10-A55A6A3B3A22}       None       None   \n",
       "1            2  {7ED9F4AC-4F02-42D2-98B3-8B2B67BF6755}       None       None   \n",
       "2            3  {AFD8B13C-10BB-458A-8A57-14277AEDCBA3}       None       None   \n",
       "3            4  {E8EB0B22-996C-4AB6-8B2A-B7072705DE1E}       None       None   \n",
       "4            5  {601F4145-AA78-4360-B079-1C4FD6B89DD1}       None       None   \n",
       "...        ...                                     ...        ...        ...   \n",
       "2114       303  {17ADFD44-59D3-4B7C-8D22-BFF86C16192E}       None       None   \n",
       "2115       304  {38862CE8-B4C0-43C4-9E7D-E61AEC4FD51A}       None       None   \n",
       "2116       305  {D8526624-0926-421A-B811-382F7F6D65E3}       None       None   \n",
       "2117       306  {C8966803-EFBE-4D8E-936A-05CAB4EF7CE7}       None       None   \n",
       "2118       307  {BD97E305-4BFC-4101-B626-1269DCDEAA54}       None       None   \n",
       "\n",
       "     SourceOrig SourceFeat    LoadDate  AreaSqKm   AreaAcres  GNIS_ID  \\\n",
       "0          None       None  2012-06-11   3725.91   920691.02        0   \n",
       "1          None       None  2012-06-11   4170.92  1030656.11        0   \n",
       "2          None       None  2012-06-11   1875.15   463358.54        0   \n",
       "3          None       None  2012-06-11   2539.81   627600.85        0   \n",
       "4          None       None  2012-06-11   3684.31   910412.81        0   \n",
       "...         ...        ...         ...       ...         ...      ...   \n",
       "2114       None       None  2016-10-17  13790.18  3407624.57        0   \n",
       "2115       None       None  2012-06-11   2257.87   557932.00        0   \n",
       "2116       None       None  2016-10-18   6619.37  1635681.26        0   \n",
       "2117       None       None  2012-06-11   3360.97   830512.01        0   \n",
       "2118       None       None  2012-06-11   2757.26   681332.12        0   \n",
       "\n",
       "                    Name    States      HUC8  Shape_Leng  Shape_Area   layer  \\\n",
       "0             Williamson        OR  18010201    4.482972    0.410933  WBDHU8   \n",
       "1                Sprague        OR  18010202    4.944516    0.457253  WBDHU8   \n",
       "2     Upper Klamath Lake        OR  18010203    3.104636    0.205373  WBDHU8   \n",
       "3                  Smith     CA,OR  18010101    3.260496    0.275191  WBDHU8   \n",
       "4            Mad-Redwood        CA  18010102    5.596487    0.393564  WBDHU8   \n",
       "...                  ...       ...       ...         ...         ...     ...   \n",
       "2114   Lower Yellowstone     MT,ND  10100004    9.619302    1.638839  WBDHU8   \n",
       "2115              Beaver     MT,ND  10110204    3.860412    0.266862  WBDHU8   \n",
       "2116             Madison  ID,MT,WY  10020007    8.455862    0.755518  WBDHU8   \n",
       "2117      Little Bighorn     MT,WY  10080016    4.056201    0.384959  WBDHU8   \n",
       "2118       Middle Powder     MT,WY  10090207    3.981229    0.315267  WBDHU8   \n",
       "\n",
       "                                                   path   HUC8_no  \\\n",
       "0     /Users/junzhang/Documents/DATA/HUC/Shape-17/WB...  18010201   \n",
       "1     /Users/junzhang/Documents/DATA/HUC/Shape-17/WB...  18010202   \n",
       "2     /Users/junzhang/Documents/DATA/HUC/Shape-17/WB...  18010203   \n",
       "3     /Users/junzhang/Documents/DATA/HUC/Shape-17/WB...  18010101   \n",
       "4     /Users/junzhang/Documents/DATA/HUC/Shape-17/WB...  18010102   \n",
       "...                                                 ...       ...   \n",
       "2114  /Users/junzhang/Documents/DATA/HUC/Shape-9/WBD...  10100004   \n",
       "2115  /Users/junzhang/Documents/DATA/HUC/Shape-9/WBD...  10110204   \n",
       "2116  /Users/junzhang/Documents/DATA/HUC/Shape-9/WBD...  10020007   \n",
       "2117  /Users/junzhang/Documents/DATA/HUC/Shape-9/WBD...  10080016   \n",
       "2118  /Users/junzhang/Documents/DATA/HUC/Shape-9/WBD...  10090207   \n",
       "\n",
       "                                               geometry  \n",
       "0     POLYGON ((-121.63690 43.34029, -121.63714 43.3...  \n",
       "1     POLYGON ((-121.30858 42.94483, -121.30806 42.9...  \n",
       "2     POLYGON ((-122.13466 42.91026, -122.13424 42.9...  \n",
       "3     POLYGON ((-123.93480 42.13416, -123.93415 42.1...  \n",
       "4     POLYGON ((-124.07373 41.51179, -124.07334 41.5...  \n",
       "...                                                 ...  \n",
       "2114  POLYGON ((-103.97063 47.98092, -103.97059 47.9...  \n",
       "2115  POLYGON ((-103.80102 47.39704, -103.80054 47.3...  \n",
       "2116  POLYGON ((-111.49947 45.91989, -111.49906 45.9...  \n",
       "2117  POLYGON ((-107.55137 45.75278, -107.55064 45.7...  \n",
       "2118  POLYGON ((-105.43486 45.50321, -105.43426 45.5...  \n",
       "\n",
       "[2119 rows x 19 columns]"
      ],
      "text/html": "<div>\n<style scoped>\n    .dataframe tbody tr th:only-of-type {\n        vertical-align: middle;\n    }\n\n    .dataframe tbody tr th {\n        vertical-align: top;\n    }\n\n    .dataframe thead th {\n        text-align: right;\n    }\n</style>\n<table border=\"1\" class=\"dataframe\">\n  <thead>\n    <tr style=\"text-align: right;\">\n      <th></th>\n      <th>OBJECTID</th>\n      <th>TNMID</th>\n      <th>MetaSource</th>\n      <th>SourceData</th>\n      <th>SourceOrig</th>\n      <th>SourceFeat</th>\n      <th>LoadDate</th>\n      <th>AreaSqKm</th>\n      <th>AreaAcres</th>\n      <th>GNIS_ID</th>\n      <th>Name</th>\n      <th>States</th>\n      <th>HUC8</th>\n      <th>Shape_Leng</th>\n      <th>Shape_Area</th>\n      <th>layer</th>\n      <th>path</th>\n      <th>HUC8_no</th>\n      <th>geometry</th>\n    </tr>\n  </thead>\n  <tbody>\n    <tr>\n      <th>0</th>\n      <td>1</td>\n      <td>{C20B007A-FBEB-46C5-8F10-A55A6A3B3A22}</td>\n      <td>None</td>\n      <td>None</td>\n      <td>None</td>\n      <td>None</td>\n      <td>2012-06-11</td>\n      <td>3725.91</td>\n      <td>920691.02</td>\n      <td>0</td>\n      <td>Williamson</td>\n      <td>OR</td>\n      <td>18010201</td>\n      <td>4.482972</td>\n      <td>0.410933</td>\n      <td>WBDHU8</td>\n      <td>/Users/junzhang/Documents/DATA/HUC/Shape-17/WB...</td>\n      <td>18010201</td>\n      <td>POLYGON ((-121.63690 43.34029, -121.63714 43.3...</td>\n    </tr>\n    <tr>\n      <th>1</th>\n      <td>2</td>\n      <td>{7ED9F4AC-4F02-42D2-98B3-8B2B67BF6755}</td>\n      <td>None</td>\n      <td>None</td>\n      <td>None</td>\n      <td>None</td>\n      <td>2012-06-11</td>\n      <td>4170.92</td>\n      <td>1030656.11</td>\n      <td>0</td>\n      <td>Sprague</td>\n      <td>OR</td>\n      <td>18010202</td>\n      <td>4.944516</td>\n      <td>0.457253</td>\n      <td>WBDHU8</td>\n      <td>/Users/junzhang/Documents/DATA/HUC/Shape-17/WB...</td>\n      <td>18010202</td>\n      <td>POLYGON ((-121.30858 42.94483, -121.30806 42.9...</td>\n    </tr>\n    <tr>\n      <th>2</th>\n      <td>3</td>\n      <td>{AFD8B13C-10BB-458A-8A57-14277AEDCBA3}</td>\n      <td>None</td>\n      <td>None</td>\n      <td>None</td>\n      <td>None</td>\n      <td>2012-06-11</td>\n      <td>1875.15</td>\n      <td>463358.54</td>\n      <td>0</td>\n      <td>Upper Klamath Lake</td>\n      <td>OR</td>\n      <td>18010203</td>\n      <td>3.104636</td>\n      <td>0.205373</td>\n      <td>WBDHU8</td>\n      <td>/Users/junzhang/Documents/DATA/HUC/Shape-17/WB...</td>\n      <td>18010203</td>\n      <td>POLYGON ((-122.13466 42.91026, -122.13424 42.9...</td>\n    </tr>\n    <tr>\n      <th>3</th>\n      <td>4</td>\n      <td>{E8EB0B22-996C-4AB6-8B2A-B7072705DE1E}</td>\n      <td>None</td>\n      <td>None</td>\n      <td>None</td>\n      <td>None</td>\n      <td>2012-06-11</td>\n      <td>2539.81</td>\n      <td>627600.85</td>\n      <td>0</td>\n      <td>Smith</td>\n      <td>CA,OR</td>\n      <td>18010101</td>\n      <td>3.260496</td>\n      <td>0.275191</td>\n      <td>WBDHU8</td>\n      <td>/Users/junzhang/Documents/DATA/HUC/Shape-17/WB...</td>\n      <td>18010101</td>\n      <td>POLYGON ((-123.93480 42.13416, -123.93415 42.1...</td>\n    </tr>\n    <tr>\n      <th>4</th>\n      <td>5</td>\n      <td>{601F4145-AA78-4360-B079-1C4FD6B89DD1}</td>\n      <td>None</td>\n      <td>None</td>\n      <td>None</td>\n      <td>None</td>\n      <td>2012-06-11</td>\n      <td>3684.31</td>\n      <td>910412.81</td>\n      <td>0</td>\n      <td>Mad-Redwood</td>\n      <td>CA</td>\n      <td>18010102</td>\n      <td>5.596487</td>\n      <td>0.393564</td>\n      <td>WBDHU8</td>\n      <td>/Users/junzhang/Documents/DATA/HUC/Shape-17/WB...</td>\n      <td>18010102</td>\n      <td>POLYGON ((-124.07373 41.51179, -124.07334 41.5...</td>\n    </tr>\n    <tr>\n      <th>...</th>\n      <td>...</td>\n      <td>...</td>\n      <td>...</td>\n      <td>...</td>\n      <td>...</td>\n      <td>...</td>\n      <td>...</td>\n      <td>...</td>\n      <td>...</td>\n      <td>...</td>\n      <td>...</td>\n      <td>...</td>\n      <td>...</td>\n      <td>...</td>\n      <td>...</td>\n      <td>...</td>\n      <td>...</td>\n      <td>...</td>\n      <td>...</td>\n    </tr>\n    <tr>\n      <th>2114</th>\n      <td>303</td>\n      <td>{17ADFD44-59D3-4B7C-8D22-BFF86C16192E}</td>\n      <td>None</td>\n      <td>None</td>\n      <td>None</td>\n      <td>None</td>\n      <td>2016-10-17</td>\n      <td>13790.18</td>\n      <td>3407624.57</td>\n      <td>0</td>\n      <td>Lower Yellowstone</td>\n      <td>MT,ND</td>\n      <td>10100004</td>\n      <td>9.619302</td>\n      <td>1.638839</td>\n      <td>WBDHU8</td>\n      <td>/Users/junzhang/Documents/DATA/HUC/Shape-9/WBD...</td>\n      <td>10100004</td>\n      <td>POLYGON ((-103.97063 47.98092, -103.97059 47.9...</td>\n    </tr>\n    <tr>\n      <th>2115</th>\n      <td>304</td>\n      <td>{38862CE8-B4C0-43C4-9E7D-E61AEC4FD51A}</td>\n      <td>None</td>\n      <td>None</td>\n      <td>None</td>\n      <td>None</td>\n      <td>2012-06-11</td>\n      <td>2257.87</td>\n      <td>557932.00</td>\n      <td>0</td>\n      <td>Beaver</td>\n      <td>MT,ND</td>\n      <td>10110204</td>\n      <td>3.860412</td>\n      <td>0.266862</td>\n      <td>WBDHU8</td>\n      <td>/Users/junzhang/Documents/DATA/HUC/Shape-9/WBD...</td>\n      <td>10110204</td>\n      <td>POLYGON ((-103.80102 47.39704, -103.80054 47.3...</td>\n    </tr>\n    <tr>\n      <th>2116</th>\n      <td>305</td>\n      <td>{D8526624-0926-421A-B811-382F7F6D65E3}</td>\n      <td>None</td>\n      <td>None</td>\n      <td>None</td>\n      <td>None</td>\n      <td>2016-10-18</td>\n      <td>6619.37</td>\n      <td>1635681.26</td>\n      <td>0</td>\n      <td>Madison</td>\n      <td>ID,MT,WY</td>\n      <td>10020007</td>\n      <td>8.455862</td>\n      <td>0.755518</td>\n      <td>WBDHU8</td>\n      <td>/Users/junzhang/Documents/DATA/HUC/Shape-9/WBD...</td>\n      <td>10020007</td>\n      <td>POLYGON ((-111.49947 45.91989, -111.49906 45.9...</td>\n    </tr>\n    <tr>\n      <th>2117</th>\n      <td>306</td>\n      <td>{C8966803-EFBE-4D8E-936A-05CAB4EF7CE7}</td>\n      <td>None</td>\n      <td>None</td>\n      <td>None</td>\n      <td>None</td>\n      <td>2012-06-11</td>\n      <td>3360.97</td>\n      <td>830512.01</td>\n      <td>0</td>\n      <td>Little Bighorn</td>\n      <td>MT,WY</td>\n      <td>10080016</td>\n      <td>4.056201</td>\n      <td>0.384959</td>\n      <td>WBDHU8</td>\n      <td>/Users/junzhang/Documents/DATA/HUC/Shape-9/WBD...</td>\n      <td>10080016</td>\n      <td>POLYGON ((-107.55137 45.75278, -107.55064 45.7...</td>\n    </tr>\n    <tr>\n      <th>2118</th>\n      <td>307</td>\n      <td>{BD97E305-4BFC-4101-B626-1269DCDEAA54}</td>\n      <td>None</td>\n      <td>None</td>\n      <td>None</td>\n      <td>None</td>\n      <td>2012-06-11</td>\n      <td>2757.26</td>\n      <td>681332.12</td>\n      <td>0</td>\n      <td>Middle Powder</td>\n      <td>MT,WY</td>\n      <td>10090207</td>\n      <td>3.981229</td>\n      <td>0.315267</td>\n      <td>WBDHU8</td>\n      <td>/Users/junzhang/Documents/DATA/HUC/Shape-9/WBD...</td>\n      <td>10090207</td>\n      <td>POLYGON ((-105.43486 45.50321, -105.43426 45.5...</td>\n    </tr>\n  </tbody>\n</table>\n<p>2119 rows × 19 columns</p>\n</div>"
     },
     "metadata": {},
     "execution_count": 3
    }
   ],
   "source": [
    "huc8"
   ]
  },
  {
   "cell_type": "code",
   "execution_count": 4,
   "metadata": {},
   "outputs": [],
   "source": [
    "huc2_clip = gp.clip(huc2, huc8)\n",
    "huc2_clip"
   ]
  },
  {
   "source": [
    "## JUNK"
   ],
   "cell_type": "markdown",
   "metadata": {}
  },
  {
   "cell_type": "code",
   "execution_count": 32,
   "metadata": {},
   "outputs": [],
   "source": [
    "nabd = gp.read_file(gdrive+'nabd/nabd_corrected_reprojected.shp')"
   ]
  },
  {
   "cell_type": "code",
   "execution_count": 33,
   "metadata": {},
   "outputs": [
    {
     "output_type": "execute_result",
     "data": {
      "text/plain": [
       "0           HI\n",
       "1        CHORS\n",
       "2           HR\n",
       "3         None\n",
       "4          CIO\n",
       "         ...  \n",
       "51881     None\n",
       "51882     None\n",
       "51883     None\n",
       "51884     None\n",
       "51885     None\n",
       "Name: Purposes, Length: 51886, dtype: object"
      ]
     },
     "metadata": {},
     "execution_count": 33
    }
   ],
   "source": [
    "nabd.Purposes"
   ]
  },
  {
   "cell_type": "code",
   "execution_count": 34,
   "metadata": {},
   "outputs": [
    {
     "output_type": "stream",
     "name": "stderr",
     "text": [
      "<ipython-input-34-6c7e957dd859>:4: SettingWithCopyWarning: \n",
      "A value is trying to be set on a copy of a slice from a DataFrame\n",
      "\n",
      "See the caveats in the documentation: http://pandas.pydata.org/pandas-docs/stable/user_guide/indexing.html#returning-a-view-versus-a-copy\n",
      "  nabd[\"Purposes\"][i] ='NaN'\n",
      "<ipython-input-34-6c7e957dd859>:10: SettingWithCopyWarning: \n",
      "A value is trying to be set on a copy of a slice from a DataFrame\n",
      "\n",
      "See the caveats in the documentation: http://pandas.pydata.org/pandas-docs/stable/user_guide/indexing.html#returning-a-view-versus-a-copy\n",
      "  nabd[\"Purposes\"][i] = \"Hydroelectric\"\n",
      "<ipython-input-34-6c7e957dd859>:8: SettingWithCopyWarning: \n",
      "A value is trying to be set on a copy of a slice from a DataFrame\n",
      "\n",
      "See the caveats in the documentation: http://pandas.pydata.org/pandas-docs/stable/user_guide/indexing.html#returning-a-view-versus-a-copy\n",
      "  nabd[\"Purposes\"][i] = \"Flood control\"\n",
      "<ipython-input-34-6c7e957dd859>:14: SettingWithCopyWarning: \n",
      "A value is trying to be set on a copy of a slice from a DataFrame\n",
      "\n",
      "See the caveats in the documentation: http://pandas.pydata.org/pandas-docs/stable/user_guide/indexing.html#returning-a-view-versus-a-copy\n",
      "  nabd[\"Purposes\"][i] = \"Other\"\n",
      "<ipython-input-34-6c7e957dd859>:12: SettingWithCopyWarning: \n",
      "A value is trying to be set on a copy of a slice from a DataFrame\n",
      "\n",
      "See the caveats in the documentation: http://pandas.pydata.org/pandas-docs/stable/user_guide/indexing.html#returning-a-view-versus-a-copy\n",
      "  nabd[\"Purposes\"][i] = \"Water Supply\"\n"
     ]
    }
   ],
   "source": [
    " #Renaming the purposes for easier filtering\n",
    "for i in range(len(nabd)):\n",
    "    if nabd[\"Purposes\"][i] is None:\n",
    "        nabd[\"Purposes\"][i] ='NaN'\n",
    "\n",
    "for i in range(len(nabd)):\n",
    "        if nabd[\"Purposes\"][i][0] == 'D' or nabd[\"Purposes\"][i][0] == 'C' or nabd[\"Purposes\"][i][0] == 'G' or nabd[\"Purposes\"][i][0] == 'T':\n",
    "            nabd[\"Purposes\"][i] = \"Flood control\"\n",
    "        elif nabd[\"Purposes\"][i][0] == 'H':\n",
    "            nabd[\"Purposes\"][i] = \"Hydroelectric\"\n",
    "        elif nabd[\"Purposes\"][i][0] == 'F' or nabd[\"Purposes\"][i][0] == 'I' or nabd[\"Purposes\"][i][0] == 'P' or nabd[\"Purposes\"][i][0] == 'S' or nabd[\"Purposes\"][i][0] == 'p':\n",
    "            nabd[\"Purposes\"][i] = \"Water Supply\"\n",
    "        elif nabd[\"Purposes\"][i][0] == 'E' or nabd[\"Purposes\"][i][0] == 'O' or nabd[\"Purposes\"][i][0] == 'N' or nabd[\"Purposes\"][i][0] == 'R' or nabd[\"Purposes\"][i][0] == 'NaN':\n",
    "            nabd[\"Purposes\"][i] = \"Other\""
   ]
  },
  {
   "cell_type": "code",
   "execution_count": 35,
   "metadata": {},
   "outputs": [
    {
     "output_type": "execute_result",
     "data": {
      "text/plain": [
       "Index(['COMID', 'COMMENT', 'City', 'Cond_Date', 'Cond_desc', 'Condition',\n",
       "       'Core', 'County', 'Dam_Name2', 'Dam_former', 'Dam_height', 'Dam_length',\n",
       "       'Dam_name', 'Dam_type', 'Designer', 'Distance', 'Drain_area', 'EAP',\n",
       "       'Foundation', 'Hazard', 'Hyd_Height', 'Insp_Freq', 'Inspection',\n",
       "       'Len_locks', 'Max_Disch', 'Max_stor', 'NIDID', 'NID_height', 'NID_stor',\n",
       "       'Norm_stor', 'Num_locks', 'Outlet_gat', 'Owner_name', 'Owner_type',\n",
       "       'Private', 'Purposes', 'RecordID', 'River', 'STATEID', 'Section',\n",
       "       'Source', 'Spill_type', 'Spill_wid', 'St_reg', 'St_reg_ag', 'State',\n",
       "       'Str_Height', 'Surf_area', 'UNIQUE_STR', 'Volume', 'Wid_locks',\n",
       "       'Year_compl', 'Year_modif', 'newX', 'newY', 'geometry'],\n",
       "      dtype='object')"
      ]
     },
     "metadata": {},
     "execution_count": 35
    }
   ],
   "source": [
    "nabd.Purposes\n",
    "nabd.columns"
   ]
  },
  {
   "cell_type": "code",
   "execution_count": 36,
   "metadata": {},
   "outputs": [],
   "source": [
    "nabd = nabd[['COMID', 'NIDID', 'Norm_stor', 'Max_stor', 'Year_compl', 'Purposes', 'geometry']]"
   ]
  },
  {
   "cell_type": "code",
   "execution_count": 37,
   "metadata": {},
   "outputs": [
    {
     "output_type": "execute_result",
     "data": {
      "text/plain": [
       "         COMID    NIDID  Norm_stor  Max_stor  Year_compl       Purposes  \\\n",
       "0   15951436.0  WY01290   184405.0  184405.0      1937.0  Hydroelectric   \n",
       "1   22001320.0  AR01205   654700.0       NaN      1969.0  Flood control   \n",
       "2  948040323.0  CA00434    89166.0   89800.0      1917.0  Hydroelectric   \n",
       "3    2806979.0  CA01546    96850.0       NaN      2018.0          Other   \n",
       "4   17635380.0  CA10197   151050.0  398120.0      1958.0  Flood control   \n",
       "\n",
       "                      geometry  \n",
       "0  POINT (-107.19667 42.54793)  \n",
       "1   POINT (-93.00917 34.25111)  \n",
       "2  POINT (-119.22130 37.22860)  \n",
       "3  POINT (-121.81780 37.49520)  \n",
       "4  POINT (-120.32400 34.98620)  "
      ],
      "text/html": "<div>\n<style scoped>\n    .dataframe tbody tr th:only-of-type {\n        vertical-align: middle;\n    }\n\n    .dataframe tbody tr th {\n        vertical-align: top;\n    }\n\n    .dataframe thead th {\n        text-align: right;\n    }\n</style>\n<table border=\"1\" class=\"dataframe\">\n  <thead>\n    <tr style=\"text-align: right;\">\n      <th></th>\n      <th>COMID</th>\n      <th>NIDID</th>\n      <th>Norm_stor</th>\n      <th>Max_stor</th>\n      <th>Year_compl</th>\n      <th>Purposes</th>\n      <th>geometry</th>\n    </tr>\n  </thead>\n  <tbody>\n    <tr>\n      <th>0</th>\n      <td>15951436.0</td>\n      <td>WY01290</td>\n      <td>184405.0</td>\n      <td>184405.0</td>\n      <td>1937.0</td>\n      <td>Hydroelectric</td>\n      <td>POINT (-107.19667 42.54793)</td>\n    </tr>\n    <tr>\n      <th>1</th>\n      <td>22001320.0</td>\n      <td>AR01205</td>\n      <td>654700.0</td>\n      <td>NaN</td>\n      <td>1969.0</td>\n      <td>Flood control</td>\n      <td>POINT (-93.00917 34.25111)</td>\n    </tr>\n    <tr>\n      <th>2</th>\n      <td>948040323.0</td>\n      <td>CA00434</td>\n      <td>89166.0</td>\n      <td>89800.0</td>\n      <td>1917.0</td>\n      <td>Hydroelectric</td>\n      <td>POINT (-119.22130 37.22860)</td>\n    </tr>\n    <tr>\n      <th>3</th>\n      <td>2806979.0</td>\n      <td>CA01546</td>\n      <td>96850.0</td>\n      <td>NaN</td>\n      <td>2018.0</td>\n      <td>Other</td>\n      <td>POINT (-121.81780 37.49520)</td>\n    </tr>\n    <tr>\n      <th>4</th>\n      <td>17635380.0</td>\n      <td>CA10197</td>\n      <td>151050.0</td>\n      <td>398120.0</td>\n      <td>1958.0</td>\n      <td>Flood control</td>\n      <td>POINT (-120.32400 34.98620)</td>\n    </tr>\n  </tbody>\n</table>\n</div>"
     },
     "metadata": {},
     "execution_count": 37
    }
   ],
   "source": [
    "nabd.head()"
   ]
  },
  {
   "cell_type": "code",
   "execution_count": 38,
   "metadata": {},
   "outputs": [],
   "source": [
    "nabd.to_file(gdrive+\"nabd/nabd_corrected_purp.shp\")"
   ]
  },
  {
   "cell_type": "code",
   "execution_count": 39,
   "metadata": {},
   "outputs": [
    {
     "output_type": "execute_result",
     "data": {
      "text/plain": [
       "array(['Hydroelectric', 'Flood control', 'Other', 'Water Supply'],\n",
       "      dtype=object)"
      ]
     },
     "metadata": {},
     "execution_count": 39
    }
   ],
   "source": [
    "nabd.Purposes.unique()"
   ]
  },
  {
   "cell_type": "code",
   "execution_count": null,
   "metadata": {},
   "outputs": [],
   "source": []
  }
 ]
}