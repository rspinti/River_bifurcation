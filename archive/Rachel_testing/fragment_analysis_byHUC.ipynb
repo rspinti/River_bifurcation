{
 "cells": [
  {
   "source": [
    "# How to get stuff summarized by fragment into the HUC shapefiles\n",
    "To try:\n",
    "- add HUC 2/4 columns to fragments\n",
    "- create new dataframe with each HUC 2 and append each river basin fragment to it with columns we want\n",
    "- create new dataframe with each HUC 4 and append each river basin fragment to it with columns we want\n",
    "- merge this with the HUC2 and HUC 4 shapefiles"
   ],
   "cell_type": "markdown",
   "metadata": {}
  },
  {
   "cell_type": "code",
   "execution_count": 1,
   "metadata": {},
   "outputs": [],
   "source": [
    "import geopandas as gp, pandas as pd, matplotlib as mpl, numpy as np\n",
    "from pathlib import Path\n",
    "gdrive = Path(\"/Volumes/GoogleDrive/My Drive/Condon_Research_Group/Research_Projects/Rachel/Research/Data/bifurcation_data_repo\") #where shapefiles/csv "
   ]
  },
  {
   "cell_type": "code",
   "execution_count": 2,
   "metadata": {},
   "outputs": [
    {
     "output_type": "execute_result",
     "data": {
      "text/plain": [
       "             Frag  DamCount   HUC4  LENGTHKM    Norm_stor  Frag_Index  \\\n",
       "0    1.978500e+04         1  902.0   998.014  130748880.0         1.0   \n",
       "1    1.978800e+04         1  902.0   183.573     863436.0         2.0   \n",
       "2    1.978900e+04         1  902.0     3.585     493392.0         3.0   \n",
       "3    1.979000e+04         1  902.0    21.312    4317180.0         4.0   \n",
       "4    1.979100e+04         1  902.0    37.268   15393830.4         5.0   \n",
       "..            ...       ...    ...       ...          ...         ...   \n",
       "475  9.990000e+09         0  904.0     3.178          0.0       476.0   \n",
       "476  9.990000e+09         0  904.0   207.128          0.0       477.0   \n",
       "477  9.990000e+09         0  904.0    16.293          0.0       478.0   \n",
       "478  9.990000e+09         0  904.0   160.807          0.0       479.0   \n",
       "479  9.990000e+09         0  904.0     2.789          0.0       480.0   \n",
       "\n",
       "      DnHydroseq         QC_MA   FragDn  HeadFlag  \n",
       "0    840002034.0  1.034610e+08  28177.0       1.0  \n",
       "1    840003772.0  1.709735e+07  19785.0       1.0  \n",
       "2    840004171.0  7.724438e+05  19788.0       1.0  \n",
       "3    840004401.0  2.573622e+07  19800.0       1.0  \n",
       "4    840005270.0  1.608201e+07  19790.0       1.0  \n",
       "..           ...           ...      ...       ...  \n",
       "475          NaN           NaN      NaN       1.0  \n",
       "476          NaN           NaN      NaN       1.0  \n",
       "477          NaN           NaN      NaN       1.0  \n",
       "478          NaN           NaN      NaN       1.0  \n",
       "479          NaN           NaN      NaN       1.0  \n",
       "\n",
       "[480 rows x 10 columns]"
      ],
      "text/html": "<div>\n<style scoped>\n    .dataframe tbody tr th:only-of-type {\n        vertical-align: middle;\n    }\n\n    .dataframe tbody tr th {\n        vertical-align: top;\n    }\n\n    .dataframe thead th {\n        text-align: right;\n    }\n</style>\n<table border=\"1\" class=\"dataframe\">\n  <thead>\n    <tr style=\"text-align: right;\">\n      <th></th>\n      <th>Frag</th>\n      <th>DamCount</th>\n      <th>HUC4</th>\n      <th>LENGTHKM</th>\n      <th>Norm_stor</th>\n      <th>Frag_Index</th>\n      <th>DnHydroseq</th>\n      <th>QC_MA</th>\n      <th>FragDn</th>\n      <th>HeadFlag</th>\n    </tr>\n  </thead>\n  <tbody>\n    <tr>\n      <th>0</th>\n      <td>1.978500e+04</td>\n      <td>1</td>\n      <td>902.0</td>\n      <td>998.014</td>\n      <td>130748880.0</td>\n      <td>1.0</td>\n      <td>840002034.0</td>\n      <td>1.034610e+08</td>\n      <td>28177.0</td>\n      <td>1.0</td>\n    </tr>\n    <tr>\n      <th>1</th>\n      <td>1.978800e+04</td>\n      <td>1</td>\n      <td>902.0</td>\n      <td>183.573</td>\n      <td>863436.0</td>\n      <td>2.0</td>\n      <td>840003772.0</td>\n      <td>1.709735e+07</td>\n      <td>19785.0</td>\n      <td>1.0</td>\n    </tr>\n    <tr>\n      <th>2</th>\n      <td>1.978900e+04</td>\n      <td>1</td>\n      <td>902.0</td>\n      <td>3.585</td>\n      <td>493392.0</td>\n      <td>3.0</td>\n      <td>840004171.0</td>\n      <td>7.724438e+05</td>\n      <td>19788.0</td>\n      <td>1.0</td>\n    </tr>\n    <tr>\n      <th>3</th>\n      <td>1.979000e+04</td>\n      <td>1</td>\n      <td>902.0</td>\n      <td>21.312</td>\n      <td>4317180.0</td>\n      <td>4.0</td>\n      <td>840004401.0</td>\n      <td>2.573622e+07</td>\n      <td>19800.0</td>\n      <td>1.0</td>\n    </tr>\n    <tr>\n      <th>4</th>\n      <td>1.979100e+04</td>\n      <td>1</td>\n      <td>902.0</td>\n      <td>37.268</td>\n      <td>15393830.4</td>\n      <td>5.0</td>\n      <td>840005270.0</td>\n      <td>1.608201e+07</td>\n      <td>19790.0</td>\n      <td>1.0</td>\n    </tr>\n    <tr>\n      <th>...</th>\n      <td>...</td>\n      <td>...</td>\n      <td>...</td>\n      <td>...</td>\n      <td>...</td>\n      <td>...</td>\n      <td>...</td>\n      <td>...</td>\n      <td>...</td>\n      <td>...</td>\n    </tr>\n    <tr>\n      <th>475</th>\n      <td>9.990000e+09</td>\n      <td>0</td>\n      <td>904.0</td>\n      <td>3.178</td>\n      <td>0.0</td>\n      <td>476.0</td>\n      <td>NaN</td>\n      <td>NaN</td>\n      <td>NaN</td>\n      <td>1.0</td>\n    </tr>\n    <tr>\n      <th>476</th>\n      <td>9.990000e+09</td>\n      <td>0</td>\n      <td>904.0</td>\n      <td>207.128</td>\n      <td>0.0</td>\n      <td>477.0</td>\n      <td>NaN</td>\n      <td>NaN</td>\n      <td>NaN</td>\n      <td>1.0</td>\n    </tr>\n    <tr>\n      <th>477</th>\n      <td>9.990000e+09</td>\n      <td>0</td>\n      <td>904.0</td>\n      <td>16.293</td>\n      <td>0.0</td>\n      <td>478.0</td>\n      <td>NaN</td>\n      <td>NaN</td>\n      <td>NaN</td>\n      <td>1.0</td>\n    </tr>\n    <tr>\n      <th>478</th>\n      <td>9.990000e+09</td>\n      <td>0</td>\n      <td>904.0</td>\n      <td>160.807</td>\n      <td>0.0</td>\n      <td>479.0</td>\n      <td>NaN</td>\n      <td>NaN</td>\n      <td>NaN</td>\n      <td>1.0</td>\n    </tr>\n    <tr>\n      <th>479</th>\n      <td>9.990000e+09</td>\n      <td>0</td>\n      <td>904.0</td>\n      <td>2.789</td>\n      <td>0.0</td>\n      <td>480.0</td>\n      <td>NaN</td>\n      <td>NaN</td>\n      <td>NaN</td>\n      <td>1.0</td>\n    </tr>\n  </tbody>\n</table>\n<p>480 rows × 10 columns</p>\n</div>"
     },
     "metadata": {},
     "execution_count": 2
    }
   ],
   "source": [
    "red_frag = pd.read_csv(gdrive/'all_basins_unfiltered/Red_fragments.csv')\n",
    "red_frag"
   ]
  },
  {
   "cell_type": "code",
   "execution_count": 3,
   "metadata": {},
   "outputs": [
    {
     "output_type": "execute_result",
     "data": {
      "text/plain": [
       "             Norm_stor  DamCount  LENGTHKM         QC_MA  DnHydroseq  \\\n",
       "Hydroseq                                                               \n",
       "840002063  130748880.0         1     2.044  1.034610e+08   840002034   \n",
       "840000151    6599118.0         2     6.137  2.363697e+09   840000150   \n",
       "840003868     863436.0         1     1.072  1.709735e+07   840003772   \n",
       "840028840     493392.0         1     3.585  7.724438e+05   840004171   \n",
       "840004526    4317180.0         1     0.230  2.573622e+07   840004401   \n",
       "...                ...       ...       ...           ...         ...   \n",
       "590069290          0.0         0     0.234  2.137839e+06   590065190   \n",
       "590109874          0.0         0     0.038  1.293955e+06   590096771   \n",
       "590096771          0.0         0     0.072  1.318066e+06   590081458   \n",
       "590160491          0.0         0     0.103  6.661770e+05   590129226   \n",
       "590129226          0.0         0     0.270  1.289490e+06   590109874   \n",
       "\n",
       "           Norm_stor_up  DamCount_up  LENGTHKM_up      QC_MA_up  nparent  \\\n",
       "Hydroseq                                                                   \n",
       "840002063  1.322895e+08          6.0     1195.035  3.780817e+09      1.0   \n",
       "840000151  3.415741e+09        198.0    24469.895  3.827542e+11      2.0   \n",
       "840003868  1.356828e+06          2.0      187.158  3.054662e+08      1.0   \n",
       "840028840  4.933920e+05          1.0        3.585  7.724438e+05      0.0   \n",
       "840004526  1.971101e+07          2.0       58.580  3.407299e+08      1.0   \n",
       "...                 ...          ...          ...           ...      ...   \n",
       "590069290  0.000000e+00          0.0        2.946  1.342534e+07      1.0   \n",
       "590109874  0.000000e+00          0.0        0.995  3.585389e+06      1.0   \n",
       "590096771  0.000000e+00          0.0        1.067  4.903455e+06      1.0   \n",
       "590160491  0.000000e+00          0.0        0.687  1.001944e+06      1.0   \n",
       "590129226  0.000000e+00          0.0        0.957  2.291434e+06      1.0   \n",
       "\n",
       "           parent_count  upstream_count       DOR  \n",
       "Hydroseq                                           \n",
       "840002063           1.0           546.0  1.278641  \n",
       "840000151           2.0         10319.0  1.445084  \n",
       "840003868           1.0            99.0  0.079359  \n",
       "840028840           0.0             1.0  0.638742  \n",
       "840004526           1.0            61.0  0.765886  \n",
       "...                 ...             ...       ...  \n",
       "590069290           1.0            12.0  0.000000  \n",
       "590109874           1.0             4.0  0.000000  \n",
       "590096771           1.0             5.0  0.000000  \n",
       "590160491           1.0             2.0  0.000000  \n",
       "590129226           1.0             3.0  0.000000  \n",
       "\n",
       "[30148 rows x 13 columns]"
      ],
      "text/html": "<div>\n<style scoped>\n    .dataframe tbody tr th:only-of-type {\n        vertical-align: middle;\n    }\n\n    .dataframe tbody tr th {\n        vertical-align: top;\n    }\n\n    .dataframe thead th {\n        text-align: right;\n    }\n</style>\n<table border=\"1\" class=\"dataframe\">\n  <thead>\n    <tr style=\"text-align: right;\">\n      <th></th>\n      <th>Norm_stor</th>\n      <th>DamCount</th>\n      <th>LENGTHKM</th>\n      <th>QC_MA</th>\n      <th>DnHydroseq</th>\n      <th>Norm_stor_up</th>\n      <th>DamCount_up</th>\n      <th>LENGTHKM_up</th>\n      <th>QC_MA_up</th>\n      <th>nparent</th>\n      <th>parent_count</th>\n      <th>upstream_count</th>\n      <th>DOR</th>\n    </tr>\n    <tr>\n      <th>Hydroseq</th>\n      <th></th>\n      <th></th>\n      <th></th>\n      <th></th>\n      <th></th>\n      <th></th>\n      <th></th>\n      <th></th>\n      <th></th>\n      <th></th>\n      <th></th>\n      <th></th>\n      <th></th>\n    </tr>\n  </thead>\n  <tbody>\n    <tr>\n      <th>840002063</th>\n      <td>130748880.0</td>\n      <td>1</td>\n      <td>2.044</td>\n      <td>1.034610e+08</td>\n      <td>840002034</td>\n      <td>1.322895e+08</td>\n      <td>6.0</td>\n      <td>1195.035</td>\n      <td>3.780817e+09</td>\n      <td>1.0</td>\n      <td>1.0</td>\n      <td>546.0</td>\n      <td>1.278641</td>\n    </tr>\n    <tr>\n      <th>840000151</th>\n      <td>6599118.0</td>\n      <td>2</td>\n      <td>6.137</td>\n      <td>2.363697e+09</td>\n      <td>840000150</td>\n      <td>3.415741e+09</td>\n      <td>198.0</td>\n      <td>24469.895</td>\n      <td>3.827542e+11</td>\n      <td>2.0</td>\n      <td>2.0</td>\n      <td>10319.0</td>\n      <td>1.445084</td>\n    </tr>\n    <tr>\n      <th>840003868</th>\n      <td>863436.0</td>\n      <td>1</td>\n      <td>1.072</td>\n      <td>1.709735e+07</td>\n      <td>840003772</td>\n      <td>1.356828e+06</td>\n      <td>2.0</td>\n      <td>187.158</td>\n      <td>3.054662e+08</td>\n      <td>1.0</td>\n      <td>1.0</td>\n      <td>99.0</td>\n      <td>0.079359</td>\n    </tr>\n    <tr>\n      <th>840028840</th>\n      <td>493392.0</td>\n      <td>1</td>\n      <td>3.585</td>\n      <td>7.724438e+05</td>\n      <td>840004171</td>\n      <td>4.933920e+05</td>\n      <td>1.0</td>\n      <td>3.585</td>\n      <td>7.724438e+05</td>\n      <td>0.0</td>\n      <td>0.0</td>\n      <td>1.0</td>\n      <td>0.638742</td>\n    </tr>\n    <tr>\n      <th>840004526</th>\n      <td>4317180.0</td>\n      <td>1</td>\n      <td>0.230</td>\n      <td>2.573622e+07</td>\n      <td>840004401</td>\n      <td>1.971101e+07</td>\n      <td>2.0</td>\n      <td>58.580</td>\n      <td>3.407299e+08</td>\n      <td>1.0</td>\n      <td>1.0</td>\n      <td>61.0</td>\n      <td>0.765886</td>\n    </tr>\n    <tr>\n      <th>...</th>\n      <td>...</td>\n      <td>...</td>\n      <td>...</td>\n      <td>...</td>\n      <td>...</td>\n      <td>...</td>\n      <td>...</td>\n      <td>...</td>\n      <td>...</td>\n      <td>...</td>\n      <td>...</td>\n      <td>...</td>\n      <td>...</td>\n    </tr>\n    <tr>\n      <th>590069290</th>\n      <td>0.0</td>\n      <td>0</td>\n      <td>0.234</td>\n      <td>2.137839e+06</td>\n      <td>590065190</td>\n      <td>0.000000e+00</td>\n      <td>0.0</td>\n      <td>2.946</td>\n      <td>1.342534e+07</td>\n      <td>1.0</td>\n      <td>1.0</td>\n      <td>12.0</td>\n      <td>0.000000</td>\n    </tr>\n    <tr>\n      <th>590109874</th>\n      <td>0.0</td>\n      <td>0</td>\n      <td>0.038</td>\n      <td>1.293955e+06</td>\n      <td>590096771</td>\n      <td>0.000000e+00</td>\n      <td>0.0</td>\n      <td>0.995</td>\n      <td>3.585389e+06</td>\n      <td>1.0</td>\n      <td>1.0</td>\n      <td>4.0</td>\n      <td>0.000000</td>\n    </tr>\n    <tr>\n      <th>590096771</th>\n      <td>0.0</td>\n      <td>0</td>\n      <td>0.072</td>\n      <td>1.318066e+06</td>\n      <td>590081458</td>\n      <td>0.000000e+00</td>\n      <td>0.0</td>\n      <td>1.067</td>\n      <td>4.903455e+06</td>\n      <td>1.0</td>\n      <td>1.0</td>\n      <td>5.0</td>\n      <td>0.000000</td>\n    </tr>\n    <tr>\n      <th>590160491</th>\n      <td>0.0</td>\n      <td>0</td>\n      <td>0.103</td>\n      <td>6.661770e+05</td>\n      <td>590129226</td>\n      <td>0.000000e+00</td>\n      <td>0.0</td>\n      <td>0.687</td>\n      <td>1.001944e+06</td>\n      <td>1.0</td>\n      <td>1.0</td>\n      <td>2.0</td>\n      <td>0.000000</td>\n    </tr>\n    <tr>\n      <th>590129226</th>\n      <td>0.0</td>\n      <td>0</td>\n      <td>0.270</td>\n      <td>1.289490e+06</td>\n      <td>590109874</td>\n      <td>0.000000e+00</td>\n      <td>0.0</td>\n      <td>0.957</td>\n      <td>2.291434e+06</td>\n      <td>1.0</td>\n      <td>1.0</td>\n      <td>3.0</td>\n      <td>0.000000</td>\n    </tr>\n  </tbody>\n</table>\n<p>30148 rows × 13 columns</p>\n</div>"
     },
     "metadata": {},
     "execution_count": 3
    }
   ],
   "source": [
    "red_seg_up = pd.read_csv(gdrive/'all_basins_unfiltered/Red_segments_up.csv', index_col=0)\n",
    "red_seg_up"
   ]
  },
  {
   "cell_type": "code",
   "execution_count": 4,
   "metadata": {},
   "outputs": [
    {
     "output_type": "execute_result",
     "data": {
      "text/plain": [
       "             DamID                                        Coordinates  \\\n",
       "Hydroseq                                                                \n",
       "840002063  19785.0  MULTILINESTRING ZM ((-96.6388022271039 45.7687...   \n",
       "840000151  28196.0  MULTILINESTRING ZM ((-97.0208380931776 47.9225...   \n",
       "840003868  19788.0  MULTILINESTRING ZM ((-96.1197142279096 45.8723...   \n",
       "840028840  19789.0  MULTILINESTRING ZM ((-96.0003330947616 45.8709...   \n",
       "840004526  19790.0  MULTILINESTRING ZM ((-95.5445158288025 47.0275...   \n",
       "...            ...                                                ...   \n",
       "590069290      0.0  MULTILINESTRING ZM ((-113.807293267122 48.8486...   \n",
       "590109874      0.0  MULTILINESTRING ZM ((-113.80844026712 48.84456...   \n",
       "590096771      0.0  MULTILINESTRING ZM ((-113.808301600453 48.8448...   \n",
       "590160491      0.0  MULTILINESTRING ZM ((-113.809170800452 48.8414...   \n",
       "590129226      0.0  MULTILINESTRING ZM ((-113.809446600452 48.8423...   \n",
       "\n",
       "           LENGTHKM  StreamOrde  StartFlag  UpHydroseq  DnHydroseq  \\\n",
       "Hydroseq                                                             \n",
       "840002063     2.044           5          0   840002093   840002034   \n",
       "840000151     6.137           7          0   840000153   840000150   \n",
       "840003868     1.072           4          0   840003962   840003772   \n",
       "840028840     3.585           1          1           0   840004171   \n",
       "840004526     0.230           3          0   840004650   840004401   \n",
       "...             ...         ...        ...         ...         ...   \n",
       "590069290     0.234           2          0   590074097   590065190   \n",
       "590109874     0.038           1          0   590129226   590096771   \n",
       "590096771     0.072           1          0   590109874   590081458   \n",
       "590160491     0.103           1          0   590239157   590129226   \n",
       "590129226     0.270           1          0   590160491   590109874   \n",
       "\n",
       "                  QC_MA  HUC2   HUC4       HUC8    Norm_stor  DamCount  \\\n",
       "Hydroseq                                                                 \n",
       "840002063  1.034610e+08   9.0  902.0  9020101.0  130748880.0         1   \n",
       "840000151  2.363697e+09   9.0  902.0  9020301.0    6599118.0         2   \n",
       "840003868  1.709735e+07   9.0  902.0  9020102.0     863436.0         1   \n",
       "840028840  7.724438e+05   9.0  902.0  9020102.0     493392.0         1   \n",
       "840004526  2.573622e+07   9.0  902.0  9020103.0    4317180.0         1   \n",
       "...                 ...   ...    ...        ...          ...       ...   \n",
       "590069290  2.137839e+06   9.0  904.0  9040002.0          0.0         0   \n",
       "590109874  1.293955e+06   9.0  904.0  9040002.0          0.0         0   \n",
       "590096771  1.318066e+06   9.0  904.0  9040002.0          0.0         0   \n",
       "590160491  6.661770e+05   9.0  904.0  9040002.0          0.0         0   \n",
       "590129226  1.289490e+06   9.0  904.0  9040002.0          0.0         0   \n",
       "\n",
       "                   Frag  Headwater  step  Frag_Index  \n",
       "Hydroseq                                              \n",
       "840002063  1.978500e+04        0.0  32.0         1.0  \n",
       "840000151  2.819600e+04        0.0  82.0       155.0  \n",
       "840003868  1.978800e+04        0.0  29.0         2.0  \n",
       "840028840  1.978900e+04        1.0   NaN         3.0  \n",
       "840004526  1.979000e+04        0.0   5.0         4.0  \n",
       "...                 ...        ...   ...         ...  \n",
       "590069290  9.990000e+09        0.0   8.0       479.0  \n",
       "590109874  9.990000e+09        0.0   3.0       479.0  \n",
       "590096771  9.990000e+09        0.0   4.0       479.0  \n",
       "590160491  9.990000e+09        0.0   1.0       479.0  \n",
       "590129226  9.990000e+09        0.0   2.0       479.0  \n",
       "\n",
       "[30148 rows x 17 columns]"
      ],
      "text/html": "<div>\n<style scoped>\n    .dataframe tbody tr th:only-of-type {\n        vertical-align: middle;\n    }\n\n    .dataframe tbody tr th {\n        vertical-align: top;\n    }\n\n    .dataframe thead th {\n        text-align: right;\n    }\n</style>\n<table border=\"1\" class=\"dataframe\">\n  <thead>\n    <tr style=\"text-align: right;\">\n      <th></th>\n      <th>DamID</th>\n      <th>Coordinates</th>\n      <th>LENGTHKM</th>\n      <th>StreamOrde</th>\n      <th>StartFlag</th>\n      <th>UpHydroseq</th>\n      <th>DnHydroseq</th>\n      <th>QC_MA</th>\n      <th>HUC2</th>\n      <th>HUC4</th>\n      <th>HUC8</th>\n      <th>Norm_stor</th>\n      <th>DamCount</th>\n      <th>Frag</th>\n      <th>Headwater</th>\n      <th>step</th>\n      <th>Frag_Index</th>\n    </tr>\n    <tr>\n      <th>Hydroseq</th>\n      <th></th>\n      <th></th>\n      <th></th>\n      <th></th>\n      <th></th>\n      <th></th>\n      <th></th>\n      <th></th>\n      <th></th>\n      <th></th>\n      <th></th>\n      <th></th>\n      <th></th>\n      <th></th>\n      <th></th>\n      <th></th>\n      <th></th>\n    </tr>\n  </thead>\n  <tbody>\n    <tr>\n      <th>840002063</th>\n      <td>19785.0</td>\n      <td>MULTILINESTRING ZM ((-96.6388022271039 45.7687...</td>\n      <td>2.044</td>\n      <td>5</td>\n      <td>0</td>\n      <td>840002093</td>\n      <td>840002034</td>\n      <td>1.034610e+08</td>\n      <td>9.0</td>\n      <td>902.0</td>\n      <td>9020101.0</td>\n      <td>130748880.0</td>\n      <td>1</td>\n      <td>1.978500e+04</td>\n      <td>0.0</td>\n      <td>32.0</td>\n      <td>1.0</td>\n    </tr>\n    <tr>\n      <th>840000151</th>\n      <td>28196.0</td>\n      <td>MULTILINESTRING ZM ((-97.0208380931776 47.9225...</td>\n      <td>6.137</td>\n      <td>7</td>\n      <td>0</td>\n      <td>840000153</td>\n      <td>840000150</td>\n      <td>2.363697e+09</td>\n      <td>9.0</td>\n      <td>902.0</td>\n      <td>9020301.0</td>\n      <td>6599118.0</td>\n      <td>2</td>\n      <td>2.819600e+04</td>\n      <td>0.0</td>\n      <td>82.0</td>\n      <td>155.0</td>\n    </tr>\n    <tr>\n      <th>840003868</th>\n      <td>19788.0</td>\n      <td>MULTILINESTRING ZM ((-96.1197142279096 45.8723...</td>\n      <td>1.072</td>\n      <td>4</td>\n      <td>0</td>\n      <td>840003962</td>\n      <td>840003772</td>\n      <td>1.709735e+07</td>\n      <td>9.0</td>\n      <td>902.0</td>\n      <td>9020102.0</td>\n      <td>863436.0</td>\n      <td>1</td>\n      <td>1.978800e+04</td>\n      <td>0.0</td>\n      <td>29.0</td>\n      <td>2.0</td>\n    </tr>\n    <tr>\n      <th>840028840</th>\n      <td>19789.0</td>\n      <td>MULTILINESTRING ZM ((-96.0003330947616 45.8709...</td>\n      <td>3.585</td>\n      <td>1</td>\n      <td>1</td>\n      <td>0</td>\n      <td>840004171</td>\n      <td>7.724438e+05</td>\n      <td>9.0</td>\n      <td>902.0</td>\n      <td>9020102.0</td>\n      <td>493392.0</td>\n      <td>1</td>\n      <td>1.978900e+04</td>\n      <td>1.0</td>\n      <td>NaN</td>\n      <td>3.0</td>\n    </tr>\n    <tr>\n      <th>840004526</th>\n      <td>19790.0</td>\n      <td>MULTILINESTRING ZM ((-95.5445158288025 47.0275...</td>\n      <td>0.230</td>\n      <td>3</td>\n      <td>0</td>\n      <td>840004650</td>\n      <td>840004401</td>\n      <td>2.573622e+07</td>\n      <td>9.0</td>\n      <td>902.0</td>\n      <td>9020103.0</td>\n      <td>4317180.0</td>\n      <td>1</td>\n      <td>1.979000e+04</td>\n      <td>0.0</td>\n      <td>5.0</td>\n      <td>4.0</td>\n    </tr>\n    <tr>\n      <th>...</th>\n      <td>...</td>\n      <td>...</td>\n      <td>...</td>\n      <td>...</td>\n      <td>...</td>\n      <td>...</td>\n      <td>...</td>\n      <td>...</td>\n      <td>...</td>\n      <td>...</td>\n      <td>...</td>\n      <td>...</td>\n      <td>...</td>\n      <td>...</td>\n      <td>...</td>\n      <td>...</td>\n      <td>...</td>\n    </tr>\n    <tr>\n      <th>590069290</th>\n      <td>0.0</td>\n      <td>MULTILINESTRING ZM ((-113.807293267122 48.8486...</td>\n      <td>0.234</td>\n      <td>2</td>\n      <td>0</td>\n      <td>590074097</td>\n      <td>590065190</td>\n      <td>2.137839e+06</td>\n      <td>9.0</td>\n      <td>904.0</td>\n      <td>9040002.0</td>\n      <td>0.0</td>\n      <td>0</td>\n      <td>9.990000e+09</td>\n      <td>0.0</td>\n      <td>8.0</td>\n      <td>479.0</td>\n    </tr>\n    <tr>\n      <th>590109874</th>\n      <td>0.0</td>\n      <td>MULTILINESTRING ZM ((-113.80844026712 48.84456...</td>\n      <td>0.038</td>\n      <td>1</td>\n      <td>0</td>\n      <td>590129226</td>\n      <td>590096771</td>\n      <td>1.293955e+06</td>\n      <td>9.0</td>\n      <td>904.0</td>\n      <td>9040002.0</td>\n      <td>0.0</td>\n      <td>0</td>\n      <td>9.990000e+09</td>\n      <td>0.0</td>\n      <td>3.0</td>\n      <td>479.0</td>\n    </tr>\n    <tr>\n      <th>590096771</th>\n      <td>0.0</td>\n      <td>MULTILINESTRING ZM ((-113.808301600453 48.8448...</td>\n      <td>0.072</td>\n      <td>1</td>\n      <td>0</td>\n      <td>590109874</td>\n      <td>590081458</td>\n      <td>1.318066e+06</td>\n      <td>9.0</td>\n      <td>904.0</td>\n      <td>9040002.0</td>\n      <td>0.0</td>\n      <td>0</td>\n      <td>9.990000e+09</td>\n      <td>0.0</td>\n      <td>4.0</td>\n      <td>479.0</td>\n    </tr>\n    <tr>\n      <th>590160491</th>\n      <td>0.0</td>\n      <td>MULTILINESTRING ZM ((-113.809170800452 48.8414...</td>\n      <td>0.103</td>\n      <td>1</td>\n      <td>0</td>\n      <td>590239157</td>\n      <td>590129226</td>\n      <td>6.661770e+05</td>\n      <td>9.0</td>\n      <td>904.0</td>\n      <td>9040002.0</td>\n      <td>0.0</td>\n      <td>0</td>\n      <td>9.990000e+09</td>\n      <td>0.0</td>\n      <td>1.0</td>\n      <td>479.0</td>\n    </tr>\n    <tr>\n      <th>590129226</th>\n      <td>0.0</td>\n      <td>MULTILINESTRING ZM ((-113.809446600452 48.8423...</td>\n      <td>0.270</td>\n      <td>1</td>\n      <td>0</td>\n      <td>590160491</td>\n      <td>590109874</td>\n      <td>1.289490e+06</td>\n      <td>9.0</td>\n      <td>904.0</td>\n      <td>9040002.0</td>\n      <td>0.0</td>\n      <td>0</td>\n      <td>9.990000e+09</td>\n      <td>0.0</td>\n      <td>2.0</td>\n      <td>479.0</td>\n    </tr>\n  </tbody>\n</table>\n<p>30148 rows × 17 columns</p>\n</div>"
     },
     "metadata": {},
     "execution_count": 4
    }
   ],
   "source": [
    "red_seg = pd.read_csv(gdrive/'all_basins_unfiltered/Red_segments.csv', index_col=0)\n",
    "red_seg"
   ]
  },
  {
   "cell_type": "code",
   "execution_count": 15,
   "metadata": {},
   "outputs": [
    {
     "output_type": "execute_result",
     "data": {
      "text/plain": [
       "                LENGTHKM_sq  LENGTHKM   FragDn  LENGTHKM_sq_up  LENGTHKM_up  \\\n",
       "Frag                                                                          \n",
       "1.978500e+04  996031.944196   998.014  28177.0    1.029780e+06     1195.035   \n",
       "1.978800e+04   33699.046329   183.573  19785.0    3.371190e+04      187.158   \n",
       "1.978900e+04      12.852225     3.585  19788.0    1.285223e+01        3.585   \n",
       "1.979000e+04     454.201344    21.312  19800.0    1.843105e+03       58.580   \n",
       "1.979100e+04    1388.903824    37.268  19790.0    1.388904e+03       37.268   \n",
       "...                     ...       ...      ...             ...          ...   \n",
       "9.990000e+09      10.099684     3.178      NaN    1.009968e+01        3.178   \n",
       "9.990000e+09   42902.008384   207.128      NaN    4.290201e+04      207.128   \n",
       "9.990000e+09     265.461849    16.293      NaN    2.654618e+02       16.293   \n",
       "9.990000e+09   25858.891249   160.807      NaN    2.585889e+04      160.807   \n",
       "9.990000e+09       7.778521     2.789      NaN    7.778521e+00        2.789   \n",
       "\n",
       "              nparent  parent_count  upstream_count  LENGTHKM_sq_upexclude  \\\n",
       "Frag                                                                         \n",
       "1.978500e+04      4.0           4.0             6.0           33747.605613   \n",
       "1.978800e+04      1.0           1.0             2.0              12.852225   \n",
       "1.978900e+04      0.0           0.0             1.0               0.000000   \n",
       "1.979000e+04      1.0           1.0             2.0            1388.903824   \n",
       "1.979100e+04      0.0           0.0             1.0               0.000000   \n",
       "...               ...           ...             ...                    ...   \n",
       "9.990000e+09      0.0           0.0             1.0               0.000000   \n",
       "9.990000e+09      0.0           0.0             1.0               0.000000   \n",
       "9.990000e+09      0.0           0.0             1.0               0.000000   \n",
       "9.990000e+09      0.0           0.0             1.0               0.000000   \n",
       "9.990000e+09      0.0           0.0             1.0               0.000000   \n",
       "\n",
       "                   dci  \n",
       "Frag                    \n",
       "1.978500e+04  0.023631  \n",
       "1.978800e+04  0.000367  \n",
       "1.978900e+04  0.000000  \n",
       "1.979000e+04  0.404737  \n",
       "1.979100e+04  0.000000  \n",
       "...                ...  \n",
       "9.990000e+09  0.000000  \n",
       "9.990000e+09  0.000000  \n",
       "9.990000e+09  0.000000  \n",
       "9.990000e+09  0.000000  \n",
       "9.990000e+09  0.000000  \n",
       "\n",
       "[480 rows x 10 columns]"
      ],
      "text/html": "<div>\n<style scoped>\n    .dataframe tbody tr th:only-of-type {\n        vertical-align: middle;\n    }\n\n    .dataframe tbody tr th {\n        vertical-align: top;\n    }\n\n    .dataframe thead th {\n        text-align: right;\n    }\n</style>\n<table border=\"1\" class=\"dataframe\">\n  <thead>\n    <tr style=\"text-align: right;\">\n      <th></th>\n      <th>LENGTHKM_sq</th>\n      <th>LENGTHKM</th>\n      <th>FragDn</th>\n      <th>LENGTHKM_sq_up</th>\n      <th>LENGTHKM_up</th>\n      <th>nparent</th>\n      <th>parent_count</th>\n      <th>upstream_count</th>\n      <th>LENGTHKM_sq_upexclude</th>\n      <th>dci</th>\n    </tr>\n    <tr>\n      <th>Frag</th>\n      <th></th>\n      <th></th>\n      <th></th>\n      <th></th>\n      <th></th>\n      <th></th>\n      <th></th>\n      <th></th>\n      <th></th>\n      <th></th>\n    </tr>\n  </thead>\n  <tbody>\n    <tr>\n      <th>1.978500e+04</th>\n      <td>996031.944196</td>\n      <td>998.014</td>\n      <td>28177.0</td>\n      <td>1.029780e+06</td>\n      <td>1195.035</td>\n      <td>4.0</td>\n      <td>4.0</td>\n      <td>6.0</td>\n      <td>33747.605613</td>\n      <td>0.023631</td>\n    </tr>\n    <tr>\n      <th>1.978800e+04</th>\n      <td>33699.046329</td>\n      <td>183.573</td>\n      <td>19785.0</td>\n      <td>3.371190e+04</td>\n      <td>187.158</td>\n      <td>1.0</td>\n      <td>1.0</td>\n      <td>2.0</td>\n      <td>12.852225</td>\n      <td>0.000367</td>\n    </tr>\n    <tr>\n      <th>1.978900e+04</th>\n      <td>12.852225</td>\n      <td>3.585</td>\n      <td>19788.0</td>\n      <td>1.285223e+01</td>\n      <td>3.585</td>\n      <td>0.0</td>\n      <td>0.0</td>\n      <td>1.0</td>\n      <td>0.000000</td>\n      <td>0.000000</td>\n    </tr>\n    <tr>\n      <th>1.979000e+04</th>\n      <td>454.201344</td>\n      <td>21.312</td>\n      <td>19800.0</td>\n      <td>1.843105e+03</td>\n      <td>58.580</td>\n      <td>1.0</td>\n      <td>1.0</td>\n      <td>2.0</td>\n      <td>1388.903824</td>\n      <td>0.404737</td>\n    </tr>\n    <tr>\n      <th>1.979100e+04</th>\n      <td>1388.903824</td>\n      <td>37.268</td>\n      <td>19790.0</td>\n      <td>1.388904e+03</td>\n      <td>37.268</td>\n      <td>0.0</td>\n      <td>0.0</td>\n      <td>1.0</td>\n      <td>0.000000</td>\n      <td>0.000000</td>\n    </tr>\n    <tr>\n      <th>...</th>\n      <td>...</td>\n      <td>...</td>\n      <td>...</td>\n      <td>...</td>\n      <td>...</td>\n      <td>...</td>\n      <td>...</td>\n      <td>...</td>\n      <td>...</td>\n      <td>...</td>\n    </tr>\n    <tr>\n      <th>9.990000e+09</th>\n      <td>10.099684</td>\n      <td>3.178</td>\n      <td>NaN</td>\n      <td>1.009968e+01</td>\n      <td>3.178</td>\n      <td>0.0</td>\n      <td>0.0</td>\n      <td>1.0</td>\n      <td>0.000000</td>\n      <td>0.000000</td>\n    </tr>\n    <tr>\n      <th>9.990000e+09</th>\n      <td>42902.008384</td>\n      <td>207.128</td>\n      <td>NaN</td>\n      <td>4.290201e+04</td>\n      <td>207.128</td>\n      <td>0.0</td>\n      <td>0.0</td>\n      <td>1.0</td>\n      <td>0.000000</td>\n      <td>0.000000</td>\n    </tr>\n    <tr>\n      <th>9.990000e+09</th>\n      <td>265.461849</td>\n      <td>16.293</td>\n      <td>NaN</td>\n      <td>2.654618e+02</td>\n      <td>16.293</td>\n      <td>0.0</td>\n      <td>0.0</td>\n      <td>1.0</td>\n      <td>0.000000</td>\n      <td>0.000000</td>\n    </tr>\n    <tr>\n      <th>9.990000e+09</th>\n      <td>25858.891249</td>\n      <td>160.807</td>\n      <td>NaN</td>\n      <td>2.585889e+04</td>\n      <td>160.807</td>\n      <td>0.0</td>\n      <td>0.0</td>\n      <td>1.0</td>\n      <td>0.000000</td>\n      <td>0.000000</td>\n    </tr>\n    <tr>\n      <th>9.990000e+09</th>\n      <td>7.778521</td>\n      <td>2.789</td>\n      <td>NaN</td>\n      <td>7.778521e+00</td>\n      <td>2.789</td>\n      <td>0.0</td>\n      <td>0.0</td>\n      <td>1.0</td>\n      <td>0.000000</td>\n      <td>0.000000</td>\n    </tr>\n  </tbody>\n</table>\n<p>480 rows × 10 columns</p>\n</div>"
     },
     "metadata": {},
     "execution_count": 15
    }
   ],
   "source": [
    "red_dci = pd.read_csv(gdrive/'all_basins_unfiltered/Red_fragments_dci.csv', index_col=0)\n",
    "red_dci\n",
    "\n",
    "# red_dci.dci.unique()\n",
    "# print(red_seg_up.DOR.unique())"
   ]
  },
  {
   "cell_type": "code",
   "execution_count": 6,
   "metadata": {},
   "outputs": [
    {
     "output_type": "execute_result",
     "data": {
      "text/plain": [
       "                   Frag  HUC2   HUC4    Norm_stor  DamCount  LENGTHKM_frag  \\\n",
       "Hydroseq                                                                     \n",
       "840002063  1.978500e+04   9.0  902.0  130748880.0         1        998.014   \n",
       "840000151  2.819600e+04   9.0  902.0    6599118.0         2       3851.669   \n",
       "840003868  1.978800e+04   9.0  902.0     863436.0         1        183.573   \n",
       "840028840  1.978900e+04   9.0  902.0     493392.0         1          3.585   \n",
       "840004526  1.979000e+04   9.0  902.0    4317180.0         1         21.312   \n",
       "...                 ...   ...    ...          ...       ...            ...   \n",
       "590069290  9.990000e+09   9.0  904.0          0.0         0        160.807   \n",
       "590109874  9.990000e+09   9.0  904.0          0.0         0        160.807   \n",
       "590096771  9.990000e+09   9.0  904.0          0.0         0        160.807   \n",
       "590160491  9.990000e+09   9.0  904.0          0.0         0        160.807   \n",
       "590129226  9.990000e+09   9.0  904.0          0.0         0        160.807   \n",
       "\n",
       "           LENGTHKM_up       dci  StreamOrde         QC_MA  \n",
       "Hydroseq                                                    \n",
       "840002063     1195.035  0.023631           5  1.034610e+08  \n",
       "840000151    24469.895  0.026563           7  2.363697e+09  \n",
       "840003868      187.158  0.000367           4  1.709735e+07  \n",
       "840028840        3.585  0.000000           1  7.724438e+05  \n",
       "840004526       58.580  0.404737           3  2.573622e+07  \n",
       "...                ...       ...         ...           ...  \n",
       "590069290      160.807  0.000000           2  2.137839e+06  \n",
       "590109874      160.807  0.000000           1  1.293955e+06  \n",
       "590096771      160.807  0.000000           1  1.318066e+06  \n",
       "590160491      160.807  0.000000           1  6.661770e+05  \n",
       "590129226      160.807  0.000000           1  1.289490e+06  \n",
       "\n",
       "[30148 rows x 10 columns]"
      ],
      "text/html": "<div>\n<style scoped>\n    .dataframe tbody tr th:only-of-type {\n        vertical-align: middle;\n    }\n\n    .dataframe tbody tr th {\n        vertical-align: top;\n    }\n\n    .dataframe thead th {\n        text-align: right;\n    }\n</style>\n<table border=\"1\" class=\"dataframe\">\n  <thead>\n    <tr style=\"text-align: right;\">\n      <th></th>\n      <th>Frag</th>\n      <th>HUC2</th>\n      <th>HUC4</th>\n      <th>Norm_stor</th>\n      <th>DamCount</th>\n      <th>LENGTHKM_frag</th>\n      <th>LENGTHKM_up</th>\n      <th>dci</th>\n      <th>StreamOrde</th>\n      <th>QC_MA</th>\n    </tr>\n    <tr>\n      <th>Hydroseq</th>\n      <th></th>\n      <th></th>\n      <th></th>\n      <th></th>\n      <th></th>\n      <th></th>\n      <th></th>\n      <th></th>\n      <th></th>\n      <th></th>\n    </tr>\n  </thead>\n  <tbody>\n    <tr>\n      <th>840002063</th>\n      <td>1.978500e+04</td>\n      <td>9.0</td>\n      <td>902.0</td>\n      <td>130748880.0</td>\n      <td>1</td>\n      <td>998.014</td>\n      <td>1195.035</td>\n      <td>0.023631</td>\n      <td>5</td>\n      <td>1.034610e+08</td>\n    </tr>\n    <tr>\n      <th>840000151</th>\n      <td>2.819600e+04</td>\n      <td>9.0</td>\n      <td>902.0</td>\n      <td>6599118.0</td>\n      <td>2</td>\n      <td>3851.669</td>\n      <td>24469.895</td>\n      <td>0.026563</td>\n      <td>7</td>\n      <td>2.363697e+09</td>\n    </tr>\n    <tr>\n      <th>840003868</th>\n      <td>1.978800e+04</td>\n      <td>9.0</td>\n      <td>902.0</td>\n      <td>863436.0</td>\n      <td>1</td>\n      <td>183.573</td>\n      <td>187.158</td>\n      <td>0.000367</td>\n      <td>4</td>\n      <td>1.709735e+07</td>\n    </tr>\n    <tr>\n      <th>840028840</th>\n      <td>1.978900e+04</td>\n      <td>9.0</td>\n      <td>902.0</td>\n      <td>493392.0</td>\n      <td>1</td>\n      <td>3.585</td>\n      <td>3.585</td>\n      <td>0.000000</td>\n      <td>1</td>\n      <td>7.724438e+05</td>\n    </tr>\n    <tr>\n      <th>840004526</th>\n      <td>1.979000e+04</td>\n      <td>9.0</td>\n      <td>902.0</td>\n      <td>4317180.0</td>\n      <td>1</td>\n      <td>21.312</td>\n      <td>58.580</td>\n      <td>0.404737</td>\n      <td>3</td>\n      <td>2.573622e+07</td>\n    </tr>\n    <tr>\n      <th>...</th>\n      <td>...</td>\n      <td>...</td>\n      <td>...</td>\n      <td>...</td>\n      <td>...</td>\n      <td>...</td>\n      <td>...</td>\n      <td>...</td>\n      <td>...</td>\n      <td>...</td>\n    </tr>\n    <tr>\n      <th>590069290</th>\n      <td>9.990000e+09</td>\n      <td>9.0</td>\n      <td>904.0</td>\n      <td>0.0</td>\n      <td>0</td>\n      <td>160.807</td>\n      <td>160.807</td>\n      <td>0.000000</td>\n      <td>2</td>\n      <td>2.137839e+06</td>\n    </tr>\n    <tr>\n      <th>590109874</th>\n      <td>9.990000e+09</td>\n      <td>9.0</td>\n      <td>904.0</td>\n      <td>0.0</td>\n      <td>0</td>\n      <td>160.807</td>\n      <td>160.807</td>\n      <td>0.000000</td>\n      <td>1</td>\n      <td>1.293955e+06</td>\n    </tr>\n    <tr>\n      <th>590096771</th>\n      <td>9.990000e+09</td>\n      <td>9.0</td>\n      <td>904.0</td>\n      <td>0.0</td>\n      <td>0</td>\n      <td>160.807</td>\n      <td>160.807</td>\n      <td>0.000000</td>\n      <td>1</td>\n      <td>1.318066e+06</td>\n    </tr>\n    <tr>\n      <th>590160491</th>\n      <td>9.990000e+09</td>\n      <td>9.0</td>\n      <td>904.0</td>\n      <td>0.0</td>\n      <td>0</td>\n      <td>160.807</td>\n      <td>160.807</td>\n      <td>0.000000</td>\n      <td>1</td>\n      <td>6.661770e+05</td>\n    </tr>\n    <tr>\n      <th>590129226</th>\n      <td>9.990000e+09</td>\n      <td>9.0</td>\n      <td>904.0</td>\n      <td>0.0</td>\n      <td>0</td>\n      <td>160.807</td>\n      <td>160.807</td>\n      <td>0.000000</td>\n      <td>1</td>\n      <td>1.289490e+06</td>\n    </tr>\n  </tbody>\n</table>\n<p>30148 rows × 10 columns</p>\n</div>"
     },
     "metadata": {},
     "execution_count": 6
    }
   ],
   "source": [
    "red_dci_fil = red_dci[['Frag', 'HUC2', 'HUC4', 'Norm_stor', 'DamCount', 'LENGTHKM_frag','LENGTHKM_up', 'dci', 'StreamOrde', 'QC_MA']]\n",
    "red_dci_fil "
   ]
  },
  {
   "cell_type": "code",
   "execution_count": 7,
   "metadata": {},
   "outputs": [
    {
     "output_type": "stream",
     "name": "stdout",
     "text": [
      "Finished writing huc4 test to shp\n"
     ]
    }
   ],
   "source": [
    "huc4 = gp.read_file(gdrive/\"hucs/HUC4_CONUS.shp\") \n",
    "sum_by_huc4 = red_dci_fil.pivot_table(values = ['DamCount', 'Norm_stor'], index='HUC4', aggfunc=np.sum)\n",
    "avg_by_huc4 = red_dci_fil.pivot_table(values = ['LENGTHKM_frag'], index='HUC4', aggfunc=np.mean)\n",
    "avg_by_huc4 = avg_by_huc4.rename(columns = {'LENGTHKM_frag':'avg_frag_length'})\n",
    "max_by_huc4 = red_dci_fil.pivot_table(values = ['LENGTHKM_frag'], index='HUC4', aggfunc=np.max)\n",
    "max_by_huc4 = max_by_huc4.rename(columns = {'LENGTHKM_frag':'max_frag_length'})\n",
    "        \n",
    "huc4 = huc4.merge(sum_by_huc4, left_on = 'HUC4_no', right_on = 'HUC4', how = 'left')\n",
    "huc4 = huc4.merge(avg_by_huc4, left_on = 'HUC4_no', right_on = 'HUC4', how = 'left')\n",
    "huc4 = huc4.merge(max_by_huc4, left_on = 'HUC4_no', right_on = 'HUC4', how = 'left')\n",
    "huc4\n",
    "huc4.to_file(gdrive/'hucs/huc4_test.shp')\n",
    "print('Finished writing huc4 test to shp')"
   ]
  },
  {
   "cell_type": "code",
   "execution_count": 8,
   "metadata": {},
   "outputs": [],
   "source": [
    "# huc4.columns\n",
    "sum_by_huc4\n",
    "avg_by_huc4\n",
    "max_by_huc4 = max_by_huc4.rename"
   ]
  },
  {
   "cell_type": "code",
   "execution_count": 9,
   "metadata": {},
   "outputs": [],
   "source": [
    "col_seg_up = pd.read_csv(gdrive/'all_basins_unfiltered/colorado_segments_up.csv', index_col=0)"
   ]
  },
  {
   "cell_type": "code",
   "execution_count": 10,
   "metadata": {},
   "outputs": [
    {
     "output_type": "execute_result",
     "data": {
      "text/plain": [
       "              Norm_stor  DamCount  LENGTHKM         QC_MA  DnHydroseq  \\\n",
       "Hydroseq                                                                \n",
       "760035760  2.713656e+04         1     0.388  1.516312e+06   760031821   \n",
       "760041465  2.369515e+06         2     4.580  7.836956e+06   760035640   \n",
       "720030561  1.279119e+06         1     0.443  8.144147e+05   720025950   \n",
       "720000357  8.665197e+06         1     4.194  3.947052e+10   720000356   \n",
       "720095916  4.625550e+08         1     4.559  1.250198e+04   720008203   \n",
       "...                 ...       ...       ...           ...         ...   \n",
       "720050315  0.000000e+00         0     2.016  1.652047e+05   720026398   \n",
       "720026398  0.000000e+00         0     0.971  2.107477e+05           0   \n",
       "800064821  0.000000e+00         0     1.838  0.000000e+00   800047380   \n",
       "800047380  0.000000e+00         0     0.211  0.000000e+00           0   \n",
       "800064820  0.000000e+00         0     1.875  0.000000e+00   800047380   \n",
       "\n",
       "           Norm_stor_up  DamCount_up  LENGTHKM_up      QC_MA_up  nparent  \\\n",
       "Hydroseq                                                                   \n",
       "760035760  2.812334e+05          2.0        2.137  5.123133e+06      1.0   \n",
       "760041465  2.369515e+06          2.0        6.838  1.347892e+07      1.0   \n",
       "720030561  1.279119e+06          1.0       29.697  3.271054e+06      2.0   \n",
       "720000357  8.498367e+10        820.0   298578.622  5.415194e+13      2.0   \n",
       "720095916  4.625550e+08          1.0        4.559  1.250198e+04      0.0   \n",
       "...                 ...          ...          ...           ...      ...   \n",
       "720050315  0.000000e+00          0.0       10.071  2.277146e+05      2.0   \n",
       "720026398  0.000000e+00          0.0       14.939  4.679313e+05      2.0   \n",
       "800064821  0.000000e+00          0.0        1.838  0.000000e+00      0.0   \n",
       "800047380  0.000000e+00          0.0        3.924  0.000000e+00      2.0   \n",
       "800064820  0.000000e+00          0.0        1.875  0.000000e+00      0.0   \n",
       "\n",
       "           parent_count  upstream_count           DOR  \n",
       "Hydroseq                                               \n",
       "760035760           1.0             4.0      0.185472  \n",
       "760041465           1.0             3.0      0.302351  \n",
       "720030561           2.0            13.0      1.570599  \n",
       "720000357           2.0        126684.0      2.153092  \n",
       "720095916           0.0             1.0  36998.538049  \n",
       "...                 ...             ...           ...  \n",
       "720050315           2.0             3.0      0.000000  \n",
       "720026398           2.0             5.0      0.000000  \n",
       "800064821           0.0             1.0      0.000000  \n",
       "800047380           2.0             3.0      0.000000  \n",
       "800064820           0.0             1.0      0.000000  \n",
       "\n",
       "[187028 rows x 13 columns]"
      ],
      "text/html": "<div>\n<style scoped>\n    .dataframe tbody tr th:only-of-type {\n        vertical-align: middle;\n    }\n\n    .dataframe tbody tr th {\n        vertical-align: top;\n    }\n\n    .dataframe thead th {\n        text-align: right;\n    }\n</style>\n<table border=\"1\" class=\"dataframe\">\n  <thead>\n    <tr style=\"text-align: right;\">\n      <th></th>\n      <th>Norm_stor</th>\n      <th>DamCount</th>\n      <th>LENGTHKM</th>\n      <th>QC_MA</th>\n      <th>DnHydroseq</th>\n      <th>Norm_stor_up</th>\n      <th>DamCount_up</th>\n      <th>LENGTHKM_up</th>\n      <th>QC_MA_up</th>\n      <th>nparent</th>\n      <th>parent_count</th>\n      <th>upstream_count</th>\n      <th>DOR</th>\n    </tr>\n    <tr>\n      <th>Hydroseq</th>\n      <th></th>\n      <th></th>\n      <th></th>\n      <th></th>\n      <th></th>\n      <th></th>\n      <th></th>\n      <th></th>\n      <th></th>\n      <th></th>\n      <th></th>\n      <th></th>\n      <th></th>\n    </tr>\n  </thead>\n  <tbody>\n    <tr>\n      <th>760035760</th>\n      <td>2.713656e+04</td>\n      <td>1</td>\n      <td>0.388</td>\n      <td>1.516312e+06</td>\n      <td>760031821</td>\n      <td>2.812334e+05</td>\n      <td>2.0</td>\n      <td>2.137</td>\n      <td>5.123133e+06</td>\n      <td>1.0</td>\n      <td>1.0</td>\n      <td>4.0</td>\n      <td>0.185472</td>\n    </tr>\n    <tr>\n      <th>760041465</th>\n      <td>2.369515e+06</td>\n      <td>2</td>\n      <td>4.580</td>\n      <td>7.836956e+06</td>\n      <td>760035640</td>\n      <td>2.369515e+06</td>\n      <td>2.0</td>\n      <td>6.838</td>\n      <td>1.347892e+07</td>\n      <td>1.0</td>\n      <td>1.0</td>\n      <td>3.0</td>\n      <td>0.302351</td>\n    </tr>\n    <tr>\n      <th>720030561</th>\n      <td>1.279119e+06</td>\n      <td>1</td>\n      <td>0.443</td>\n      <td>8.144147e+05</td>\n      <td>720025950</td>\n      <td>1.279119e+06</td>\n      <td>1.0</td>\n      <td>29.697</td>\n      <td>3.271054e+06</td>\n      <td>2.0</td>\n      <td>2.0</td>\n      <td>13.0</td>\n      <td>1.570599</td>\n    </tr>\n    <tr>\n      <th>720000357</th>\n      <td>8.665197e+06</td>\n      <td>1</td>\n      <td>4.194</td>\n      <td>3.947052e+10</td>\n      <td>720000356</td>\n      <td>8.498367e+10</td>\n      <td>820.0</td>\n      <td>298578.622</td>\n      <td>5.415194e+13</td>\n      <td>2.0</td>\n      <td>2.0</td>\n      <td>126684.0</td>\n      <td>2.153092</td>\n    </tr>\n    <tr>\n      <th>720095916</th>\n      <td>4.625550e+08</td>\n      <td>1</td>\n      <td>4.559</td>\n      <td>1.250198e+04</td>\n      <td>720008203</td>\n      <td>4.625550e+08</td>\n      <td>1.0</td>\n      <td>4.559</td>\n      <td>1.250198e+04</td>\n      <td>0.0</td>\n      <td>0.0</td>\n      <td>1.0</td>\n      <td>36998.538049</td>\n    </tr>\n    <tr>\n      <th>...</th>\n      <td>...</td>\n      <td>...</td>\n      <td>...</td>\n      <td>...</td>\n      <td>...</td>\n      <td>...</td>\n      <td>...</td>\n      <td>...</td>\n      <td>...</td>\n      <td>...</td>\n      <td>...</td>\n      <td>...</td>\n      <td>...</td>\n    </tr>\n    <tr>\n      <th>720050315</th>\n      <td>0.000000e+00</td>\n      <td>0</td>\n      <td>2.016</td>\n      <td>1.652047e+05</td>\n      <td>720026398</td>\n      <td>0.000000e+00</td>\n      <td>0.0</td>\n      <td>10.071</td>\n      <td>2.277146e+05</td>\n      <td>2.0</td>\n      <td>2.0</td>\n      <td>3.0</td>\n      <td>0.000000</td>\n    </tr>\n    <tr>\n      <th>720026398</th>\n      <td>0.000000e+00</td>\n      <td>0</td>\n      <td>0.971</td>\n      <td>2.107477e+05</td>\n      <td>0</td>\n      <td>0.000000e+00</td>\n      <td>0.0</td>\n      <td>14.939</td>\n      <td>4.679313e+05</td>\n      <td>2.0</td>\n      <td>2.0</td>\n      <td>5.0</td>\n      <td>0.000000</td>\n    </tr>\n    <tr>\n      <th>800064821</th>\n      <td>0.000000e+00</td>\n      <td>0</td>\n      <td>1.838</td>\n      <td>0.000000e+00</td>\n      <td>800047380</td>\n      <td>0.000000e+00</td>\n      <td>0.0</td>\n      <td>1.838</td>\n      <td>0.000000e+00</td>\n      <td>0.0</td>\n      <td>0.0</td>\n      <td>1.0</td>\n      <td>0.000000</td>\n    </tr>\n    <tr>\n      <th>800047380</th>\n      <td>0.000000e+00</td>\n      <td>0</td>\n      <td>0.211</td>\n      <td>0.000000e+00</td>\n      <td>0</td>\n      <td>0.000000e+00</td>\n      <td>0.0</td>\n      <td>3.924</td>\n      <td>0.000000e+00</td>\n      <td>2.0</td>\n      <td>2.0</td>\n      <td>3.0</td>\n      <td>0.000000</td>\n    </tr>\n    <tr>\n      <th>800064820</th>\n      <td>0.000000e+00</td>\n      <td>0</td>\n      <td>1.875</td>\n      <td>0.000000e+00</td>\n      <td>800047380</td>\n      <td>0.000000e+00</td>\n      <td>0.0</td>\n      <td>1.875</td>\n      <td>0.000000e+00</td>\n      <td>0.0</td>\n      <td>0.0</td>\n      <td>1.0</td>\n      <td>0.000000</td>\n    </tr>\n  </tbody>\n</table>\n<p>187028 rows × 13 columns</p>\n</div>"
     },
     "metadata": {},
     "execution_count": 10
    }
   ],
   "source": [
    "col_seg_up\n"
   ]
  },
  {
   "cell_type": "code",
   "execution_count": 11,
   "metadata": {},
   "outputs": [],
   "source": [
    "#checking if I multiplied Norm_stor by the unit converter\n",
    "# import pandas as pd\n",
    "# test = pd.read_csv('dams_to_add.csv')\n",
    "# test"
   ]
  },
  {
   "cell_type": "code",
   "execution_count": 12,
   "metadata": {},
   "outputs": [
    {
     "output_type": "execute_result",
     "data": {
      "text/plain": [
       "        Frag_left  DamCount  HUC4_left  LENGTHKM    Norm_stor  Frag_Index  \\\n",
       "0    1.978500e+04         1      902.0   998.014  130748880.0         1.0   \n",
       "1    1.978800e+04         1      902.0   183.573     863436.0         2.0   \n",
       "2    1.978900e+04         1      902.0     3.585     493392.0         3.0   \n",
       "3    1.979000e+04         1      902.0    21.312    4317180.0         4.0   \n",
       "4    1.979100e+04         1      902.0    37.268   15393830.4         5.0   \n",
       "..            ...       ...        ...       ...          ...         ...   \n",
       "475  9.990000e+09         0      904.0     3.178          0.0       476.0   \n",
       "476  9.990000e+09         0      904.0   207.128          0.0       477.0   \n",
       "477  9.990000e+09         0      904.0    16.293          0.0       478.0   \n",
       "478  9.990000e+09         0      904.0   160.807          0.0       479.0   \n",
       "479  9.990000e+09         0      904.0     2.789          0.0       480.0   \n",
       "\n",
       "      DnHydroseq         QC_MA   FragDn  HeadFlag  Frag_right  HUC2  \\\n",
       "0    840002034.0  1.034610e+08  28177.0       1.0     19878.0   9.0   \n",
       "1    840003772.0  1.709735e+07  19785.0       1.0     19878.0   9.0   \n",
       "2    840004171.0  7.724438e+05  19788.0       1.0     19878.0   9.0   \n",
       "3    840004401.0  2.573622e+07  19800.0       1.0     19878.0   9.0   \n",
       "4    840005270.0  1.608201e+07  19790.0       1.0     19878.0   9.0   \n",
       "..           ...           ...      ...       ...         ...   ...   \n",
       "475          NaN           NaN      NaN       1.0         NaN   NaN   \n",
       "476          NaN           NaN      NaN       1.0         NaN   NaN   \n",
       "477          NaN           NaN      NaN       1.0         NaN   NaN   \n",
       "478          NaN           NaN      NaN       1.0         NaN   NaN   \n",
       "479          NaN           NaN      NaN       1.0         NaN   NaN   \n",
       "\n",
       "     HUC4_right  \n",
       "0         903.0  \n",
       "1         903.0  \n",
       "2         903.0  \n",
       "3         903.0  \n",
       "4         903.0  \n",
       "..          ...  \n",
       "475         NaN  \n",
       "476         NaN  \n",
       "477         NaN  \n",
       "478         NaN  \n",
       "479         NaN  \n",
       "\n",
       "[480 rows x 13 columns]"
      ],
      "text/html": "<div>\n<style scoped>\n    .dataframe tbody tr th:only-of-type {\n        vertical-align: middle;\n    }\n\n    .dataframe tbody tr th {\n        vertical-align: top;\n    }\n\n    .dataframe thead th {\n        text-align: right;\n    }\n</style>\n<table border=\"1\" class=\"dataframe\">\n  <thead>\n    <tr style=\"text-align: right;\">\n      <th></th>\n      <th>Frag_left</th>\n      <th>DamCount</th>\n      <th>HUC4_left</th>\n      <th>LENGTHKM</th>\n      <th>Norm_stor</th>\n      <th>Frag_Index</th>\n      <th>DnHydroseq</th>\n      <th>QC_MA</th>\n      <th>FragDn</th>\n      <th>HeadFlag</th>\n      <th>Frag_right</th>\n      <th>HUC2</th>\n      <th>HUC4_right</th>\n    </tr>\n  </thead>\n  <tbody>\n    <tr>\n      <th>0</th>\n      <td>1.978500e+04</td>\n      <td>1</td>\n      <td>902.0</td>\n      <td>998.014</td>\n      <td>130748880.0</td>\n      <td>1.0</td>\n      <td>840002034.0</td>\n      <td>1.034610e+08</td>\n      <td>28177.0</td>\n      <td>1.0</td>\n      <td>19878.0</td>\n      <td>9.0</td>\n      <td>903.0</td>\n    </tr>\n    <tr>\n      <th>1</th>\n      <td>1.978800e+04</td>\n      <td>1</td>\n      <td>902.0</td>\n      <td>183.573</td>\n      <td>863436.0</td>\n      <td>2.0</td>\n      <td>840003772.0</td>\n      <td>1.709735e+07</td>\n      <td>19785.0</td>\n      <td>1.0</td>\n      <td>19878.0</td>\n      <td>9.0</td>\n      <td>903.0</td>\n    </tr>\n    <tr>\n      <th>2</th>\n      <td>1.978900e+04</td>\n      <td>1</td>\n      <td>902.0</td>\n      <td>3.585</td>\n      <td>493392.0</td>\n      <td>3.0</td>\n      <td>840004171.0</td>\n      <td>7.724438e+05</td>\n      <td>19788.0</td>\n      <td>1.0</td>\n      <td>19878.0</td>\n      <td>9.0</td>\n      <td>903.0</td>\n    </tr>\n    <tr>\n      <th>3</th>\n      <td>1.979000e+04</td>\n      <td>1</td>\n      <td>902.0</td>\n      <td>21.312</td>\n      <td>4317180.0</td>\n      <td>4.0</td>\n      <td>840004401.0</td>\n      <td>2.573622e+07</td>\n      <td>19800.0</td>\n      <td>1.0</td>\n      <td>19878.0</td>\n      <td>9.0</td>\n      <td>903.0</td>\n    </tr>\n    <tr>\n      <th>4</th>\n      <td>1.979100e+04</td>\n      <td>1</td>\n      <td>902.0</td>\n      <td>37.268</td>\n      <td>15393830.4</td>\n      <td>5.0</td>\n      <td>840005270.0</td>\n      <td>1.608201e+07</td>\n      <td>19790.0</td>\n      <td>1.0</td>\n      <td>19878.0</td>\n      <td>9.0</td>\n      <td>903.0</td>\n    </tr>\n    <tr>\n      <th>...</th>\n      <td>...</td>\n      <td>...</td>\n      <td>...</td>\n      <td>...</td>\n      <td>...</td>\n      <td>...</td>\n      <td>...</td>\n      <td>...</td>\n      <td>...</td>\n      <td>...</td>\n      <td>...</td>\n      <td>...</td>\n      <td>...</td>\n    </tr>\n    <tr>\n      <th>475</th>\n      <td>9.990000e+09</td>\n      <td>0</td>\n      <td>904.0</td>\n      <td>3.178</td>\n      <td>0.0</td>\n      <td>476.0</td>\n      <td>NaN</td>\n      <td>NaN</td>\n      <td>NaN</td>\n      <td>1.0</td>\n      <td>NaN</td>\n      <td>NaN</td>\n      <td>NaN</td>\n    </tr>\n    <tr>\n      <th>476</th>\n      <td>9.990000e+09</td>\n      <td>0</td>\n      <td>904.0</td>\n      <td>207.128</td>\n      <td>0.0</td>\n      <td>477.0</td>\n      <td>NaN</td>\n      <td>NaN</td>\n      <td>NaN</td>\n      <td>1.0</td>\n      <td>NaN</td>\n      <td>NaN</td>\n      <td>NaN</td>\n    </tr>\n    <tr>\n      <th>477</th>\n      <td>9.990000e+09</td>\n      <td>0</td>\n      <td>904.0</td>\n      <td>16.293</td>\n      <td>0.0</td>\n      <td>478.0</td>\n      <td>NaN</td>\n      <td>NaN</td>\n      <td>NaN</td>\n      <td>1.0</td>\n      <td>NaN</td>\n      <td>NaN</td>\n      <td>NaN</td>\n    </tr>\n    <tr>\n      <th>478</th>\n      <td>9.990000e+09</td>\n      <td>0</td>\n      <td>904.0</td>\n      <td>160.807</td>\n      <td>0.0</td>\n      <td>479.0</td>\n      <td>NaN</td>\n      <td>NaN</td>\n      <td>NaN</td>\n      <td>1.0</td>\n      <td>NaN</td>\n      <td>NaN</td>\n      <td>NaN</td>\n    </tr>\n    <tr>\n      <th>479</th>\n      <td>9.990000e+09</td>\n      <td>0</td>\n      <td>904.0</td>\n      <td>2.789</td>\n      <td>0.0</td>\n      <td>480.0</td>\n      <td>NaN</td>\n      <td>NaN</td>\n      <td>NaN</td>\n      <td>1.0</td>\n      <td>NaN</td>\n      <td>NaN</td>\n      <td>NaN</td>\n    </tr>\n  </tbody>\n</table>\n<p>480 rows × 13 columns</p>\n</div>"
     },
     "metadata": {},
     "execution_count": 12
    }
   ],
   "source": [
    "segments_filtered = red_seg[['Frag','HUC2','HUC4']]\n",
    "segments_filtered = segments_filtered.reset_index(drop=True)\n",
    "segments_filtered\n",
    "fragments = red_frag.join(segments_filtered, on = 'Frag', how= 'left', lsuffix='_left', rsuffix='_right')\n",
    "fragments"
   ]
  },
  {
   "cell_type": "code",
   "execution_count": 13,
   "metadata": {},
   "outputs": [
    {
     "output_type": "execute_result",
     "data": {
      "text/plain": [
       "       DamCount  LENGTHKM    Norm_stor  Frag_Index   DnHydroseq         QC_MA  \\\n",
       "Frag                                                                            \n",
       "19785         1   998.014  130748880.0           1  840002034.0  1.034610e+08   \n",
       "19788         1   183.573     863436.0           2  840003772.0  1.709735e+07   \n",
       "19789         1     3.585     493392.0           3  840004171.0  7.724438e+05   \n",
       "19790         1    21.312    4317180.0           4  840004401.0  2.573622e+07   \n",
       "19791         1    37.268   15393830.4           5  840005270.0  1.608201e+07   \n",
       "...         ...       ...          ...         ...          ...           ...   \n",
       "52123         0     3.178          0.0         476          NaN           NaN   \n",
       "52124         0   207.128          0.0         477          NaN           NaN   \n",
       "52125         0    16.293          0.0         478          NaN           NaN   \n",
       "52126         0   160.807          0.0         479          NaN           NaN   \n",
       "52127         0     2.789          0.0         480          NaN           NaN   \n",
       "\n",
       "        FragDn  HeadFlag  \n",
       "Frag                      \n",
       "19785  28177.0         1  \n",
       "19788  19785.0         1  \n",
       "19789  19788.0         1  \n",
       "19790  19800.0         1  \n",
       "19791  19790.0         1  \n",
       "...        ...       ...  \n",
       "52123      NaN         1  \n",
       "52124      NaN         1  \n",
       "52125      NaN         1  \n",
       "52126      NaN         1  \n",
       "52127      NaN         1  \n",
       "\n",
       "[480 rows x 8 columns]"
      ],
      "text/html": "<div>\n<style scoped>\n    .dataframe tbody tr th:only-of-type {\n        vertical-align: middle;\n    }\n\n    .dataframe tbody tr th {\n        vertical-align: top;\n    }\n\n    .dataframe thead th {\n        text-align: right;\n    }\n</style>\n<table border=\"1\" class=\"dataframe\">\n  <thead>\n    <tr style=\"text-align: right;\">\n      <th></th>\n      <th>DamCount</th>\n      <th>LENGTHKM</th>\n      <th>Norm_stor</th>\n      <th>Frag_Index</th>\n      <th>DnHydroseq</th>\n      <th>QC_MA</th>\n      <th>FragDn</th>\n      <th>HeadFlag</th>\n    </tr>\n    <tr>\n      <th>Frag</th>\n      <th></th>\n      <th></th>\n      <th></th>\n      <th></th>\n      <th></th>\n      <th></th>\n      <th></th>\n      <th></th>\n    </tr>\n  </thead>\n  <tbody>\n    <tr>\n      <th>19785</th>\n      <td>1</td>\n      <td>998.014</td>\n      <td>130748880.0</td>\n      <td>1</td>\n      <td>840002034.0</td>\n      <td>1.034610e+08</td>\n      <td>28177.0</td>\n      <td>1</td>\n    </tr>\n    <tr>\n      <th>19788</th>\n      <td>1</td>\n      <td>183.573</td>\n      <td>863436.0</td>\n      <td>2</td>\n      <td>840003772.0</td>\n      <td>1.709735e+07</td>\n      <td>19785.0</td>\n      <td>1</td>\n    </tr>\n    <tr>\n      <th>19789</th>\n      <td>1</td>\n      <td>3.585</td>\n      <td>493392.0</td>\n      <td>3</td>\n      <td>840004171.0</td>\n      <td>7.724438e+05</td>\n      <td>19788.0</td>\n      <td>1</td>\n    </tr>\n    <tr>\n      <th>19790</th>\n      <td>1</td>\n      <td>21.312</td>\n      <td>4317180.0</td>\n      <td>4</td>\n      <td>840004401.0</td>\n      <td>2.573622e+07</td>\n      <td>19800.0</td>\n      <td>1</td>\n    </tr>\n    <tr>\n      <th>19791</th>\n      <td>1</td>\n      <td>37.268</td>\n      <td>15393830.4</td>\n      <td>5</td>\n      <td>840005270.0</td>\n      <td>1.608201e+07</td>\n      <td>19790.0</td>\n      <td>1</td>\n    </tr>\n    <tr>\n      <th>...</th>\n      <td>...</td>\n      <td>...</td>\n      <td>...</td>\n      <td>...</td>\n      <td>...</td>\n      <td>...</td>\n      <td>...</td>\n      <td>...</td>\n    </tr>\n    <tr>\n      <th>52123</th>\n      <td>0</td>\n      <td>3.178</td>\n      <td>0.0</td>\n      <td>476</td>\n      <td>NaN</td>\n      <td>NaN</td>\n      <td>NaN</td>\n      <td>1</td>\n    </tr>\n    <tr>\n      <th>52124</th>\n      <td>0</td>\n      <td>207.128</td>\n      <td>0.0</td>\n      <td>477</td>\n      <td>NaN</td>\n      <td>NaN</td>\n      <td>NaN</td>\n      <td>1</td>\n    </tr>\n    <tr>\n      <th>52125</th>\n      <td>0</td>\n      <td>16.293</td>\n      <td>0.0</td>\n      <td>478</td>\n      <td>NaN</td>\n      <td>NaN</td>\n      <td>NaN</td>\n      <td>1</td>\n    </tr>\n    <tr>\n      <th>52126</th>\n      <td>0</td>\n      <td>160.807</td>\n      <td>0.0</td>\n      <td>479</td>\n      <td>NaN</td>\n      <td>NaN</td>\n      <td>NaN</td>\n      <td>1</td>\n    </tr>\n    <tr>\n      <th>52127</th>\n      <td>0</td>\n      <td>2.789</td>\n      <td>0.0</td>\n      <td>480</td>\n      <td>NaN</td>\n      <td>NaN</td>\n      <td>NaN</td>\n      <td>1</td>\n    </tr>\n  </tbody>\n</table>\n<p>480 rows × 8 columns</p>\n</div>"
     },
     "metadata": {},
     "execution_count": 13
    }
   ],
   "source": [
    "red_frag2 = pd.read_csv(gdrive/'all_csvs_from_Rachel_testing/Red_fragments.csv', index_col=0)\n",
    "red_frag2"
   ]
  },
  {
   "cell_type": "code",
   "execution_count": null,
   "metadata": {},
   "outputs": [],
   "source": []
  }
 ],
 "metadata": {
  "kernelspec": {
   "display_name": "Python 3",
   "language": "python",
   "name": "python3"
  },
  "language_info": {
   "codemirror_mode": {
    "name": "ipython",
    "version": 3
   },
   "file_extension": ".py",
   "mimetype": "text/x-python",
   "name": "python",
   "nbconvert_exporter": "python",
   "pygments_lexer": "ipython3",
   "version": "3.8.1-final"
  }
 },
 "nbformat": 4,
 "nbformat_minor": 4
}