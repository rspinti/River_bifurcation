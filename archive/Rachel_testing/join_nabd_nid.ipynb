{
 "cells": [
  {
   "cell_type": "markdown",
   "metadata": {},
   "source": [
    "# Joining NABD and NID"
   ]
  },
  {
   "cell_type": "code",
   "execution_count": 23,
   "metadata": {},
   "outputs": [],
   "source": [
    "import geopandas as gp, pandas as pd, matplotlib as mpl\n",
    "from pathlib import Path\n",
    "gdrive = Path(\"/Volumes/GoogleDrive/My Drive/Condon_Research_Group/Research_Projects/Rachel/Research/Data/bifurcation_data_repo\") #where shapefiles/csv live \n",
    "# gdrive2 = Path(\"/Volumes/GoogleDrive/My Drive/Condon_Research_Group/Research_Projects/Jen_Dams/Matching\") #where shapefiles/csv live "
   ]
  },
  {
   "source": [
    "### Read in data"
   ],
   "cell_type": "markdown",
   "metadata": {}
  },
  {
   "cell_type": "code",
   "execution_count": 24,
   "metadata": {},
   "outputs": [],
   "source": [
    "# NABD\n",
    "nabd_dams = gp.read_file(gdrive/\"nabd/nabd_fish_barriers_2012.shp\")  #read in NABD from Drive\n",
    "nabd_dams = pd.DataFrame(nabd_dams)\n",
    "\n",
    "#### filtering\n",
    "nabd_dams = nabd_dams.drop_duplicates(subset='NIDID', keep=\"first\")  #drop everything after first duplicate\n",
    "nabd_dams = nabd_dams[['COMID', 'NIDID', 'Norm_stor', 'Max_stor','Year_compl', 'Purposes', 'geometry', 'Dam_name']]\n",
    "nabd_dams.Norm_stor = nabd_dams.Norm_stor * 1233.48\n",
    "\n",
    "# NID\n",
    "nid = pd.read_csv(gdrive/'other_dam_datasets/NID2019_U.csv', usecols=['NIDID', 'NORMAL_STORAGE', 'MAX_STORAGE', 'YEAR_COMPLETED', 'DAM_NAME', 'LATITUDE', 'LONGITUDE'])\n",
    "\n",
    "#### filtering\n",
    "nid.NORMAL_STORAGE = nid.NORMAL_STORAGE * 1233.48   #convert units to cubic meters"
   ]
  },
  {
   "source": [
    "### Figuring out what is missing"
   ],
   "cell_type": "markdown",
   "metadata": {}
  },
  {
   "cell_type": "code",
   "execution_count": 25,
   "metadata": {},
   "outputs": [
    {
     "output_type": "stream",
     "name": "stdout",
     "text": [
      "missing # 42648\nlarge missing # 171\n"
     ]
    }
   ],
   "source": [
    "#Merge on NID\n",
    "nid_by_ID = nid.merge(nabd_dams, on = 'NIDID', how = 'left')\n",
    "nid_by_ID['COMID'] = nid_by_ID['COMID'].fillna(0)\n",
    "missing = nid_by_ID[nid_by_ID['COMID'] ==0]\n",
    "\n",
    "print('missing #',len(missing))\n",
    "\n",
    "large_missing = missing[missing['NORMAL_STORAGE']>=10**8]  #is it 10^8 or 10^6?\n",
    "print('large missing #', len(large_missing))\n",
    "large_missing.to_csv('large_dams_missing.csv')"
   ]
  },
  {
   "source": [
    "### Make NID look like NABD, so we can add in missing dams"
   ],
   "cell_type": "markdown",
   "metadata": {}
  },
  {
   "cell_type": "code",
   "execution_count": 26,
   "metadata": {},
   "outputs": [
    {
     "output_type": "execute_result",
     "data": {
      "text/plain": [
       "                                         DAM_NAME    NIDID   LONGITUDE  \\\n",
       "0                                     COOPER LAKE  AK00001 -149.823147   \n",
       "1                                       BLUE LAKE  AK00002 -135.191700   \n",
       "2                                    SALMON CREEK  AK00003 -134.403608   \n",
       "3                                     ANNEX CREEK  AK00004 -134.126578   \n",
       "4                                    CRYSTAL LAKE  AK00005 -132.845500   \n",
       "...                                           ...      ...         ...   \n",
       "91452                           SHELL CREEK NO. 2  WY02601 -107.413988   \n",
       "91453                         WASHAKIE DIKE NO. 1  WY02902 -109.006036   \n",
       "91454                         WASHAKIE DIKE NO. 2  WY02903 -109.011705   \n",
       "91455                         WASHAKIE DIKE NO. 3  WY02904 -109.014574   \n",
       "91456  SMITH RANCH - HIGHLAND SATELLITE NO. 2 DAM  WY83120 -105.574400   \n",
       "\n",
       "        LATITUDE  YEAR_COMPLETED  MAX_STORAGE  NORMAL_STORAGE  \\\n",
       "0      60.433708          1959.0     127600.0    1.381498e+08   \n",
       "1      57.063300          1961.0     266000.0    3.281057e+08   \n",
       "2      58.341850          1914.0      18000.0    1.480176e+07   \n",
       "3      58.326939          1968.0      23400.0    2.886343e+07   \n",
       "4      56.600000          1955.0       5800.0    6.414096e+06   \n",
       "...          ...             ...          ...             ...   \n",
       "91452  44.516375          1957.0       1949.0    2.404053e+06   \n",
       "91453  42.979746          1935.0      10300.0    9.793831e+06   \n",
       "91454  42.979860          1935.0      10300.0    9.793831e+06   \n",
       "91455  42.979238          1935.0      10300.0    9.793831e+06   \n",
       "91456  43.101390          1979.0        472.0    3.959471e+05   \n",
       "\n",
       "                          geometry  \n",
       "0      POINT (-149.82315 60.43371)  \n",
       "1      POINT (-135.19170 57.06330)  \n",
       "2      POINT (-134.40361 58.34185)  \n",
       "3      POINT (-134.12658 58.32694)  \n",
       "4      POINT (-132.84550 56.60000)  \n",
       "...                            ...  \n",
       "91452  POINT (-107.41399 44.51637)  \n",
       "91453  POINT (-109.00604 42.97975)  \n",
       "91454  POINT (-109.01170 42.97986)  \n",
       "91455  POINT (-109.01457 42.97924)  \n",
       "91456  POINT (-105.57440 43.10139)  \n",
       "\n",
       "[91457 rows x 8 columns]"
      ],
      "text/html": "<div>\n<style scoped>\n    .dataframe tbody tr th:only-of-type {\n        vertical-align: middle;\n    }\n\n    .dataframe tbody tr th {\n        vertical-align: top;\n    }\n\n    .dataframe thead th {\n        text-align: right;\n    }\n</style>\n<table border=\"1\" class=\"dataframe\">\n  <thead>\n    <tr style=\"text-align: right;\">\n      <th></th>\n      <th>DAM_NAME</th>\n      <th>NIDID</th>\n      <th>LONGITUDE</th>\n      <th>LATITUDE</th>\n      <th>YEAR_COMPLETED</th>\n      <th>MAX_STORAGE</th>\n      <th>NORMAL_STORAGE</th>\n      <th>geometry</th>\n    </tr>\n  </thead>\n  <tbody>\n    <tr>\n      <th>0</th>\n      <td>COOPER LAKE</td>\n      <td>AK00001</td>\n      <td>-149.823147</td>\n      <td>60.433708</td>\n      <td>1959.0</td>\n      <td>127600.0</td>\n      <td>1.381498e+08</td>\n      <td>POINT (-149.82315 60.43371)</td>\n    </tr>\n    <tr>\n      <th>1</th>\n      <td>BLUE LAKE</td>\n      <td>AK00002</td>\n      <td>-135.191700</td>\n      <td>57.063300</td>\n      <td>1961.0</td>\n      <td>266000.0</td>\n      <td>3.281057e+08</td>\n      <td>POINT (-135.19170 57.06330)</td>\n    </tr>\n    <tr>\n      <th>2</th>\n      <td>SALMON CREEK</td>\n      <td>AK00003</td>\n      <td>-134.403608</td>\n      <td>58.341850</td>\n      <td>1914.0</td>\n      <td>18000.0</td>\n      <td>1.480176e+07</td>\n      <td>POINT (-134.40361 58.34185)</td>\n    </tr>\n    <tr>\n      <th>3</th>\n      <td>ANNEX CREEK</td>\n      <td>AK00004</td>\n      <td>-134.126578</td>\n      <td>58.326939</td>\n      <td>1968.0</td>\n      <td>23400.0</td>\n      <td>2.886343e+07</td>\n      <td>POINT (-134.12658 58.32694)</td>\n    </tr>\n    <tr>\n      <th>4</th>\n      <td>CRYSTAL LAKE</td>\n      <td>AK00005</td>\n      <td>-132.845500</td>\n      <td>56.600000</td>\n      <td>1955.0</td>\n      <td>5800.0</td>\n      <td>6.414096e+06</td>\n      <td>POINT (-132.84550 56.60000)</td>\n    </tr>\n    <tr>\n      <th>...</th>\n      <td>...</td>\n      <td>...</td>\n      <td>...</td>\n      <td>...</td>\n      <td>...</td>\n      <td>...</td>\n      <td>...</td>\n      <td>...</td>\n    </tr>\n    <tr>\n      <th>91452</th>\n      <td>SHELL CREEK NO. 2</td>\n      <td>WY02601</td>\n      <td>-107.413988</td>\n      <td>44.516375</td>\n      <td>1957.0</td>\n      <td>1949.0</td>\n      <td>2.404053e+06</td>\n      <td>POINT (-107.41399 44.51637)</td>\n    </tr>\n    <tr>\n      <th>91453</th>\n      <td>WASHAKIE DIKE NO. 1</td>\n      <td>WY02902</td>\n      <td>-109.006036</td>\n      <td>42.979746</td>\n      <td>1935.0</td>\n      <td>10300.0</td>\n      <td>9.793831e+06</td>\n      <td>POINT (-109.00604 42.97975)</td>\n    </tr>\n    <tr>\n      <th>91454</th>\n      <td>WASHAKIE DIKE NO. 2</td>\n      <td>WY02903</td>\n      <td>-109.011705</td>\n      <td>42.979860</td>\n      <td>1935.0</td>\n      <td>10300.0</td>\n      <td>9.793831e+06</td>\n      <td>POINT (-109.01170 42.97986)</td>\n    </tr>\n    <tr>\n      <th>91455</th>\n      <td>WASHAKIE DIKE NO. 3</td>\n      <td>WY02904</td>\n      <td>-109.014574</td>\n      <td>42.979238</td>\n      <td>1935.0</td>\n      <td>10300.0</td>\n      <td>9.793831e+06</td>\n      <td>POINT (-109.01457 42.97924)</td>\n    </tr>\n    <tr>\n      <th>91456</th>\n      <td>SMITH RANCH - HIGHLAND SATELLITE NO. 2 DAM</td>\n      <td>WY83120</td>\n      <td>-105.574400</td>\n      <td>43.101390</td>\n      <td>1979.0</td>\n      <td>472.0</td>\n      <td>3.959471e+05</td>\n      <td>POINT (-105.57440 43.10139)</td>\n    </tr>\n  </tbody>\n</table>\n<p>91457 rows × 8 columns</p>\n</div>"
     },
     "metadata": {},
     "execution_count": 26
    }
   ],
   "source": [
    "nid_gdf = gp.GeoDataFrame(nid, geometry=gp.points_from_xy(nid.LONGITUDE, nid.LATITUDE))\n",
    "nid_gdf\n",
    "# 'COMID', 'NIDID', 'Norm_stor', 'Max_stor', 'Year_compl', 'Purposes', 'geometry'"
   ]
  },
  {
   "cell_type": "code",
   "execution_count": 27,
   "metadata": {},
   "outputs": [],
   "source": [
    "# nid_nhd_join = gp.sjoin(nid_gdf, flowlines, how=\"left\", op='intersects')\n",
    "# nid_nhd_join "
   ]
  },
  {
   "source": [
    "## Updating NIDID"
   ],
   "cell_type": "markdown",
   "metadata": {}
  },
  {
   "cell_type": "code",
   "execution_count": 28,
   "metadata": {},
   "outputs": [],
   "source": [
    "# nabd_updateID = nabd_dams.copy()\n",
    "# nabd_updateID.iloc[:,1]"
   ]
  },
  {
   "cell_type": "code",
   "execution_count": 29,
   "metadata": {},
   "outputs": [],
   "source": [
    "# updated_ids = []\n",
    "# nabd_ids = []\n",
    "# wrong_id = pd.read_csv('/Users/rachelspinti/Documents/River_bifurcation/archive/Rachel_testing/large_dams_wrongID.csv', index_col = 0, usecols= [1, 2, 3, 4,5,6,7,8,9,10,11,12,13,14,15])\n",
    "# # wrong_id['NABD_NIDID'] = wrong_id['NABD_NIDID'].fillna(0)\n",
    "# wrong_id = wrong_id[wrong_id['NABD_NIDID'].notna()]\n",
    "# wrong_id\n",
    "# for i in wrong_id.NABD_NIDID:\n",
    "#     # if wrong_id.loc[i, 'NABD_NIDID'].notna():\n",
    "#         # print(i)\n",
    "#     nabd_ids.append(i)\n",
    "# for i in wrong_id.NIDID:\n",
    "#     updated_ids.append(i)\n",
    "# # if nabd_updateID.NIDID == 'OK02500':\n",
    "# #     nabd_updateID.NIDID = 'OK82901'\n",
    "# # nabd_updateID\n",
    "# nabd_ids\n",
    "# updated_ids\n"
   ]
  },
  {
   "cell_type": "code",
   "execution_count": 30,
   "metadata": {
    "tags": []
   },
   "outputs": [],
   "source": [
    "# for i in nabd_updateID.NIDID:\n",
    "#     if i in nabd_ids:\n",
    "#         print(i)\n",
    "#     #     nabd_updateID.loc[i,'NIDID'] = updated_ids[i]\n"
   ]
  },
  {
   "source": [
    "## Junk"
   ],
   "cell_type": "markdown",
   "metadata": {}
  },
  {
   "cell_type": "code",
   "execution_count": 31,
   "metadata": {},
   "outputs": [],
   "source": [
    "# wrong_id = pd.read_csv('/Users/rachelspinti/Documents/River_bifurcation/archive/Rachel_testing/large_dams_wrongID.csv', index_col = 0, usecols= [1, 2, 3, 4,5,6,7,8,9,10,11,12,13,14,15])\n",
    "# print(wrong_id.Dam_name)"
   ]
  },
  {
   "cell_type": "code",
   "execution_count": 32,
   "metadata": {},
   "outputs": [],
   "source": [
    "# nid = pd.read_csv(gdrive/'other_dam_datasets/NID2019_U.csv')\n",
    "# nid.columns\n",
    "# nid.NORMAL_STORAGE"
   ]
  },
  {
   "cell_type": "code",
   "execution_count": 33,
   "metadata": {},
   "outputs": [],
   "source": [
    "# nid.MAX_STORAGE"
   ]
  },
  {
   "cell_type": "code",
   "execution_count": null,
   "metadata": {},
   "outputs": [],
   "source": []
  }
 ],
 "metadata": {
  "kernelspec": {
   "display_name": "Python 3",
   "language": "python",
   "name": "python3"
  },
  "language_info": {
   "codemirror_mode": {
    "name": "ipython",
    "version": 3
   },
   "file_extension": ".py",
   "mimetype": "text/x-python",
   "name": "python",
   "nbconvert_exporter": "python",
   "pygments_lexer": "ipython3",
   "version": "3.8.1-final"
  }
 },
 "nbformat": 4,
 "nbformat_minor": 4
}