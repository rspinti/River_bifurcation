{
 "cells": [
  {
   "cell_type": "markdown",
   "metadata": {},
   "source": [
    "# Dissolve testing - dissolve by HUC\n",
    "This notebook will be used to test the dissolve function in geopandas to map indices by HUC 2, 4, and 8. "
   ]
  },
  {
   "cell_type": "code",
   "execution_count": 1,
   "metadata": {},
   "outputs": [],
   "source": [
    "import pandas as pd, geopandas as gp, matplotlib.pyplot as plt, matplotlib as mpl, numpy as np\n",
    "from shapely import wkt"
   ]
  },
  {
   "cell_type": "code",
   "execution_count": 2,
   "metadata": {},
   "outputs": [],
   "source": [
    "# # Read in extracted_HUC1019 file\n",
    "# test_1019 = pd.read_csv('extracted1019_segGeo.csv')\n",
    "# # test_1019.columns\n",
    "# test_1019.Coordinates = test_1019.Coordinates.astype(str)\n",
    "# test_1019['Coordinates'] = test_1019['Coordinates'].apply(wkt.loads)\n",
    "# test_1019Geo = gp.GeoDataFrame(test_1019, geometry='Coordinates')\n",
    "# test =  pd.read_csv('/Users/rachelspinti/Documents/River_bifurcation/extracted_HUC1019.csv')\n",
    "# test.columns\n",
    "\n",
    "# test.Coordinates = test.Coordinates.astype(str)\n",
    "# test['Coordinates'] = test['Coordinates'].apply(wkt.loads)\n",
    "# testGeo = gp.GeoDataFrame(test, geometry='Coordinates')\n",
    "# test.REACHCODE"
   ]
  },
  {
   "cell_type": "code",
   "execution_count": 3,
   "metadata": {
    "tags": []
   },
   "outputs": [],
   "source": [
    "# var = 'Hydroseq'\n",
    "# # test_1019Geo.plot(column=var, legend=True, cmap='viridis_r',\n",
    "# # legend_kwds={'label': var, 'orientation': \"horizontal\"}, vmin=0, vmax=4)\n",
    "# test_1019Geo.plot()"
   ]
  },
  {
   "cell_type": "code",
   "execution_count": 4,
   "metadata": {},
   "outputs": [],
   "source": [
    "# testGeo.plot()"
   ]
  },
  {
   "cell_type": "code",
   "execution_count": 5,
   "metadata": {},
   "outputs": [],
   "source": [
    "# test_1019Geo.columns"
   ]
  },
  {
   "cell_type": "code",
   "execution_count": 6,
   "metadata": {},
   "outputs": [],
   "source": [
    "# Read in a HUC\n",
    "# huc4 = gp.read_file(\"hucs_to_test/HUC4_CONUS.shp\") \n",
    "# huc4.plot()"
   ]
  },
  {
   "cell_type": "code",
   "execution_count": 7,
   "metadata": {},
   "outputs": [],
   "source": [
    "# huc4.columns\n",
    "# huc4.head"
   ]
  },
  {
   "cell_type": "code",
   "execution_count": 8,
   "metadata": {},
   "outputs": [],
   "source": [
    "# huc1019 = huc4[huc4['HUC4'] == '1019']\n",
    "# huc1019.plot()"
   ]
  },
  {
   "cell_type": "code",
   "execution_count": 9,
   "metadata": {},
   "outputs": [],
   "source": [
    "# huc1019.crs\n",
    "# print(testGeo.crs)"
   ]
  },
  {
   "cell_type": "code",
   "execution_count": 10,
   "metadata": {},
   "outputs": [],
   "source": [
    "# huc1019 = int(huc1019['HUC4'])\n",
    "# huc1019['HUC4']"
   ]
  },
  {
   "cell_type": "code",
   "execution_count": 11,
   "metadata": {},
   "outputs": [],
   "source": [
    "# test['HUC2'] = test['REACHCODE']/10**2#convert Reachcode to HUC 2 format\n",
    "# test['HUC4'] = test['REACHCODE'] #add column with HUC 4\n",
    "# # test['HUC2'] = test['REACHCODE'][:2] #convert Reachcode to HUC 2 format\n",
    "# # flowlines['REACHCODE'] = flowlines['REACHCODE']/(10**10) #convert Reachcode to HUC 4 format\n",
    "# test['HUC2'] = test['HUC2'].apply(np.floor) #round down to integer\n",
    "# test['HUC2']"
   ]
  },
  {
   "cell_type": "code",
   "execution_count": 12,
   "metadata": {},
   "outputs": [],
   "source": [
    "# huc4 = int(huc4['HUC4'][:])\n",
    "# df_w_polygon = pd.merge(test, huc4, left_on = 'REACHCODE', right_on = 'HUC4', how = 'left')\n",
    "# df_w_polygon = pd.concat([test, huc1019])\n",
    "# df_w_polygon\n",
    "\n"
   ]
  },
  {
   "cell_type": "code",
   "execution_count": 13,
   "metadata": {},
   "outputs": [],
   "source": [
    "# test.columns\n",
    "# test_1019.columns"
   ]
  },
  {
   "cell_type": "markdown",
   "metadata": {},
   "source": [
    "# Trying workflow with Red"
   ]
  },
  {
   "cell_type": "code",
   "execution_count": 14,
   "metadata": {},
   "outputs": [],
   "source": [
    "# # 1. Read in Red csv\n",
    "# Red_seg = pd.read_csv('Red_segGeo.csv')\n",
    "# Red_flow =  pd.read_csv('/Users/rachelspinti/Documents/River_bifurcation/all_basins_unfiltered_workflow/Red.csv', usecols=['Hydroseq', 'REACHCODE', 'HUC2', 'HUC4', 'HUC8'])\n",
    "# Red_flow = Red_flow.rename(columns={'HUC2': 'HUC2_no', 'HUC4': 'HUC4_no', 'HUC8': 'HUC8_no'})\n",
    "# Red_merge = pd.merge(Red_seg, Red_flow, on = 'Hydroseq', how = 'left', left_index = True)\n",
    "# Red_merge.columns"
   ]
  },
  {
   "cell_type": "code",
   "execution_count": 15,
   "metadata": {},
   "outputs": [],
   "source": [
    "# Red_merge['dci'].unique()"
   ]
  },
  {
   "cell_type": "code",
   "execution_count": 16,
   "metadata": {},
   "outputs": [],
   "source": [
    "# 2. Group by the HUCs\n",
    "# dor_test = Red_merge.groupby('HUC4_no')['DOR'].mean()\n",
    "# dor_test\n",
    "# fragments0 = segments.pivot_table(values=['LENGTHKM', 'DamCount', 'Norm_stor'], index='Frag', aggfunc=sum)"
   ]
  },
  {
   "cell_type": "code",
   "execution_count": 17,
   "metadata": {},
   "outputs": [],
   "source": [
    "# huc4['DOR'] = huc4['HUC4']\n",
    "# dor_merge = pd.merge(huc4, dor_test, left_on = 'HUC4_no', right_on = 'HUC4', how = 'left')\n",
    "# huc4 = huc4.join(dor_test, on = 'HUC4_no', how = 'left', lsuffix='_left', rsuffix='_right')\n",
    "# type(dor_merge)"
   ]
  },
  {
   "cell_type": "code",
   "execution_count": 18,
   "metadata": {},
   "outputs": [],
   "source": [
    "# dor_merge.columns\n",
    "\n",
    "# var = \"DOR_y\"\n",
    "# # dor_mergeGeo[var] = dor_merge_up[var]\n",
    "# # dor_merge.plot()\n",
    "# dor_merge.plot(column=var, legend=True, cmap='viridis_r',\n",
    "#                  legend_kwds={'label': var, 'orientation': \"horizontal\"},\n",
    "#                  vmin=0, vmax=1)\n",
    "\n",
    "\n",
    "\n",
    "# var = \"DOR\"\n",
    "# # dor_mergeGeo[var] = dor_merge_up[var]\n",
    "# # dor_merge.plot()\n",
    "# huc4.plot(column=var, legend=True, cmap='viridis_r',\n",
    "#                  legend_kwds={'label': var, 'orientation': \"horizontal\"},\n",
    "#                  vmin=0, vmax=1)"
   ]
  },
  {
   "cell_type": "code",
   "execution_count": 19,
   "metadata": {},
   "outputs": [],
   "source": [
    "# huc4.columns"
   ]
  },
  {
   "source": [
    "## Getting average by HUC fxn working"
   ],
   "cell_type": "markdown",
   "metadata": {}
  },
  {
   "cell_type": "code",
   "execution_count": 20,
   "metadata": {},
   "outputs": [],
   "source": [
    "##folder on the GDrive to save output files to\n",
    "folder = 'rachel_testing/'\n",
    "\n",
    "gdrive = \"/Volumes/GoogleDrive/My Drive/Condon_Research_Group/Research_Projects/Rachel/Research/Data/bifurcation_data_repo/\" #where shapefiles/csv live \n"
   ]
  },
  {
   "cell_type": "code",
   "execution_count": 21,
   "metadata": {},
   "outputs": [
    {
     "output_type": "stream",
     "name": "stdout",
     "text": [
      "Finished writing huc2 indices to csv\n"
     ]
    },
    {
     "output_type": "execute_result",
     "data": {
      "text/plain": [
       "    OBJECTID                                   TNMID MetaSource SourceData  \\\n",
       "0          1  {88409808-730B-4288-888C-639A159B174F}       None       None   \n",
       "1          1  {4737E213-E560-4279-AE68-B2FB9C3A3D40}       None       None   \n",
       "2          1  {9567C98F-F09E-4C52-B2ED-C770AC69261B}       None       None   \n",
       "3          1  {55B52F2D-76B0-44EA-8BE7-B371E86617AC}       None       None   \n",
       "4          1  {5A8D623A-5571-4976-A98E-019A7A94E228}       None       None   \n",
       "5          1  {3F14F28C-7183-4EA3-89B1-0AB7B3843F20}       None       None   \n",
       "6          1  {142390F9-84A3-42CF-A41C-ED4F0EB4E6FC}       None       None   \n",
       "7          1  {87290825-BAC9-4D07-8A32-E35A873C0BD1}       None       None   \n",
       "8          1  {3F461CFD-F4C2-4905-8E79-E6B5F4F45DAE}       None       None   \n",
       "9          1  {4AEF9DDF-A9C6-400E-8FD8-180FD5C29F69}       None       None   \n",
       "10         1  {31AE82B1-B1F0-4839-A09B-1836570B4D37}       None       None   \n",
       "11         1  {0A6AC738-CCB8-4C3E-B6F0-566885AE483C}       None       None   \n",
       "12         1  {9F7DA17F-2AB2-4A27-B6AD-C3475BBA7C4A}       None       None   \n",
       "13         1  {D924BD6E-507C-4E5B-A86C-DDDDE00752A5}       None       None   \n",
       "14         1  {CD889A0A-B9F8-46F0-A12A-E2BED340DAC8}       None       None   \n",
       "15         1  {5C6AE09C-4CFC-4EBA-9344-A91AF35E73E8}       None       None   \n",
       "16         1  {629AF1ED-9415-452F-94CA-E43D64B86FCE}       None       None   \n",
       "17         1  {9C77B5BA-946A-4537-BADD-990373DEFFBB}       None       None   \n",
       "\n",
       "   SourceOrig SourceFeat    LoadDate    AreaSqKm     AreaAcres  GNIS_ID  ...  \\\n",
       "0        None       None  2019-04-17  9999999.00  9.999999e+06  1111111  ...   \n",
       "1        None       None  2019-05-23   259212.79  6.405282e+07  2730139  ...   \n",
       "2        None       None  2018-04-20   367048.98  9.069970e+07  2730147  ...   \n",
       "3        None       None  2017-09-19   293569.02  7.254242e+07  2730145  ...   \n",
       "4        None       None  2018-05-14   424356.93  1.048608e+08  2730146  ...   \n",
       "5        None       None  2017-10-23  1349418.25  3.334482e+08  2730141  ...   \n",
       "6        None       None  2017-08-01   105949.07  2.618056e+07  2730136  ...   \n",
       "7        None       None  2019-07-31   198830.03  4.913193e+07  2730131  ...   \n",
       "8        None       None  2017-10-15   642212.47  1.586940e+08  2730142  ...   \n",
       "9        None       None  2018-02-01   276482.00  6.832013e+07  2730132  ...   \n",
       "10       None       None  2017-11-06   836516.99  2.067077e+08  2730148  ...   \n",
       "11       None       None  2017-11-03   276035.62  6.820983e+07  2730138  ...   \n",
       "12       None       None  2017-11-05   474544.10  1.172623e+08  2730143  ...   \n",
       "13       None       None  2018-05-14   436624.37  1.078921e+08  2730149  ...   \n",
       "14       None       None  2018-05-15   597882.94  1.477400e+08  2730144  ...   \n",
       "15       None       None  2018-02-01   421966.18  1.042700e+08  2730135  ...   \n",
       "16       None       None  2019-03-15   492032.97  1.215839e+08  2730137  ...   \n",
       "17       None       None  2018-07-17   739947.45  1.828448e+08  2730133  ...   \n",
       "\n",
       "                                 States HUC2  Shape_Leng  Shape_Area  \\\n",
       "0                                    KY    4   99.000000   99.000000   \n",
       "1                        CN,MN,MT,ND,SD    9   84.935877   31.519530   \n",
       "2                     CA,ID,NV,OR,UT,WY   16   68.035713   38.576669   \n",
       "3                        AZ,CO,NM,UT,WY   14   44.609931   30.612941   \n",
       "4                     AZ,CA,MX,NM,NV,UT   15   59.139121   41.432427   \n",
       "5   CN,CO,IA,ID,KS,MN,MO,MT,ND,NE,SD,WY   10  107.946258  151.005995   \n",
       "6            AL,GA,KY,MS,NC,SC,TN,VA,WV    6   34.532411   10.537707   \n",
       "7               CN,CT,MA,ME,NH,NY,RI,VT    1   48.199356   22.483720   \n",
       "8               AR,CO,KS,LA,MO,NM,OK,TX   11   71.576257   64.292670   \n",
       "9   CT,DC,DE,MA,MD,NJ,NY,PA,RI,VA,VT,WV    2   52.372935   29.245640   \n",
       "10           CA,CN,ID,MT,NV,OR,UT,WA,WY   17   92.958915   97.304032   \n",
       "11                 AR,IL,KY,LA,MO,MS,TN    8   49.816844   26.650347   \n",
       "12                             LA,NM,TX   12   43.100713   44.840154   \n",
       "13                          CA,MX,NV,OR   18   61.181205   44.499427   \n",
       "14                          CO,MX,NM,TX   13   92.700178   56.476679   \n",
       "15     IL,IN,KY,MD,NC,NY,OH,PA,TN,VA,WV    5   61.394318   43.813408   \n",
       "16        IA,IL,IN,KY,MI,MN,MO,ND,SD,WI    7   79.280208   54.224551   \n",
       "17           AL,FL,GA,LA,MS,NC,SC,TN,VA    3   70.532347   71.031850   \n",
       "\n",
       "        layer                                               path HUC2_db  \\\n",
       "0   HUC_2_Jun  /Users/junzhang/Documents/DATA/HUC/Shape-3/HUC...     4.0   \n",
       "1      WBDHU2  /Users/junzhang/Documents/DATA/HUC/Shape-8/WBD...     9.0   \n",
       "2      WBDHU2  /Users/junzhang/Documents/DATA/HUC/Shape-15/WB...    16.0   \n",
       "3      WBDHU2  /Users/junzhang/Documents/DATA/HUC/Shape-13/WB...    14.0   \n",
       "4      WBDHU2  /Users/junzhang/Documents/DATA/HUC/Shape-14/WB...    15.0   \n",
       "5      WBDHU2  /Users/junzhang/Documents/DATA/HUC/Shape-9/WBD...    10.0   \n",
       "6      WBDHU2  /Users/junzhang/Documents/DATA/HUC/Shape-5/WBD...     6.0   \n",
       "7      WBDHU2  /Users/junzhang/Documents/DATA/HUC/Shape/WBDHU...     1.0   \n",
       "8      WBDHU2  /Users/junzhang/Documents/DATA/HUC/Shape-10/WB...    11.0   \n",
       "9      WBDHU2  /Users/junzhang/Documents/DATA/HUC/Shape-1/WBD...     2.0   \n",
       "10     WBDHU2  /Users/junzhang/Documents/DATA/HUC/Shape-16/WB...    17.0   \n",
       "11     WBDHU2  /Users/junzhang/Documents/DATA/HUC/Shape-7/WBD...     8.0   \n",
       "12     WBDHU2  /Users/junzhang/Documents/DATA/HUC/Shape-11/WB...    12.0   \n",
       "13     WBDHU2  /Users/junzhang/Documents/DATA/HUC/Shape-17/WB...    18.0   \n",
       "14     WBDHU2  /Users/junzhang/Documents/DATA/HUC/Shape-12/WB...    13.0   \n",
       "15     WBDHU2  /Users/junzhang/Documents/DATA/HUC/Shape-4/WBD...     5.0   \n",
       "16     WBDHU2  /Users/junzhang/Documents/DATA/HUC/Shape-6/WBD...     7.0   \n",
       "17     WBDHU2  /Users/junzhang/Documents/DATA/HUC/Shape-2/WBD...     3.0   \n",
       "\n",
       "       Prior_purp                                           geometry  \\\n",
       "0   Hydroelectric  MULTIPOLYGON (((1545261.698 694230.916, 154525...   \n",
       "1           Other  MULTIPOLYGON (((-488461.991 1156120.217, -4883...   \n",
       "2    Water supply  POLYGON ((-1147712.291 412291.550, -1147684.59...   \n",
       "3   Hydroelectric  POLYGON ((-1012441.697 454011.795, -1012331.82...   \n",
       "4    Water supply  POLYGON ((-1498175.258 94355.210, -1498171.113...   \n",
       "5   Flood control  POLYGON ((-852794.866 1112194.444, -852702.180...   \n",
       "6   Flood control  POLYGON ((1311346.024 -172991.584, 1311388.438...   \n",
       "7   Hydroelectric  MULTIPOLYGON (((1913095.906 419294.272, 191310...   \n",
       "8   Flood control  POLYGON ((-767386.767 -22380.719, -767343.264 ...   \n",
       "9    Water supply  MULTIPOLYGON (((1913102.188 419321.766, 191310...   \n",
       "10  Hydroelectric  POLYGON ((-1418076.376 1581486.997, -1418067.4...   \n",
       "11  Flood control  POLYGON ((569623.807 -208909.822, 569645.609 -...   \n",
       "12   Water supply  POLYGON ((-586976.916 -552300.671, -586888.338...   \n",
       "13          Other  MULTIPOLYGON (((-1895026.518 653381.410, -1895...   \n",
       "14  Flood control  POLYGON ((-763699.328 -123827.537, -763675.799...   \n",
       "15  Flood control  POLYGON ((1413276.792 422870.862, 1413316.602 ...   \n",
       "16  Flood control  POLYGON ((192818.608 838317.909, 192783.203 83...   \n",
       "17  Flood control  MULTIPOLYGON (((1494896.016 -105271.050, 14949...   \n",
       "\n",
       "   avg_LengthUp  \n",
       "0           NaN  \n",
       "1    273.752105  \n",
       "2           NaN  \n",
       "3           NaN  \n",
       "4           NaN  \n",
       "5           NaN  \n",
       "6           NaN  \n",
       "7           NaN  \n",
       "8           NaN  \n",
       "9           NaN  \n",
       "10          NaN  \n",
       "11          NaN  \n",
       "12          NaN  \n",
       "13          NaN  \n",
       "14          NaN  \n",
       "15          NaN  \n",
       "16          NaN  \n",
       "17          NaN  \n",
       "\n",
       "[18 rows x 21 columns]"
      ],
      "text/html": "<div>\n<style scoped>\n    .dataframe tbody tr th:only-of-type {\n        vertical-align: middle;\n    }\n\n    .dataframe tbody tr th {\n        vertical-align: top;\n    }\n\n    .dataframe thead th {\n        text-align: right;\n    }\n</style>\n<table border=\"1\" class=\"dataframe\">\n  <thead>\n    <tr style=\"text-align: right;\">\n      <th></th>\n      <th>OBJECTID</th>\n      <th>TNMID</th>\n      <th>MetaSource</th>\n      <th>SourceData</th>\n      <th>SourceOrig</th>\n      <th>SourceFeat</th>\n      <th>LoadDate</th>\n      <th>AreaSqKm</th>\n      <th>AreaAcres</th>\n      <th>GNIS_ID</th>\n      <th>...</th>\n      <th>States</th>\n      <th>HUC2</th>\n      <th>Shape_Leng</th>\n      <th>Shape_Area</th>\n      <th>layer</th>\n      <th>path</th>\n      <th>HUC2_db</th>\n      <th>Prior_purp</th>\n      <th>geometry</th>\n      <th>avg_LengthUp</th>\n    </tr>\n  </thead>\n  <tbody>\n    <tr>\n      <th>0</th>\n      <td>1</td>\n      <td>{88409808-730B-4288-888C-639A159B174F}</td>\n      <td>None</td>\n      <td>None</td>\n      <td>None</td>\n      <td>None</td>\n      <td>2019-04-17</td>\n      <td>9999999.00</td>\n      <td>9.999999e+06</td>\n      <td>1111111</td>\n      <td>...</td>\n      <td>KY</td>\n      <td>4</td>\n      <td>99.000000</td>\n      <td>99.000000</td>\n      <td>HUC_2_Jun</td>\n      <td>/Users/junzhang/Documents/DATA/HUC/Shape-3/HUC...</td>\n      <td>4.0</td>\n      <td>Hydroelectric</td>\n      <td>MULTIPOLYGON (((1545261.698 694230.916, 154525...</td>\n      <td>NaN</td>\n    </tr>\n    <tr>\n      <th>1</th>\n      <td>1</td>\n      <td>{4737E213-E560-4279-AE68-B2FB9C3A3D40}</td>\n      <td>None</td>\n      <td>None</td>\n      <td>None</td>\n      <td>None</td>\n      <td>2019-05-23</td>\n      <td>259212.79</td>\n      <td>6.405282e+07</td>\n      <td>2730139</td>\n      <td>...</td>\n      <td>CN,MN,MT,ND,SD</td>\n      <td>9</td>\n      <td>84.935877</td>\n      <td>31.519530</td>\n      <td>WBDHU2</td>\n      <td>/Users/junzhang/Documents/DATA/HUC/Shape-8/WBD...</td>\n      <td>9.0</td>\n      <td>Other</td>\n      <td>MULTIPOLYGON (((-488461.991 1156120.217, -4883...</td>\n      <td>273.752105</td>\n    </tr>\n    <tr>\n      <th>2</th>\n      <td>1</td>\n      <td>{9567C98F-F09E-4C52-B2ED-C770AC69261B}</td>\n      <td>None</td>\n      <td>None</td>\n      <td>None</td>\n      <td>None</td>\n      <td>2018-04-20</td>\n      <td>367048.98</td>\n      <td>9.069970e+07</td>\n      <td>2730147</td>\n      <td>...</td>\n      <td>CA,ID,NV,OR,UT,WY</td>\n      <td>16</td>\n      <td>68.035713</td>\n      <td>38.576669</td>\n      <td>WBDHU2</td>\n      <td>/Users/junzhang/Documents/DATA/HUC/Shape-15/WB...</td>\n      <td>16.0</td>\n      <td>Water supply</td>\n      <td>POLYGON ((-1147712.291 412291.550, -1147684.59...</td>\n      <td>NaN</td>\n    </tr>\n    <tr>\n      <th>3</th>\n      <td>1</td>\n      <td>{55B52F2D-76B0-44EA-8BE7-B371E86617AC}</td>\n      <td>None</td>\n      <td>None</td>\n      <td>None</td>\n      <td>None</td>\n      <td>2017-09-19</td>\n      <td>293569.02</td>\n      <td>7.254242e+07</td>\n      <td>2730145</td>\n      <td>...</td>\n      <td>AZ,CO,NM,UT,WY</td>\n      <td>14</td>\n      <td>44.609931</td>\n      <td>30.612941</td>\n      <td>WBDHU2</td>\n      <td>/Users/junzhang/Documents/DATA/HUC/Shape-13/WB...</td>\n      <td>14.0</td>\n      <td>Hydroelectric</td>\n      <td>POLYGON ((-1012441.697 454011.795, -1012331.82...</td>\n      <td>NaN</td>\n    </tr>\n    <tr>\n      <th>4</th>\n      <td>1</td>\n      <td>{5A8D623A-5571-4976-A98E-019A7A94E228}</td>\n      <td>None</td>\n      <td>None</td>\n      <td>None</td>\n      <td>None</td>\n      <td>2018-05-14</td>\n      <td>424356.93</td>\n      <td>1.048608e+08</td>\n      <td>2730146</td>\n      <td>...</td>\n      <td>AZ,CA,MX,NM,NV,UT</td>\n      <td>15</td>\n      <td>59.139121</td>\n      <td>41.432427</td>\n      <td>WBDHU2</td>\n      <td>/Users/junzhang/Documents/DATA/HUC/Shape-14/WB...</td>\n      <td>15.0</td>\n      <td>Water supply</td>\n      <td>POLYGON ((-1498175.258 94355.210, -1498171.113...</td>\n      <td>NaN</td>\n    </tr>\n    <tr>\n      <th>5</th>\n      <td>1</td>\n      <td>{3F14F28C-7183-4EA3-89B1-0AB7B3843F20}</td>\n      <td>None</td>\n      <td>None</td>\n      <td>None</td>\n      <td>None</td>\n      <td>2017-10-23</td>\n      <td>1349418.25</td>\n      <td>3.334482e+08</td>\n      <td>2730141</td>\n      <td>...</td>\n      <td>CN,CO,IA,ID,KS,MN,MO,MT,ND,NE,SD,WY</td>\n      <td>10</td>\n      <td>107.946258</td>\n      <td>151.005995</td>\n      <td>WBDHU2</td>\n      <td>/Users/junzhang/Documents/DATA/HUC/Shape-9/WBD...</td>\n      <td>10.0</td>\n      <td>Flood control</td>\n      <td>POLYGON ((-852794.866 1112194.444, -852702.180...</td>\n      <td>NaN</td>\n    </tr>\n    <tr>\n      <th>6</th>\n      <td>1</td>\n      <td>{142390F9-84A3-42CF-A41C-ED4F0EB4E6FC}</td>\n      <td>None</td>\n      <td>None</td>\n      <td>None</td>\n      <td>None</td>\n      <td>2017-08-01</td>\n      <td>105949.07</td>\n      <td>2.618056e+07</td>\n      <td>2730136</td>\n      <td>...</td>\n      <td>AL,GA,KY,MS,NC,SC,TN,VA,WV</td>\n      <td>6</td>\n      <td>34.532411</td>\n      <td>10.537707</td>\n      <td>WBDHU2</td>\n      <td>/Users/junzhang/Documents/DATA/HUC/Shape-5/WBD...</td>\n      <td>6.0</td>\n      <td>Flood control</td>\n      <td>POLYGON ((1311346.024 -172991.584, 1311388.438...</td>\n      <td>NaN</td>\n    </tr>\n    <tr>\n      <th>7</th>\n      <td>1</td>\n      <td>{87290825-BAC9-4D07-8A32-E35A873C0BD1}</td>\n      <td>None</td>\n      <td>None</td>\n      <td>None</td>\n      <td>None</td>\n      <td>2019-07-31</td>\n      <td>198830.03</td>\n      <td>4.913193e+07</td>\n      <td>2730131</td>\n      <td>...</td>\n      <td>CN,CT,MA,ME,NH,NY,RI,VT</td>\n      <td>1</td>\n      <td>48.199356</td>\n      <td>22.483720</td>\n      <td>WBDHU2</td>\n      <td>/Users/junzhang/Documents/DATA/HUC/Shape/WBDHU...</td>\n      <td>1.0</td>\n      <td>Hydroelectric</td>\n      <td>MULTIPOLYGON (((1913095.906 419294.272, 191310...</td>\n      <td>NaN</td>\n    </tr>\n    <tr>\n      <th>8</th>\n      <td>1</td>\n      <td>{3F461CFD-F4C2-4905-8E79-E6B5F4F45DAE}</td>\n      <td>None</td>\n      <td>None</td>\n      <td>None</td>\n      <td>None</td>\n      <td>2017-10-15</td>\n      <td>642212.47</td>\n      <td>1.586940e+08</td>\n      <td>2730142</td>\n      <td>...</td>\n      <td>AR,CO,KS,LA,MO,NM,OK,TX</td>\n      <td>11</td>\n      <td>71.576257</td>\n      <td>64.292670</td>\n      <td>WBDHU2</td>\n      <td>/Users/junzhang/Documents/DATA/HUC/Shape-10/WB...</td>\n      <td>11.0</td>\n      <td>Flood control</td>\n      <td>POLYGON ((-767386.767 -22380.719, -767343.264 ...</td>\n      <td>NaN</td>\n    </tr>\n    <tr>\n      <th>9</th>\n      <td>1</td>\n      <td>{4AEF9DDF-A9C6-400E-8FD8-180FD5C29F69}</td>\n      <td>None</td>\n      <td>None</td>\n      <td>None</td>\n      <td>None</td>\n      <td>2018-02-01</td>\n      <td>276482.00</td>\n      <td>6.832013e+07</td>\n      <td>2730132</td>\n      <td>...</td>\n      <td>CT,DC,DE,MA,MD,NJ,NY,PA,RI,VA,VT,WV</td>\n      <td>2</td>\n      <td>52.372935</td>\n      <td>29.245640</td>\n      <td>WBDHU2</td>\n      <td>/Users/junzhang/Documents/DATA/HUC/Shape-1/WBD...</td>\n      <td>2.0</td>\n      <td>Water supply</td>\n      <td>MULTIPOLYGON (((1913102.188 419321.766, 191310...</td>\n      <td>NaN</td>\n    </tr>\n    <tr>\n      <th>10</th>\n      <td>1</td>\n      <td>{31AE82B1-B1F0-4839-A09B-1836570B4D37}</td>\n      <td>None</td>\n      <td>None</td>\n      <td>None</td>\n      <td>None</td>\n      <td>2017-11-06</td>\n      <td>836516.99</td>\n      <td>2.067077e+08</td>\n      <td>2730148</td>\n      <td>...</td>\n      <td>CA,CN,ID,MT,NV,OR,UT,WA,WY</td>\n      <td>17</td>\n      <td>92.958915</td>\n      <td>97.304032</td>\n      <td>WBDHU2</td>\n      <td>/Users/junzhang/Documents/DATA/HUC/Shape-16/WB...</td>\n      <td>17.0</td>\n      <td>Hydroelectric</td>\n      <td>POLYGON ((-1418076.376 1581486.997, -1418067.4...</td>\n      <td>NaN</td>\n    </tr>\n    <tr>\n      <th>11</th>\n      <td>1</td>\n      <td>{0A6AC738-CCB8-4C3E-B6F0-566885AE483C}</td>\n      <td>None</td>\n      <td>None</td>\n      <td>None</td>\n      <td>None</td>\n      <td>2017-11-03</td>\n      <td>276035.62</td>\n      <td>6.820983e+07</td>\n      <td>2730138</td>\n      <td>...</td>\n      <td>AR,IL,KY,LA,MO,MS,TN</td>\n      <td>8</td>\n      <td>49.816844</td>\n      <td>26.650347</td>\n      <td>WBDHU2</td>\n      <td>/Users/junzhang/Documents/DATA/HUC/Shape-7/WBD...</td>\n      <td>8.0</td>\n      <td>Flood control</td>\n      <td>POLYGON ((569623.807 -208909.822, 569645.609 -...</td>\n      <td>NaN</td>\n    </tr>\n    <tr>\n      <th>12</th>\n      <td>1</td>\n      <td>{9F7DA17F-2AB2-4A27-B6AD-C3475BBA7C4A}</td>\n      <td>None</td>\n      <td>None</td>\n      <td>None</td>\n      <td>None</td>\n      <td>2017-11-05</td>\n      <td>474544.10</td>\n      <td>1.172623e+08</td>\n      <td>2730143</td>\n      <td>...</td>\n      <td>LA,NM,TX</td>\n      <td>12</td>\n      <td>43.100713</td>\n      <td>44.840154</td>\n      <td>WBDHU2</td>\n      <td>/Users/junzhang/Documents/DATA/HUC/Shape-11/WB...</td>\n      <td>12.0</td>\n      <td>Water supply</td>\n      <td>POLYGON ((-586976.916 -552300.671, -586888.338...</td>\n      <td>NaN</td>\n    </tr>\n    <tr>\n      <th>13</th>\n      <td>1</td>\n      <td>{D924BD6E-507C-4E5B-A86C-DDDDE00752A5}</td>\n      <td>None</td>\n      <td>None</td>\n      <td>None</td>\n      <td>None</td>\n      <td>2018-05-14</td>\n      <td>436624.37</td>\n      <td>1.078921e+08</td>\n      <td>2730149</td>\n      <td>...</td>\n      <td>CA,MX,NV,OR</td>\n      <td>18</td>\n      <td>61.181205</td>\n      <td>44.499427</td>\n      <td>WBDHU2</td>\n      <td>/Users/junzhang/Documents/DATA/HUC/Shape-17/WB...</td>\n      <td>18.0</td>\n      <td>Other</td>\n      <td>MULTIPOLYGON (((-1895026.518 653381.410, -1895...</td>\n      <td>NaN</td>\n    </tr>\n    <tr>\n      <th>14</th>\n      <td>1</td>\n      <td>{CD889A0A-B9F8-46F0-A12A-E2BED340DAC8}</td>\n      <td>None</td>\n      <td>None</td>\n      <td>None</td>\n      <td>None</td>\n      <td>2018-05-15</td>\n      <td>597882.94</td>\n      <td>1.477400e+08</td>\n      <td>2730144</td>\n      <td>...</td>\n      <td>CO,MX,NM,TX</td>\n      <td>13</td>\n      <td>92.700178</td>\n      <td>56.476679</td>\n      <td>WBDHU2</td>\n      <td>/Users/junzhang/Documents/DATA/HUC/Shape-12/WB...</td>\n      <td>13.0</td>\n      <td>Flood control</td>\n      <td>POLYGON ((-763699.328 -123827.537, -763675.799...</td>\n      <td>NaN</td>\n    </tr>\n    <tr>\n      <th>15</th>\n      <td>1</td>\n      <td>{5C6AE09C-4CFC-4EBA-9344-A91AF35E73E8}</td>\n      <td>None</td>\n      <td>None</td>\n      <td>None</td>\n      <td>None</td>\n      <td>2018-02-01</td>\n      <td>421966.18</td>\n      <td>1.042700e+08</td>\n      <td>2730135</td>\n      <td>...</td>\n      <td>IL,IN,KY,MD,NC,NY,OH,PA,TN,VA,WV</td>\n      <td>5</td>\n      <td>61.394318</td>\n      <td>43.813408</td>\n      <td>WBDHU2</td>\n      <td>/Users/junzhang/Documents/DATA/HUC/Shape-4/WBD...</td>\n      <td>5.0</td>\n      <td>Flood control</td>\n      <td>POLYGON ((1413276.792 422870.862, 1413316.602 ...</td>\n      <td>NaN</td>\n    </tr>\n    <tr>\n      <th>16</th>\n      <td>1</td>\n      <td>{629AF1ED-9415-452F-94CA-E43D64B86FCE}</td>\n      <td>None</td>\n      <td>None</td>\n      <td>None</td>\n      <td>None</td>\n      <td>2019-03-15</td>\n      <td>492032.97</td>\n      <td>1.215839e+08</td>\n      <td>2730137</td>\n      <td>...</td>\n      <td>IA,IL,IN,KY,MI,MN,MO,ND,SD,WI</td>\n      <td>7</td>\n      <td>79.280208</td>\n      <td>54.224551</td>\n      <td>WBDHU2</td>\n      <td>/Users/junzhang/Documents/DATA/HUC/Shape-6/WBD...</td>\n      <td>7.0</td>\n      <td>Flood control</td>\n      <td>POLYGON ((192818.608 838317.909, 192783.203 83...</td>\n      <td>NaN</td>\n    </tr>\n    <tr>\n      <th>17</th>\n      <td>1</td>\n      <td>{9C77B5BA-946A-4537-BADD-990373DEFFBB}</td>\n      <td>None</td>\n      <td>None</td>\n      <td>None</td>\n      <td>None</td>\n      <td>2018-07-17</td>\n      <td>739947.45</td>\n      <td>1.828448e+08</td>\n      <td>2730133</td>\n      <td>...</td>\n      <td>AL,FL,GA,LA,MS,NC,SC,TN,VA</td>\n      <td>3</td>\n      <td>70.532347</td>\n      <td>71.031850</td>\n      <td>WBDHU2</td>\n      <td>/Users/junzhang/Documents/DATA/HUC/Shape-2/WBD...</td>\n      <td>3.0</td>\n      <td>Flood control</td>\n      <td>MULTIPOLYGON (((1494896.016 -105271.050, 14949...</td>\n      <td>NaN</td>\n    </tr>\n  </tbody>\n</table>\n<p>18 rows × 21 columns</p>\n</div>"
     },
     "metadata": {},
     "execution_count": 21
    }
   ],
   "source": [
    "huc2 = gp.read_file(gdrive+\"hucs/HUC2_CONUS.shp\")\n",
    "huc2['HUC2'] = huc2['HUC2'].astype('int32')\n",
    "combo_segGeo = pd.read_csv(gdrive+folder+\"combined_segGeo.csv\")\n",
    "indices_by_huc2 = combo_segGeo.pivot_table(values = ['avg_LengthUp'], index='HUC2', aggfunc=np.mean)\n",
    "        \n",
    "huc2 = huc2.merge(indices_by_huc2, on = 'HUC2', how = 'left')\n",
    "huc2.to_csv(gdrive+folder+'huc2_indices.csv')\n",
    "huc2.to_file(\"huc2_indices.shp\")\n",
    "print('Finished writing huc2 indices to csv')\n",
    "\n",
    "# huc4 = gp.read_file(gdrive+\"hucs/HUC4_CONUS.shp\") \n",
    "# indices_by_huc4 = combo_segGeo.pivot_table(values = ['avg_LengthUp'], index='HUC4', aggfunc=np.mean)\n",
    "        \n",
    "# huc4 = huc4.merge(indices_by_huc4, left_on = 'HUC4_no', right_on = 'HUC4', how = 'left')\n",
    "# huc4.to_csv(gdrive+folder+'huc4_indices.csv')\n",
    "# print('Finished writing huc4 indices to csv')\n",
    "huc2"
   ]
  },
  {
   "cell_type": "code",
   "execution_count": 22,
   "metadata": {},
   "outputs": [
    {
     "output_type": "execute_result",
     "data": {
      "text/plain": [
       "        Hydroseq    DamID                                        Coordinates  \\\n",
       "0      840002063  19785.0  MULTILINESTRING Z ((-96.63880222710389 45.7687...   \n",
       "1      840000151  28196.0  MULTILINESTRING Z ((-97.0208380931776 47.92252...   \n",
       "2      840003868  19788.0  MULTILINESTRING Z ((-96.1197142279096 45.87235...   \n",
       "3      840028840  19789.0  MULTILINESTRING Z ((-96.0003330947616 45.87095...   \n",
       "4      840004526  19790.0  MULTILINESTRING Z ((-95.5445158288025 47.02756...   \n",
       "...          ...      ...                                                ...   \n",
       "30143  590069290      0.0  MULTILINESTRING Z ((-113.807293267122 48.84860...   \n",
       "30144  590109874      0.0  MULTILINESTRING Z ((-113.80844026712 48.844564...   \n",
       "30145  590096771      0.0  MULTILINESTRING Z ((-113.808301600453 48.84488...   \n",
       "30146  590160491      0.0  MULTILINESTRING Z ((-113.809170800452 48.84148...   \n",
       "30147  590129226      0.0  MULTILINESTRING Z ((-113.809446600452 48.84232...   \n",
       "\n",
       "       LENGTHKM  StreamOrde  StartFlag  UpHydroseq  DnHydroseq         QC_MA  \\\n",
       "0         2.044           5          0   840002093   840002034  1.034610e+08   \n",
       "1         6.137           7          0   840000153   840000150  2.363697e+09   \n",
       "2         1.072           4          0   840003962   840003772  1.709735e+07   \n",
       "3         3.585           1          1           0   840004171  7.724438e+05   \n",
       "4         0.230           3          0   840004650   840004401  2.573622e+07   \n",
       "...         ...         ...        ...         ...         ...           ...   \n",
       "30143     0.234           2          0   590074097   590065190  2.137839e+06   \n",
       "30144     0.038           1          0   590129226   590096771  1.293955e+06   \n",
       "30145     0.072           1          0   590109874   590081458  1.318066e+06   \n",
       "30146     0.103           1          0   590239157   590129226  6.661770e+05   \n",
       "30147     0.270           1          0   590160491   590109874  1.289490e+06   \n",
       "\n",
       "       HUC2  ...  DamCount  Norm_stor_up  upstream_count  LENGTHKM_up  \\\n",
       "0       9.0  ...         1  1.322895e+08             6.0     1195.035   \n",
       "1       9.0  ...         2  3.415741e+09           188.0    24469.895   \n",
       "2       9.0  ...         1  1.356828e+06             2.0      187.158   \n",
       "3       9.0  ...         1  4.933920e+05             1.0        3.585   \n",
       "4       9.0  ...         1  1.971101e+07             2.0       58.580   \n",
       "...     ...  ...       ...           ...             ...          ...   \n",
       "30143   9.0  ...         0  0.000000e+00             1.0        2.946   \n",
       "30144   9.0  ...         0  0.000000e+00             1.0        0.995   \n",
       "30145   9.0  ...         0  0.000000e+00             1.0        1.067   \n",
       "30146   9.0  ...         0  0.000000e+00             1.0        0.687   \n",
       "30147   9.0  ...         0  0.000000e+00             1.0        0.957   \n",
       "\n",
       "       DamCount_up       DOR       RRI  Frag_Index  avg_LengthUp       dci  \n",
       "0              6.0  1.278641  0.044889         1.0    199.172500  0.023631  \n",
       "1            198.0  1.445084  1.377510       155.0    130.159016  0.026563  \n",
       "2              2.0  0.079359  0.010903         2.0     93.579000  0.000367  \n",
       "3              1.0  0.638742  0.638742         3.0      3.585000  0.000000  \n",
       "4              2.0  0.765886  0.374102         4.0     29.290000  0.404737  \n",
       "...            ...       ...       ...         ...           ...       ...  \n",
       "30143          0.0  0.000000  0.000000       479.0    160.807000  0.000000  \n",
       "30144          0.0  0.000000  0.000000       479.0    160.807000  0.000000  \n",
       "30145          0.0  0.000000  0.000000       479.0    160.807000  0.000000  \n",
       "30146          0.0  0.000000  0.000000       479.0    160.807000  0.000000  \n",
       "30147          0.0  0.000000  0.000000       479.0    160.807000  0.000000  \n",
       "\n",
       "[30148 rows x 23 columns]"
      ],
      "text/html": "<div>\n<style scoped>\n    .dataframe tbody tr th:only-of-type {\n        vertical-align: middle;\n    }\n\n    .dataframe tbody tr th {\n        vertical-align: top;\n    }\n\n    .dataframe thead th {\n        text-align: right;\n    }\n</style>\n<table border=\"1\" class=\"dataframe\">\n  <thead>\n    <tr style=\"text-align: right;\">\n      <th></th>\n      <th>Hydroseq</th>\n      <th>DamID</th>\n      <th>Coordinates</th>\n      <th>LENGTHKM</th>\n      <th>StreamOrde</th>\n      <th>StartFlag</th>\n      <th>UpHydroseq</th>\n      <th>DnHydroseq</th>\n      <th>QC_MA</th>\n      <th>HUC2</th>\n      <th>...</th>\n      <th>DamCount</th>\n      <th>Norm_stor_up</th>\n      <th>upstream_count</th>\n      <th>LENGTHKM_up</th>\n      <th>DamCount_up</th>\n      <th>DOR</th>\n      <th>RRI</th>\n      <th>Frag_Index</th>\n      <th>avg_LengthUp</th>\n      <th>dci</th>\n    </tr>\n  </thead>\n  <tbody>\n    <tr>\n      <th>0</th>\n      <td>840002063</td>\n      <td>19785.0</td>\n      <td>MULTILINESTRING Z ((-96.63880222710389 45.7687...</td>\n      <td>2.044</td>\n      <td>5</td>\n      <td>0</td>\n      <td>840002093</td>\n      <td>840002034</td>\n      <td>1.034610e+08</td>\n      <td>9.0</td>\n      <td>...</td>\n      <td>1</td>\n      <td>1.322895e+08</td>\n      <td>6.0</td>\n      <td>1195.035</td>\n      <td>6.0</td>\n      <td>1.278641</td>\n      <td>0.044889</td>\n      <td>1.0</td>\n      <td>199.172500</td>\n      <td>0.023631</td>\n    </tr>\n    <tr>\n      <th>1</th>\n      <td>840000151</td>\n      <td>28196.0</td>\n      <td>MULTILINESTRING Z ((-97.0208380931776 47.92252...</td>\n      <td>6.137</td>\n      <td>7</td>\n      <td>0</td>\n      <td>840000153</td>\n      <td>840000150</td>\n      <td>2.363697e+09</td>\n      <td>9.0</td>\n      <td>...</td>\n      <td>2</td>\n      <td>3.415741e+09</td>\n      <td>188.0</td>\n      <td>24469.895</td>\n      <td>198.0</td>\n      <td>1.445084</td>\n      <td>1.377510</td>\n      <td>155.0</td>\n      <td>130.159016</td>\n      <td>0.026563</td>\n    </tr>\n    <tr>\n      <th>2</th>\n      <td>840003868</td>\n      <td>19788.0</td>\n      <td>MULTILINESTRING Z ((-96.1197142279096 45.87235...</td>\n      <td>1.072</td>\n      <td>4</td>\n      <td>0</td>\n      <td>840003962</td>\n      <td>840003772</td>\n      <td>1.709735e+07</td>\n      <td>9.0</td>\n      <td>...</td>\n      <td>1</td>\n      <td>1.356828e+06</td>\n      <td>2.0</td>\n      <td>187.158</td>\n      <td>2.0</td>\n      <td>0.079359</td>\n      <td>0.010903</td>\n      <td>2.0</td>\n      <td>93.579000</td>\n      <td>0.000367</td>\n    </tr>\n    <tr>\n      <th>3</th>\n      <td>840028840</td>\n      <td>19789.0</td>\n      <td>MULTILINESTRING Z ((-96.0003330947616 45.87095...</td>\n      <td>3.585</td>\n      <td>1</td>\n      <td>1</td>\n      <td>0</td>\n      <td>840004171</td>\n      <td>7.724438e+05</td>\n      <td>9.0</td>\n      <td>...</td>\n      <td>1</td>\n      <td>4.933920e+05</td>\n      <td>1.0</td>\n      <td>3.585</td>\n      <td>1.0</td>\n      <td>0.638742</td>\n      <td>0.638742</td>\n      <td>3.0</td>\n      <td>3.585000</td>\n      <td>0.000000</td>\n    </tr>\n    <tr>\n      <th>4</th>\n      <td>840004526</td>\n      <td>19790.0</td>\n      <td>MULTILINESTRING Z ((-95.5445158288025 47.02756...</td>\n      <td>0.230</td>\n      <td>3</td>\n      <td>0</td>\n      <td>840004650</td>\n      <td>840004401</td>\n      <td>2.573622e+07</td>\n      <td>9.0</td>\n      <td>...</td>\n      <td>1</td>\n      <td>1.971101e+07</td>\n      <td>2.0</td>\n      <td>58.580</td>\n      <td>2.0</td>\n      <td>0.765886</td>\n      <td>0.374102</td>\n      <td>4.0</td>\n      <td>29.290000</td>\n      <td>0.404737</td>\n    </tr>\n    <tr>\n      <th>...</th>\n      <td>...</td>\n      <td>...</td>\n      <td>...</td>\n      <td>...</td>\n      <td>...</td>\n      <td>...</td>\n      <td>...</td>\n      <td>...</td>\n      <td>...</td>\n      <td>...</td>\n      <td>...</td>\n      <td>...</td>\n      <td>...</td>\n      <td>...</td>\n      <td>...</td>\n      <td>...</td>\n      <td>...</td>\n      <td>...</td>\n      <td>...</td>\n      <td>...</td>\n      <td>...</td>\n    </tr>\n    <tr>\n      <th>30143</th>\n      <td>590069290</td>\n      <td>0.0</td>\n      <td>MULTILINESTRING Z ((-113.807293267122 48.84860...</td>\n      <td>0.234</td>\n      <td>2</td>\n      <td>0</td>\n      <td>590074097</td>\n      <td>590065190</td>\n      <td>2.137839e+06</td>\n      <td>9.0</td>\n      <td>...</td>\n      <td>0</td>\n      <td>0.000000e+00</td>\n      <td>1.0</td>\n      <td>2.946</td>\n      <td>0.0</td>\n      <td>0.000000</td>\n      <td>0.000000</td>\n      <td>479.0</td>\n      <td>160.807000</td>\n      <td>0.000000</td>\n    </tr>\n    <tr>\n      <th>30144</th>\n      <td>590109874</td>\n      <td>0.0</td>\n      <td>MULTILINESTRING Z ((-113.80844026712 48.844564...</td>\n      <td>0.038</td>\n      <td>1</td>\n      <td>0</td>\n      <td>590129226</td>\n      <td>590096771</td>\n      <td>1.293955e+06</td>\n      <td>9.0</td>\n      <td>...</td>\n      <td>0</td>\n      <td>0.000000e+00</td>\n      <td>1.0</td>\n      <td>0.995</td>\n      <td>0.0</td>\n      <td>0.000000</td>\n      <td>0.000000</td>\n      <td>479.0</td>\n      <td>160.807000</td>\n      <td>0.000000</td>\n    </tr>\n    <tr>\n      <th>30145</th>\n      <td>590096771</td>\n      <td>0.0</td>\n      <td>MULTILINESTRING Z ((-113.808301600453 48.84488...</td>\n      <td>0.072</td>\n      <td>1</td>\n      <td>0</td>\n      <td>590109874</td>\n      <td>590081458</td>\n      <td>1.318066e+06</td>\n      <td>9.0</td>\n      <td>...</td>\n      <td>0</td>\n      <td>0.000000e+00</td>\n      <td>1.0</td>\n      <td>1.067</td>\n      <td>0.0</td>\n      <td>0.000000</td>\n      <td>0.000000</td>\n      <td>479.0</td>\n      <td>160.807000</td>\n      <td>0.000000</td>\n    </tr>\n    <tr>\n      <th>30146</th>\n      <td>590160491</td>\n      <td>0.0</td>\n      <td>MULTILINESTRING Z ((-113.809170800452 48.84148...</td>\n      <td>0.103</td>\n      <td>1</td>\n      <td>0</td>\n      <td>590239157</td>\n      <td>590129226</td>\n      <td>6.661770e+05</td>\n      <td>9.0</td>\n      <td>...</td>\n      <td>0</td>\n      <td>0.000000e+00</td>\n      <td>1.0</td>\n      <td>0.687</td>\n      <td>0.0</td>\n      <td>0.000000</td>\n      <td>0.000000</td>\n      <td>479.0</td>\n      <td>160.807000</td>\n      <td>0.000000</td>\n    </tr>\n    <tr>\n      <th>30147</th>\n      <td>590129226</td>\n      <td>0.0</td>\n      <td>MULTILINESTRING Z ((-113.809446600452 48.84232...</td>\n      <td>0.270</td>\n      <td>1</td>\n      <td>0</td>\n      <td>590160491</td>\n      <td>590109874</td>\n      <td>1.289490e+06</td>\n      <td>9.0</td>\n      <td>...</td>\n      <td>0</td>\n      <td>0.000000e+00</td>\n      <td>1.0</td>\n      <td>0.957</td>\n      <td>0.0</td>\n      <td>0.000000</td>\n      <td>0.000000</td>\n      <td>479.0</td>\n      <td>160.807000</td>\n      <td>0.000000</td>\n    </tr>\n  </tbody>\n</table>\n<p>30148 rows × 23 columns</p>\n</div>"
     },
     "metadata": {},
     "execution_count": 22
    }
   ],
   "source": [
    "\n",
    "combo_segGeo"
   ]
  },
  {
   "cell_type": "markdown",
   "metadata": {},
   "source": [
    "# General workflow for all basins"
   ]
  },
  {
   "cell_type": "code",
   "execution_count": 23,
   "metadata": {},
   "outputs": [
    {
     "output_type": "error",
     "ename": "KeyboardInterrupt",
     "evalue": "",
     "traceback": [
      "\u001b[0;31m---------------------------------------------------------------------------\u001b[0m",
      "\u001b[0;31mKeyboardInterrupt\u001b[0m                         Traceback (most recent call last)",
      "\u001b[0;32m<ipython-input-23-90753fce238c>\u001b[0m in \u001b[0;36m<module>\u001b[0;34m\u001b[0m\n\u001b[1;32m     22\u001b[0m \u001b[0;34m\u001b[0m\u001b[0m\n\u001b[1;32m     23\u001b[0m \u001b[0;31m#combine all files in the list\u001b[0m\u001b[0;34m\u001b[0m\u001b[0;34m\u001b[0m\u001b[0;34m\u001b[0m\u001b[0m\n\u001b[0;32m---> 24\u001b[0;31m \u001b[0mcombined_csv\u001b[0m \u001b[0;34m=\u001b[0m \u001b[0mpd\u001b[0m\u001b[0;34m.\u001b[0m\u001b[0mconcat\u001b[0m\u001b[0;34m(\u001b[0m\u001b[0;34m[\u001b[0m\u001b[0mpd\u001b[0m\u001b[0;34m.\u001b[0m\u001b[0mread_csv\u001b[0m\u001b[0;34m(\u001b[0m\u001b[0mf\u001b[0m\u001b[0;34m)\u001b[0m \u001b[0;32mfor\u001b[0m \u001b[0mf\u001b[0m \u001b[0;32min\u001b[0m \u001b[0mall_flowlines\u001b[0m \u001b[0;34m]\u001b[0m\u001b[0;34m)\u001b[0m\u001b[0;34m\u001b[0m\u001b[0;34m\u001b[0m\u001b[0m\n\u001b[0m\u001b[1;32m     25\u001b[0m \u001b[0;34m\u001b[0m\u001b[0m\n\u001b[1;32m     26\u001b[0m \u001b[0;31m#export to csv\u001b[0m\u001b[0;34m\u001b[0m\u001b[0;34m\u001b[0m\u001b[0;34m\u001b[0m\u001b[0m\n",
      "\u001b[0;32m<ipython-input-23-90753fce238c>\u001b[0m in \u001b[0;36m<listcomp>\u001b[0;34m(.0)\u001b[0m\n\u001b[1;32m     22\u001b[0m \u001b[0;34m\u001b[0m\u001b[0m\n\u001b[1;32m     23\u001b[0m \u001b[0;31m#combine all files in the list\u001b[0m\u001b[0;34m\u001b[0m\u001b[0;34m\u001b[0m\u001b[0;34m\u001b[0m\u001b[0m\n\u001b[0;32m---> 24\u001b[0;31m \u001b[0mcombined_csv\u001b[0m \u001b[0;34m=\u001b[0m \u001b[0mpd\u001b[0m\u001b[0;34m.\u001b[0m\u001b[0mconcat\u001b[0m\u001b[0;34m(\u001b[0m\u001b[0;34m[\u001b[0m\u001b[0mpd\u001b[0m\u001b[0;34m.\u001b[0m\u001b[0mread_csv\u001b[0m\u001b[0;34m(\u001b[0m\u001b[0mf\u001b[0m\u001b[0;34m)\u001b[0m \u001b[0;32mfor\u001b[0m \u001b[0mf\u001b[0m \u001b[0;32min\u001b[0m \u001b[0mall_flowlines\u001b[0m \u001b[0;34m]\u001b[0m\u001b[0;34m)\u001b[0m\u001b[0;34m\u001b[0m\u001b[0;34m\u001b[0m\u001b[0m\n\u001b[0m\u001b[1;32m     25\u001b[0m \u001b[0;34m\u001b[0m\u001b[0m\n\u001b[1;32m     26\u001b[0m \u001b[0;31m#export to csv\u001b[0m\u001b[0;34m\u001b[0m\u001b[0;34m\u001b[0m\u001b[0;34m\u001b[0m\u001b[0m\n",
      "\u001b[0;32m/Library/Frameworks/Python.framework/Versions/3.8/lib/python3.8/site-packages/pandas/io/parsers.py\u001b[0m in \u001b[0;36mparser_f\u001b[0;34m(filepath_or_buffer, sep, delimiter, header, names, index_col, usecols, squeeze, prefix, mangle_dupe_cols, dtype, engine, converters, true_values, false_values, skipinitialspace, skiprows, skipfooter, nrows, na_values, keep_default_na, na_filter, verbose, skip_blank_lines, parse_dates, infer_datetime_format, keep_date_col, date_parser, dayfirst, cache_dates, iterator, chunksize, compression, thousands, decimal, lineterminator, quotechar, quoting, doublequote, escapechar, comment, encoding, dialect, error_bad_lines, warn_bad_lines, delim_whitespace, low_memory, memory_map, float_precision)\u001b[0m\n\u001b[1;32m    683\u001b[0m         )\n\u001b[1;32m    684\u001b[0m \u001b[0;34m\u001b[0m\u001b[0m\n\u001b[0;32m--> 685\u001b[0;31m         \u001b[0;32mreturn\u001b[0m \u001b[0m_read\u001b[0m\u001b[0;34m(\u001b[0m\u001b[0mfilepath_or_buffer\u001b[0m\u001b[0;34m,\u001b[0m \u001b[0mkwds\u001b[0m\u001b[0;34m)\u001b[0m\u001b[0;34m\u001b[0m\u001b[0;34m\u001b[0m\u001b[0m\n\u001b[0m\u001b[1;32m    686\u001b[0m \u001b[0;34m\u001b[0m\u001b[0m\n\u001b[1;32m    687\u001b[0m     \u001b[0mparser_f\u001b[0m\u001b[0;34m.\u001b[0m\u001b[0m__name__\u001b[0m \u001b[0;34m=\u001b[0m \u001b[0mname\u001b[0m\u001b[0;34m\u001b[0m\u001b[0;34m\u001b[0m\u001b[0m\n",
      "\u001b[0;32m/Library/Frameworks/Python.framework/Versions/3.8/lib/python3.8/site-packages/pandas/io/parsers.py\u001b[0m in \u001b[0;36m_read\u001b[0;34m(filepath_or_buffer, kwds)\u001b[0m\n\u001b[1;32m    461\u001b[0m \u001b[0;34m\u001b[0m\u001b[0m\n\u001b[1;32m    462\u001b[0m     \u001b[0;32mtry\u001b[0m\u001b[0;34m:\u001b[0m\u001b[0;34m\u001b[0m\u001b[0;34m\u001b[0m\u001b[0m\n\u001b[0;32m--> 463\u001b[0;31m         \u001b[0mdata\u001b[0m \u001b[0;34m=\u001b[0m \u001b[0mparser\u001b[0m\u001b[0;34m.\u001b[0m\u001b[0mread\u001b[0m\u001b[0;34m(\u001b[0m\u001b[0mnrows\u001b[0m\u001b[0;34m)\u001b[0m\u001b[0;34m\u001b[0m\u001b[0;34m\u001b[0m\u001b[0m\n\u001b[0m\u001b[1;32m    464\u001b[0m     \u001b[0;32mfinally\u001b[0m\u001b[0;34m:\u001b[0m\u001b[0;34m\u001b[0m\u001b[0;34m\u001b[0m\u001b[0m\n\u001b[1;32m    465\u001b[0m         \u001b[0mparser\u001b[0m\u001b[0;34m.\u001b[0m\u001b[0mclose\u001b[0m\u001b[0;34m(\u001b[0m\u001b[0;34m)\u001b[0m\u001b[0;34m\u001b[0m\u001b[0;34m\u001b[0m\u001b[0m\n",
      "\u001b[0;32m/Library/Frameworks/Python.framework/Versions/3.8/lib/python3.8/site-packages/pandas/io/parsers.py\u001b[0m in \u001b[0;36mread\u001b[0;34m(self, nrows)\u001b[0m\n\u001b[1;32m   1152\u001b[0m     \u001b[0;32mdef\u001b[0m \u001b[0mread\u001b[0m\u001b[0;34m(\u001b[0m\u001b[0mself\u001b[0m\u001b[0;34m,\u001b[0m \u001b[0mnrows\u001b[0m\u001b[0;34m=\u001b[0m\u001b[0;32mNone\u001b[0m\u001b[0;34m)\u001b[0m\u001b[0;34m:\u001b[0m\u001b[0;34m\u001b[0m\u001b[0;34m\u001b[0m\u001b[0m\n\u001b[1;32m   1153\u001b[0m         \u001b[0mnrows\u001b[0m \u001b[0;34m=\u001b[0m \u001b[0m_validate_integer\u001b[0m\u001b[0;34m(\u001b[0m\u001b[0;34m\"nrows\"\u001b[0m\u001b[0;34m,\u001b[0m \u001b[0mnrows\u001b[0m\u001b[0;34m)\u001b[0m\u001b[0;34m\u001b[0m\u001b[0;34m\u001b[0m\u001b[0m\n\u001b[0;32m-> 1154\u001b[0;31m         \u001b[0mret\u001b[0m \u001b[0;34m=\u001b[0m \u001b[0mself\u001b[0m\u001b[0;34m.\u001b[0m\u001b[0m_engine\u001b[0m\u001b[0;34m.\u001b[0m\u001b[0mread\u001b[0m\u001b[0;34m(\u001b[0m\u001b[0mnrows\u001b[0m\u001b[0;34m)\u001b[0m\u001b[0;34m\u001b[0m\u001b[0;34m\u001b[0m\u001b[0m\n\u001b[0m\u001b[1;32m   1155\u001b[0m \u001b[0;34m\u001b[0m\u001b[0m\n\u001b[1;32m   1156\u001b[0m         \u001b[0;31m# May alter columns / col_dict\u001b[0m\u001b[0;34m\u001b[0m\u001b[0;34m\u001b[0m\u001b[0;34m\u001b[0m\u001b[0m\n",
      "\u001b[0;32m/Library/Frameworks/Python.framework/Versions/3.8/lib/python3.8/site-packages/pandas/io/parsers.py\u001b[0m in \u001b[0;36mread\u001b[0;34m(self, nrows)\u001b[0m\n\u001b[1;32m   2057\u001b[0m     \u001b[0;32mdef\u001b[0m \u001b[0mread\u001b[0m\u001b[0;34m(\u001b[0m\u001b[0mself\u001b[0m\u001b[0;34m,\u001b[0m \u001b[0mnrows\u001b[0m\u001b[0;34m=\u001b[0m\u001b[0;32mNone\u001b[0m\u001b[0;34m)\u001b[0m\u001b[0;34m:\u001b[0m\u001b[0;34m\u001b[0m\u001b[0;34m\u001b[0m\u001b[0m\n\u001b[1;32m   2058\u001b[0m         \u001b[0;32mtry\u001b[0m\u001b[0;34m:\u001b[0m\u001b[0;34m\u001b[0m\u001b[0;34m\u001b[0m\u001b[0m\n\u001b[0;32m-> 2059\u001b[0;31m             \u001b[0mdata\u001b[0m \u001b[0;34m=\u001b[0m \u001b[0mself\u001b[0m\u001b[0;34m.\u001b[0m\u001b[0m_reader\u001b[0m\u001b[0;34m.\u001b[0m\u001b[0mread\u001b[0m\u001b[0;34m(\u001b[0m\u001b[0mnrows\u001b[0m\u001b[0;34m)\u001b[0m\u001b[0;34m\u001b[0m\u001b[0;34m\u001b[0m\u001b[0m\n\u001b[0m\u001b[1;32m   2060\u001b[0m         \u001b[0;32mexcept\u001b[0m \u001b[0mStopIteration\u001b[0m\u001b[0;34m:\u001b[0m\u001b[0;34m\u001b[0m\u001b[0;34m\u001b[0m\u001b[0m\n\u001b[1;32m   2061\u001b[0m             \u001b[0;32mif\u001b[0m \u001b[0mself\u001b[0m\u001b[0;34m.\u001b[0m\u001b[0m_first_chunk\u001b[0m\u001b[0;34m:\u001b[0m\u001b[0;34m\u001b[0m\u001b[0;34m\u001b[0m\u001b[0m\n",
      "\u001b[0;32mpandas/_libs/parsers.pyx\u001b[0m in \u001b[0;36mpandas._libs.parsers.TextReader.read\u001b[0;34m()\u001b[0m\n",
      "\u001b[0;32mpandas/_libs/parsers.pyx\u001b[0m in \u001b[0;36mpandas._libs.parsers.TextReader._read_low_memory\u001b[0;34m()\u001b[0m\n",
      "\u001b[0;32mpandas/_libs/parsers.pyx\u001b[0m in \u001b[0;36mpandas._libs.parsers.TextReader._read_rows\u001b[0;34m()\u001b[0m\n",
      "\u001b[0;32mpandas/_libs/parsers.pyx\u001b[0m in \u001b[0;36mpandas._libs.parsers.TextReader._convert_column_data\u001b[0;34m()\u001b[0m\n",
      "\u001b[0;32mpandas/_libs/parsers.pyx\u001b[0m in \u001b[0;36mpandas._libs.parsers.TextReader._convert_tokens\u001b[0;34m()\u001b[0m\n",
      "\u001b[0;32mpandas/_libs/parsers.pyx\u001b[0m in \u001b[0;36mpandas._libs.parsers.TextReader._convert_with_dtype\u001b[0;34m()\u001b[0m\n",
      "\u001b[0;32m/Library/Frameworks/Python.framework/Versions/3.8/lib/python3.8/site-packages/pandas/core/dtypes/common.py\u001b[0m in \u001b[0;36mis_categorical_dtype\u001b[0;34m(arr_or_dtype)\u001b[0m\n\u001b[1;32m    676\u001b[0m \u001b[0;34m\u001b[0m\u001b[0m\n\u001b[1;32m    677\u001b[0m \u001b[0;34m\u001b[0m\u001b[0m\n\u001b[0;32m--> 678\u001b[0;31m \u001b[0;32mdef\u001b[0m \u001b[0mis_categorical_dtype\u001b[0m\u001b[0;34m(\u001b[0m\u001b[0marr_or_dtype\u001b[0m\u001b[0;34m)\u001b[0m\u001b[0;34m:\u001b[0m\u001b[0;34m\u001b[0m\u001b[0;34m\u001b[0m\u001b[0m\n\u001b[0m\u001b[1;32m    679\u001b[0m     \"\"\"\n\u001b[1;32m    680\u001b[0m     \u001b[0mCheck\u001b[0m \u001b[0mwhether\u001b[0m \u001b[0man\u001b[0m \u001b[0marray\u001b[0m\u001b[0;34m-\u001b[0m\u001b[0mlike\u001b[0m \u001b[0;32mor\u001b[0m \u001b[0mdtype\u001b[0m \u001b[0;32mis\u001b[0m \u001b[0mof\u001b[0m \u001b[0mthe\u001b[0m \u001b[0mCategorical\u001b[0m \u001b[0mdtype\u001b[0m\u001b[0;34m.\u001b[0m\u001b[0;34m\u001b[0m\u001b[0;34m\u001b[0m\u001b[0m\n",
      "\u001b[0;31mKeyboardInterrupt\u001b[0m: "
     ]
    }
   ],
   "source": [
    "# basin_ls = ['California', 'Colorado', 'Columbia', 'Great Basin', 'Great Lakes','Gulf Coast', 'Mississippi', 'North Atlantic', 'Red', 'Rio Grande','South Atlantic']\n",
    "# # for basin in basin_ls:\n",
    "    \n",
    "# #     segGeo = pd.read_csv(basin+'_segGeo.csv')\n",
    "# #     flowlines = pd.read_csv('/Users/rachelspinti/Documents/River_bifurcation/all_basins_unfiltered_workflow/'+basin+'.csv', usecols=['Hydroseq', 'REACHCODE', 'HUC2', 'HUC4', 'HUC8'])\n",
    "# #     flowlines = flowlines.rename(columns={'HUC2': 'HUC2_no', 'HUC4': 'HUC4_no', 'HUC8': 'HUC8_no'})\n",
    "# #     merge = pd.merge(segGeo, flowlines, on = 'Hydroseq', how = 'left', left_index = True)\n",
    "    \n",
    "# #     indices_by_huc4 = merge.pivot_table(values = ['DOR', 'avg_LengthUp'], index='HUC4_no', aggfunc=np.mean)\n",
    "# # #     fragments0 = segments.pivot_table(values=['LENGTHKM', 'DamCount', 'Norm_stor'], index='Frag', aggfunc=sum)\n",
    "    \n",
    "# #     huc4 = huc4.join(indices_by_huc4, on = 'HUC4_no', how = 'left', lsuffix='_left', rsuffix='_right')\n",
    "\n",
    "# import os\n",
    "# import glob\n",
    "# import pandas as pd\n",
    "# os.chdir(\"/Users/rachelspinti/Documents/River_bifurcation/all_basins_unfiltered_workflow/\")\n",
    "\n",
    "# extension = '.csv'\n",
    "# all_flowlines = [i+extension for i in basin_ls]\n",
    "# # all_flowlines\n",
    "\n",
    "# #combine all files in the list\n",
    "# combined_csv = pd.concat([pd.read_csv(f) for f in all_flowlines ])\n",
    "\n",
    "# #export to csv\n",
    "# combined_csv.to_csv(\"combined_flowlines.csv\", index=False, encoding='utf-8-sig')\n",
    "\n",
    "\n",
    "# # Seg Geos\n",
    "# extension = '_segGeo.csv'\n",
    "# all_segGeos = [i+extension for i in basin_ls]\n",
    "# # all_segGeos\n",
    "\n",
    "# #combine all files in the list\n",
    "# combined_csv = pd.concat([pd.read_csv(f) for f in all_segGeos])\n",
    "\n",
    "# #export to csv\n",
    "# combined_csv.to_csv(\"combined_segGeo.csv\", index=False, encoding='utf-8-sig')"
   ]
  },
  {
   "cell_type": "code",
   "execution_count": 21,
   "metadata": {},
   "outputs": [
    {
     "data": {
      "text/plain": [
       "Index(['OBJECTID', 'TNMID', 'MetaSource', 'SourceData', 'SourceOrig',\n",
       "       'SourceFeat', 'LoadDate', 'AreaSqKm', 'AreaAcres', 'GNIS_ID', 'Name',\n",
       "       'States', 'HUC4', 'Shape_Leng', 'Shape_Area', 'layer', 'path',\n",
       "       'HUC4_no', 'geometry', 'DOR'],\n",
       "      dtype='object')"
      ]
     },
     "execution_count": 21,
     "metadata": {},
     "output_type": "execute_result"
    }
   ],
   "source": [
    "# huc4.columns"
   ]
  },
  {
   "cell_type": "code",
   "execution_count": 22,
   "metadata": {},
   "outputs": [],
   "source": [
    "# segGeo = pd.read_csv('/Users/rachelspinti/Documents/River_bifurcation/all_basins_unfiltered_workflow/combined_segGeo.csv')\n",
    "# flowlines = pd.read_csv('/Users/rachelspinti/Documents/River_bifurcation/all_basins_unfiltered_workflow/combined_flowlines.csv', usecols=['Hydroseq', 'REACHCODE', 'HUC2', 'HUC4', 'HUC8'])\n",
    "# flowlines = flowlines.rename(columns={'HUC2': 'HUC2_no', 'HUC4': 'HUC4_no', 'HUC8': 'HUC8_no'})\n",
    "# merge = pd.merge(segGeo, flowlines, on = 'Hydroseq', how = 'left', left_index = True)\n",
    "    \n",
    "# indices_by_huc4 = merge.pivot_table(values = ['DOR', 'avg_LengthUp'], index='HUC4_no', aggfunc=np.mean)\n",
    "# #     fragments0 = segments.pivot_table(values=['LENGTHKM', 'DamCount', 'Norm_stor'], index='Frag', aggfunc=sum)\n",
    "    \n",
    "# huc4 = huc4.join(indices_by_huc4, on = 'HUC4_no', how = 'left', lsuffix='_left', rsuffix='_right')"
   ]
  },
  {
   "cell_type": "code",
   "execution_count": 28,
   "metadata": {},
   "outputs": [
    {
     "data": {
      "text/plain": [
       "<AxesSubplot:>"
      ]
     },
     "execution_count": 28,
     "metadata": {},
     "output_type": "execute_result"
    },
    {
     "data": {
      "image/png": "[encoded data removed]",
      "text/plain": [
       "<Figure size 432x288 with 2 Axes>"
      ]
     },
     "metadata": {
      "needs_background": "light"
     },
     "output_type": "display_data"
    }
   ],
   "source": [
    "# var = \"DOR_left\"\n",
    "# # dor_mergeGeo[var] = dor_merge_up[var]\n",
    "# # dor_merge.plot()\n",
    "# huc4.plot(column=var, legend=True, cmap='viridis_r',\n",
    "#                  legend_kwds={'label': var, 'orientation': \"horizontal\"},\n",
    "#                  vmin=0, vmax=1)"
   ]
  },
  {
   "cell_type": "code",
   "execution_count": 25,
   "metadata": {},
   "outputs": [
    {
     "data": {
      "text/plain": [
       "Index(['OBJECTID', 'TNMID', 'MetaSource', 'SourceData', 'SourceOrig',\n",
       "       'SourceFeat', 'LoadDate', 'AreaSqKm', 'AreaAcres', 'GNIS_ID', 'Name',\n",
       "       'States', 'HUC4', 'Shape_Leng', 'Shape_Area', 'layer', 'path',\n",
       "       'HUC4_no', 'geometry', 'DOR_left', 'DOR_right', 'avg_LengthUp'],\n",
       "      dtype='object')"
      ]
     },
     "execution_count": 25,
     "metadata": {},
     "output_type": "execute_result"
    }
   ],
   "source": [
    "# huc4.columns"
   ]
  },
  {
   "cell_type": "code",
   "execution_count": 27,
   "metadata": {},
   "outputs": [
    {
     "data": {
      "text/plain": [
       "<AxesSubplot:>"
      ]
     },
     "execution_count": 27,
     "metadata": {},
     "output_type": "execute_result"
    },
    {
     "data": {
      "image/png": "[encoded data removed]",
      "text/plain": [
       "<Figure size 432x288 with 2 Axes>"
      ]
     },
     "metadata": {
      "needs_background": "light"
     },
     "output_type": "display_data"
    }
   ],
   "source": [
    "# var = \"avg_LengthUp\"\n",
    "# # dor_mergeGeo[var] = dor_merge_up[var]\n",
    "# # dor_merge.plot()\n",
    "# huc4.plot(column=var, legend=True, cmap='viridis_r',\n",
    "#                  legend_kwds={'label': var, 'orientation': \"horizontal\"},\n",
    "#                  vmin=0, vmax=1)"
   ]
  },
  {
   "cell_type": "code",
   "execution_count": null,
   "metadata": {},
   "outputs": [],
   "source": []
  }
 ],
 "metadata": {
  "kernelspec": {
   "display_name": "Python 3",
   "language": "python",
   "name": "python3"
  },
  "language_info": {
   "codemirror_mode": {
    "name": "ipython",
    "version": 3
   },
   "file_extension": ".py",
   "mimetype": "text/x-python",
   "name": "python",
   "nbconvert_exporter": "python",
   "pygments_lexer": "ipython3",
   "version": "3.8.1-final"
  }
 },
 "nbformat": 4,
 "nbformat_minor": 4
}