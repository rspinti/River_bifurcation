{
 "cells": [
  {
   "cell_type": "markdown",
   "metadata": {},
   "source": [
    "# Testing things part like 1000"
   ]
  },
  {
   "cell_type": "code",
   "execution_count": 2,
   "metadata": {},
   "outputs": [],
   "source": [
    "import geopandas as gp"
   ]
  },
  {
   "cell_type": "code",
   "execution_count": 3,
   "metadata": {},
   "outputs": [],
   "source": [
    "gdrive = \"/Volumes/GoogleDrive/My Drive/Condon_Research_Group/Research_Projects/Rachel/Research/Data/bifurcation_data_repo/\" #where shapefiles/csv live \n",
    "huc2 = gp.read_file(gdrive+\"hucs/HUC2_CONUS.shp\")"
   ]
  },
  {
   "cell_type": "code",
   "execution_count": 6,
   "metadata": {},
   "outputs": [
    {
     "data": {
      "text/plain": [
       "<bound method NDFrame.head of    HUC2                        Name     Prior_purp  \\\n",
       "0    04                  Great Lake  Hydroelectric   \n",
       "1    09     Souris-Red-Rainy Region          Other   \n",
       "2    16          Great Basin Region   Water supply   \n",
       "3    14       Upper Colorado Region  Hydroelectric   \n",
       "4    15       Lower Colorado Region   Water supply   \n",
       "5    10             Missouri Region  Flood control   \n",
       "6    06            Tennessee Region  Flood control   \n",
       "7    01          New England Region  Hydroelectric   \n",
       "8    11   Arkansas-White-Red Region  Flood control   \n",
       "9    02         Mid Atlantic Region   Water supply   \n",
       "10   17    Pacific Northwest Region  Hydroelectric   \n",
       "11   08    Lower Mississippi Region  Flood control   \n",
       "12   12           Texas-Gulf Region   Water supply   \n",
       "13   18           California Region          Other   \n",
       "14   13           Rio Grande Region  Flood control   \n",
       "15   05                 Ohio Region  Flood control   \n",
       "16   07    Upper Mississippi Region  Flood control   \n",
       "17   03  South Atlantic-Gulf Region  Flood control   \n",
       "\n",
       "                                             geometry  \n",
       "0   MULTIPOLYGON (((1545261.698 694230.916, 154525...  \n",
       "1   MULTIPOLYGON (((-488461.991 1156120.217, -4883...  \n",
       "2   POLYGON ((-1147712.291 412291.550, -1147684.59...  \n",
       "3   POLYGON ((-1012441.697 454011.795, -1012331.82...  \n",
       "4   POLYGON ((-1498175.258 94355.210, -1498171.113...  \n",
       "5   POLYGON ((-852794.866 1112194.444, -852702.180...  \n",
       "6   POLYGON ((1311346.024 -172991.584, 1311388.438...  \n",
       "7   MULTIPOLYGON (((1913095.906 419294.272, 191310...  \n",
       "8   POLYGON ((-767386.767 -22380.719, -767343.264 ...  \n",
       "9   MULTIPOLYGON (((1913102.188 419321.766, 191310...  \n",
       "10  POLYGON ((-1418076.376 1581486.997, -1418067.4...  \n",
       "11  POLYGON ((569623.807 -208909.822, 569645.609 -...  \n",
       "12  POLYGON ((-586976.916 -552300.671, -586888.338...  \n",
       "13  MULTIPOLYGON (((-1895026.518 653381.410, -1895...  \n",
       "14  POLYGON ((-763699.328 -123827.537, -763675.799...  \n",
       "15  POLYGON ((1413276.792 422870.862, 1413316.602 ...  \n",
       "16  POLYGON ((192818.608 838317.909, 192783.203 83...  \n",
       "17  MULTIPOLYGON (((1494896.016 -105271.050, 14949...  >"
      ]
     },
     "execution_count": 6,
     "metadata": {},
     "output_type": "execute_result"
    }
   ],
   "source": [
    "\n",
    "huc2 = huc2[['HUC2', 'Name', 'Prior_purp', 'geometry']]\n",
    "huc2.head"
   ]
  },
  {
   "cell_type": "code",
   "execution_count": null,
   "metadata": {},
   "outputs": [],
   "source": []
  }
 ],
 "metadata": {
  "kernelspec": {
   "display_name": "Python 3",
   "language": "python",
   "name": "python3"
  },
  "language_info": {
   "codemirror_mode": {
    "name": "ipython",
    "version": 3
   },
   "file_extension": ".py",
   "mimetype": "text/x-python",
   "name": "python",
   "nbconvert_exporter": "python",
   "pygments_lexer": "ipython3",
   "version": "3.7.6"
  }
 },
 "nbformat": 4,
 "nbformat_minor": 4
}
