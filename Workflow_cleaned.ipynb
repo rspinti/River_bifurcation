{
 "cells": [
  {
   "cell_type": "markdown",
   "metadata": {},
   "source": [
    "# River bifurcation in CONUS workflow\n",
    "This notebook contains the workflow necessary to extract data from a HUC4 and join it to NABD for bifurcation analysis.\n",
    "\n",
    "## 1. Install packages"
   ]
  },
  {
   "cell_type": "code",
   "execution_count": null,
   "metadata": {},
   "outputs": [],
   "source": [
    "# import sys\n",
    "# !{sys.executable} -m pip install geofeather\n",
    "# !{sys.executable} -m pip install nhdnet  #see Setup info document "
   ]
  },
  {
   "cell_type": "markdown",
   "metadata": {},
   "source": [
    "## 2. Load modules"
   ]
  },
  {
   "cell_type": "code",
   "execution_count": 2,
   "metadata": {},
   "outputs": [],
   "source": [
    "# Basic analysis \n",
    "from pathlib import Path\n",
    "import os\n",
    "from time import time\n",
    "import geopandas as gp\n",
    "import geofeather\n",
    "import numpy as np\n",
    "import pandas as pd\n",
    "import matplotlib as mp\n",
    "import matplotlib.pyplot as plt\n",
    "\n",
    "# Set path\n",
    "gdrive = Path(\"/Volumes/GoogleDrive/My Drive/Condon_Research_Group/Research_Projects/Rachel/Research/GIS/Layers\") # where shapefiles live on the Drive"
   ]
  },
  {
   "cell_type": "markdown",
   "metadata": {},
   "source": [
    "## 3. Read in the sample geodatabase"
   ]
  },
  {
   "cell_type": "markdown",
   "metadata": {},
   "source": [
    "### 3.1 Read in the HUC4 shapefile (1019) I made "
   ]
  },
  {
   "cell_type": "code",
   "execution_count": 3,
   "metadata": {},
   "outputs": [],
   "source": [
    "## larger dataset\n",
    "# flowlines_test = gp.read_file(gdrive/\"HUC_test/Test1029.shp\")       # this is actually HUC 1019\n",
    "\n",
    "## subset of above data\n",
    "flowlines_test = pd.read_csv(gdrive/\"NHDPlusNationalData/small1019.csv\")\n",
    "\n",
    "flowlines_test = flowlines_test.rename(columns={\"REACHCODE\": \"Reachcode\"})  # rename columns  \n",
    "flowlines_test = flowlines_test.rename(columns={\"StreamOrde\": \"streamorder\"})\n",
    "flowlines_test = flowlines_test.rename(columns={\"LENGTHKM\": \"length\"})\n",
    "# print(flowlines_test)\n",
    "# list(flowlines_test.columns)"
   ]
  },
  {
   "cell_type": "markdown",
   "metadata": {},
   "source": [
    "### 3.2 Checks and cleanup of 'flowlines_test'"
   ]
  },
  {
   "cell_type": "code",
   "execution_count": 4,
   "metadata": {},
   "outputs": [],
   "source": [
    "# Checking flowlines\n",
    "flowlines_test.head(3)            # see the first 3 rows\n",
    "# type(flowlines_test.streamorder)  # check data type\n",
    "# print(len(flowlines_test))        # check length\n",
    "# set(flowlines_test.streamorder)   # list unique streamorder values\n",
    "\n",
    "# Cleanup columns\n",
    "# imp_cols2 = ['OBJECTID', 'COMID', 'Reachcode', 'streamorder', 'geometry', 'Hydroseq', 'UpHydroseq', 'DnHydroseq', 'length']  # specify columns we want to keep\n",
    "imp_cols2 = ['OBJECTID', 'COMID', 'Reachcode', 'streamorder', 'WKT', 'Hydroseq', 'UpHydroseq', 'DnHydroseq', 'length'] # for subset\n",
    "flowlines_test = flowlines_test[imp_cols2]  # filter dataframe with specified columns\n",
    "# print(flowlines_test)\n",
    "\n",
    "# Plotting\n",
    "# flowlines_test[flowlines_test.streamorder>0].plot()  # Plot all stream lines"
   ]
  },
  {
   "cell_type": "markdown",
   "metadata": {},
   "source": [
    "## 4. Join the two datasets (NHD and NABD)\n",
    "Check [this link](https://www.earthdatascience.org/courses/use-data-open-source-python/intro-vector-data-python/vector-data-processing/spatial-joins-in-python-geopandas-shapely/) out for help: \n",
    "\n",
    "See also: https://geopandas.org/mergingdata.html\n",
    "\n",
    "https://pandas.pydata.org/pandas-docs/stable/user_guide/merging.html"
   ]
  },
  {
   "cell_type": "markdown",
   "metadata": {},
   "source": [
    "### 4.1 Read NABD and plot"
   ]
  },
  {
   "cell_type": "code",
   "execution_count": 5,
   "metadata": {},
   "outputs": [
    {
     "name": "stdout",
     "output_type": "stream",
     "text": [
      "['NIDID', 'COMID', 'Dam_name', 'Purposes', 'Year_compl', 'Norm_stor', 'geometry']\n"
     ]
    }
   ],
   "source": [
    "# Read in NABD shapefile\n",
    "nabd = gp.read_file(gdrive/\"nabd_fish_barriers_2012.shp\")  # read in NABD from Drive\n",
    "imp_cols3 = ['NIDID', 'COMID', 'Dam_name', 'Purposes', 'Year_compl', 'Norm_stor', 'geometry']  # specify columns we want to keep\n",
    "nabd = nabd[imp_cols3]  # filter dataframe with specified columns\n",
    "print(list(nabd.columns))\n",
    "# print(len(nabd))"
   ]
  },
  {
   "cell_type": "code",
   "execution_count": 6,
   "metadata": {},
   "outputs": [
    {
     "data": {
      "text/plain": [
       "<matplotlib.axes._subplots.AxesSubplot at 0x7f96b6343880>"
      ]
     },
     "execution_count": 6,
     "metadata": {},
     "output_type": "execute_result"
    },
    {
     "data": {
      "image/png": "[encoded data removed]",
      "text/plain": [
       "<Figure size 432x288 with 1 Axes>"
      ]
     },
     "metadata": {
      "needs_background": "light"
     },
     "output_type": "display_data"
    }
   ],
   "source": [
    "# Plotting check\n",
    "nabd[nabd.COMID>0].plot()  # plot all dams in US"
   ]
  },
  {
   "cell_type": "markdown",
   "metadata": {},
   "source": [
    "### 4.2 Merge datasets by COMID"
   ]
  },
  {
   "cell_type": "code",
   "execution_count": 7,
   "metadata": {},
   "outputs": [],
   "source": [
    "# Merge NABD and NHD\n",
    "nabd_nhd_join = nabd.merge(flowlines_test, how= 'right', on='COMID')  # how = 'right': merge is done by adding NABD attributes to NHD flowlines based on COMID\n",
    "                                                                 # the result will have the same length as \"flowlines_test\""
   ]
  },
  {
   "cell_type": "markdown",
   "metadata": {},
   "source": [
    "### 4.3 Checks of 'nabd_nhd_join'"
   ]
  },
  {
   "cell_type": "code",
   "execution_count": 8,
   "metadata": {},
   "outputs": [
    {
     "name": "stdout",
     "output_type": "stream",
     "text": [
      "51\n"
     ]
    }
   ],
   "source": [
    "# Checking stuff after merge\n",
    "# nabd_nhd_join.head(10)  \n",
    "# nabd_nhd_join.columns\n",
    "# set(nabd_nhd_join.NIDID)\n",
    "# type(nabd_nhd_join)\n",
    "print(len(nabd_nhd_join))  #check the merge\n",
    "# print(type(nabd_nhd_join))\n",
    "# print(nabd_nhd_join[nabd_nhd_join.NIDID!='NaN'])\n",
    "\n",
    "# Plotting  *currently not working, but does not matter*\n",
    "\n",
    "# nabd_nhd_join[nabd_nhd_join.COMID>0].plot()\n",
    "# nabd_nhd_join[nabd_nhd_join.streamorder>0].plot(subplots=FALSE)\n",
    "\n"
   ]
  },
  {
   "cell_type": "markdown",
   "metadata": {},
   "source": [
    "### 4.4 Plotting 'nabd_nhd_join'\n",
    "Red =  dam on the flowline, blue = no dam"
   ]
  },
  {
   "cell_type": "code",
   "execution_count": 9,
   "metadata": {},
   "outputs": [
    {
     "data": {
      "image/png": "[encoded data removed]",
      "text/plain": [
       "<Figure size 432x288 with 1 Axes>"
      ]
     },
     "metadata": {
      "needs_background": "light"
     },
     "output_type": "display_data"
    }
   ],
   "source": [
    "# Joined data\n",
    "# trying to plot data when geometry is WKT\n",
    "from shapely import wkt\n",
    "\n",
    "## get WKT in the correct format\n",
    "nabd_nhd_join = nabd_nhd_join.rename(columns={\"WKT\": \"Coordinates\"}) #rename column\n",
    "nabd_nhd_join.Coordinates = nabd_nhd_join.Coordinates.astype(str)\n",
    "# flowlines_test.COMID = flowlines_test.COMID.apply(str)\n",
    "nabd_nhd_join['Coordinates'] = nabd_nhd_join['Coordinates'].apply(wkt.loads)\n",
    "nabd_nhd_join_gdf = gp.GeoDataFrame(nabd_nhd_join, geometry='Coordinates')\n",
    "\n",
    "## Checking\n",
    "# print(nabd_nhd_join.head(5))\n",
    "# # type(nabd_nhd_join.Coordinates)\n",
    "# nabd_nhd_join.info()\n",
    "# print(nabd_nhd_join_gdf.head())\n",
    "\n",
    "## Plotting\n",
    "# set(nabd_nhd_join_gdf.Norm_stor)\n",
    "len(nabd_nhd_join_gdf.Norm_stor)\n",
    "colors = []\n",
    "for i in range(0,51):   # \n",
    "    if (pd.isnull(nabd_nhd_join_gdf['Norm_stor'][i])):\n",
    "        colors.append('b')\n",
    "    else:\n",
    "        colors.append('r')\n",
    "        \n",
    "\n",
    "nabd_nhd_join_gdf.plot(color=colors)\n",
    "# plt.savefig('Small_dataset.png', dpi = 500)\n",
    "plt.show()"
   ]
  },
  {
   "cell_type": "markdown",
   "metadata": {},
   "source": [
    "## 5. How to read in NHDFlowline csv\n",
    "Exported the Flowline_Network feature class in the NHDPlusV21_National_Seamless_Flattened_Lower48 geodatabase to a csv. [This link](https://gis.stackexchange.com/questions/23376/how-to-export-polygons-to-csv-with-coordinates) helped me keep the geometry of the flowlines"
   ]
  },
  {
   "cell_type": "code",
   "execution_count": 10,
   "metadata": {},
   "outputs": [],
   "source": [
    "# Flowline csv\n",
    "# nhdflowlines = pd.read_csv(gdrive/\"NHDPlusNationalData/NHDFlowlines.csv\")\n",
    "# nhdflowlines.head(3)"
   ]
  },
  {
   "cell_type": "markdown",
   "metadata": {},
   "source": [
    "### 5.1 Checking and filtering the csv"
   ]
  },
  {
   "cell_type": "code",
   "execution_count": 11,
   "metadata": {},
   "outputs": [],
   "source": [
    "# list(flowlines.columns)\n",
    "# keep_cols = ['OBJECTID', 'COMID', 'REACHCODE', 'StreamOrde', 'WKT', 'Hydroseq', 'UpHydroseq', 'DnHydroseq']  # specify columns we want to keep\n",
    "# nhdflowlines = nhdflowlines[keep_cols] # filter dataframe with specified columns\n",
    "# nhdflowlines.head(3)\n",
    "# nhdflowlines['REACHCODE']\n",
    "# nhdflowlines['WKT']"
   ]
  },
  {
   "cell_type": "markdown",
   "metadata": {},
   "source": [
    "### 5.2 Mess around with sample NHD"
   ]
  },
  {
   "cell_type": "code",
   "execution_count": 12,
   "metadata": {},
   "outputs": [],
   "source": [
    "nhd_sample = pd.read_csv(gdrive/\"NHDPlusNationalData/nhd_sample.csv\")\n",
    "# print(nhd_sample)"
   ]
  },
  {
   "cell_type": "markdown",
   "metadata": {},
   "source": [
    "## 6. Bifurcation calculations (SARP way)\n",
    "Looking at 'stats.py'"
   ]
  },
  {
   "cell_type": "code",
   "execution_count": 13,
   "metadata": {},
   "outputs": [],
   "source": [
    "# nabd_nhd_join.head(3)\n",
    "# # set(nabd_nhd_join.DnHydroseq)\n",
    "# # x = nabd_nhd_join[nabd_nhd_join.DnHydroseq == '']\n",
    "# # print(x)\n",
    "\n",
    "# ## need to add \"kind\" to the df - See stats.py and Rachel_workflow\n",
    "# nabd_nhd_join.loc[nabd_nhd_join.UpHydroseq > 0, 'kind'] = 'internal'   # there is stream lines above and below this flowline\n",
    "# nabd_nhd_join.loc[nabd_nhd_join.UpHydroseq == 0, 'kind'] = 'origin'    # there is no stream line above this flowline\n",
    "# nabd_nhd_join.loc[nabd_nhd_join.DnHydroseq == 0, 'kind'] = 'terminal'  # there is no stream line below this flowline\n",
    "# # print(nabd_nhd_join.head(3))\n",
    "# set(nabd_nhd_join.kind)"
   ]
  },
  {
   "cell_type": "markdown",
   "metadata": {},
   "source": [
    "### 6.1 Upstream count"
   ]
  },
  {
   "cell_type": "code",
   "execution_count": 14,
   "metadata": {},
   "outputs": [],
   "source": [
    "# # create series of networkID indexed by COMID?\n",
    "# networkID = nabd_nhd_join\n",
    "# # print(networkID)\n",
    "\n",
    "# list(nabd_nhd_join.columns)\n",
    "# # list(networkID.columns)\n",
    "# # identify all barriers that are upstream of a given network by joining on their downstream Hydroseq (DnHydroseq)\n",
    "# barriers_upstream = (nabd_nhd_join[[\"DnHydroseq\", \"kind\"]].merge(networkID, on = 'DnHydroseq')\n",
    "#                      .reset_index()[[\"Hydroseq\"]].dropna())\n",
    "# barriers_upstream.Hydroseq = barriers_upstream.Hydroseq.astype(\"uint32\")\n",
    "# # print(barriers_upstream)\n",
    "# len(barriers_upstream)\n",
    "\n",
    "# # # have to re-add column for kind\n",
    "# # kind = np.zeros(26358)  # for HUC 1019\n",
    "# kind = np.zeros(73)  # for subset of HUC 1019\n",
    "\n",
    "# barriers_upstream['kind'] = kind\n",
    "# # Count barriers that have a given network DOWNSTREAM of them  * do they mean upstream?\n",
    "# upstream_counts = (barriers_upstream.groupby([\"Hydroseq\", 'kind']).size().rename(\"count\").reset_index()\n",
    "#                    .pivot(index=\"Hydroseq\", columns='kind', values=\"count\").rename(columns={\n",
    "#                 \"dam\": \"up_ndams\"}))\n",
    "# upstream_counts.head(10)\n",
    "# # print(upstream_counts.columns)"
   ]
  },
  {
   "cell_type": "markdown",
   "metadata": {},
   "source": [
    "### 6.2 River length"
   ]
  },
  {
   "cell_type": "code",
   "execution_count": 15,
   "metadata": {},
   "outputs": [],
   "source": [
    "# network_length = nabd_nhd_join.groupby(level=0)[[\"length\"]].sum()\n",
    "# # free_length = (df.loc[~df.waterbody].groupby(level=0).length.sum().rename(\"free_length\"))\n",
    "# # temp_df = df[[\"length\", \"sinuosity\"]].join(network_length, rsuffix=\"_total\")"
   ]
  },
  {
   "cell_type": "markdown",
   "metadata": {},
   "source": [
    "## 7. Bifurcation calculations (Laura pseudocode)\n",
    "Goal: obtain 2 different tables that allow us to walk upstream and downstream. "
   ]
  },
  {
   "cell_type": "code",
   "execution_count": 58,
   "metadata": {},
   "outputs": [
    {
     "name": "stdout",
     "output_type": "stream",
     "text": [
      "<class 'pandas.core.series.Series'>\n",
      "<class 'pandas.core.series.Series'>\n",
      "<class 'pandas.core.series.Series'>\n",
      "<class 'pandas.core.series.Series'>\n",
      "<class 'pandas.core.series.Series'>\n",
      "<class 'pandas.core.series.Series'>\n",
      "<class 'pandas.core.series.Series'>\n",
      "<class 'pandas.core.series.Series'>\n",
      "<class 'pandas.core.series.Series'>\n",
      "<class 'pandas.core.series.Series'>\n",
      "<class 'pandas.core.series.Series'>\n",
      "<class 'pandas.core.series.Series'>\n"
     ]
    },
    {
     "data": {
      "text/html": [
       "<div>\n",
       "<style scoped>\n",
       "    .dataframe tbody tr th:only-of-type {\n",
       "        vertical-align: middle;\n",
       "    }\n",
       "\n",
       "    .dataframe tbody tr th {\n",
       "        vertical-align: top;\n",
       "    }\n",
       "\n",
       "    .dataframe thead th {\n",
       "        text-align: right;\n",
       "    }\n",
       "</style>\n",
       "<table border=\"1\" class=\"dataframe\">\n",
       "  <thead>\n",
       "    <tr style=\"text-align: right;\">\n",
       "      <th></th>\n",
       "      <th>ID</th>\n",
       "      <th>Up</th>\n",
       "      <th>Down</th>\n",
       "      <th>length</th>\n",
       "      <th>fragID</th>\n",
       "    </tr>\n",
       "  </thead>\n",
       "  <tbody>\n",
       "    <tr>\n",
       "      <th>0</th>\n",
       "      <td>550126172.0</td>\n",
       "      <td>550201446.0</td>\n",
       "      <td>550100015.0</td>\n",
       "      <td>1.604</td>\n",
       "      <td>CO00013</td>\n",
       "    </tr>\n",
       "    <tr>\n",
       "      <th>1</th>\n",
       "      <td>550042993.0</td>\n",
       "      <td>550044416.0</td>\n",
       "      <td>550041690.0</td>\n",
       "      <td>0.217</td>\n",
       "      <td>CO00054</td>\n",
       "    </tr>\n",
       "    <tr>\n",
       "      <th>2</th>\n",
       "      <td>550075102.0</td>\n",
       "      <td>550084956.0</td>\n",
       "      <td>550068063.0</td>\n",
       "      <td>5.449</td>\n",
       "      <td>CO01106</td>\n",
       "    </tr>\n",
       "  </tbody>\n",
       "</table>\n",
       "</div>"
      ],
      "text/plain": [
       "            ID           Up         Down  length   fragID\n",
       "0  550126172.0  550201446.0  550100015.0   1.604  CO00013\n",
       "1  550042993.0  550044416.0  550041690.0   0.217  CO00054\n",
       "2  550075102.0  550084956.0  550068063.0   5.449  CO01106"
      ]
     },
     "execution_count": 58,
     "metadata": {},
     "output_type": "execute_result"
    }
   ],
   "source": [
    "#Rachel workflow\n",
    "# Create Segments -> [ID, Up, Down, length, FragID ] (FragID=(NIDID))\n",
    "nabd_nhd_join = nabd_nhd_join.rename(columns={\"Hydroseq\": \"ID\", \"UpHydroseq\":\"Up\", \"DnHydroseq\":\"Down\", \"NIDID\": \"fragID\"}) #rename columns for easier indexing\n",
    "segment_cols = ['ID', 'Up', 'Down', 'length', 'fragID']   #select the columns we want (length = km)\n",
    "segments = nabd_nhd_join[segment_cols]                    #create a new df with the columns we want\n",
    "# segments.head(3)\n",
    "\n",
    "headwater_list = segments.loc[segments.Up == 0]   #select all headwaters (Upstream ID = 0)\n",
    "queue_cols = ['ID']                               #only need hydrosequence ID\n",
    "queue = headwater_list[queue_cols]                #create queue from filtered headwater_list\n",
    "queue.ID = queue.ID.astype(str)\n",
    "queue.loc[:,1] = 0                                #add new column of zeroes\n",
    "queue = queue.rename(columns={1: \"Frag_up\"})      #rename zero column\n",
    "queue = queue.reset_index(drop=True)\n",
    "queue2 = pd.DataFrame()\n",
    "# print(queue)                                      #check what we made \n",
    "# print('Length queue=',len(queue),                 #check length of queue and headwater_list\n",
    "#       'Length headwater_list=',len(headwater_list))\n",
    "\n",
    "for f in range(len(queue)):           #iterate over length of 'queue'\n",
    "    segment_temp = queue.loc[f,'ID']  #select each ID in queue \n",
    "#     print(segment_temp)             \n",
    "    segment_list = segment_temp       #assign ID to the segment list for later\n",
    "#     print(segment_list)\n",
    "    fragment_temp =  segments.loc[segments['ID'] == segment_temp, 'fragID']   #select the fragID where it has the same ID as segment_temp\n",
    "    print(type(fragment_temp))\n",
    "    length_temp = segments.loc[segments['ID'] == segment_temp, 'length']  #select the stream length where ID = segmemt_temp\n",
    "#     print(length_temp)\n",
    "#     frag_temp.to_frame()\n",
    "#     print(type(frag_temp))\n",
    "    \n",
    "    if [fragment_temp == 'nan']:    #iterate through headwaters (frag_temp = 0)\n",
    "#     while (pd.isnull(frag_temp['frag_temp'][i])):\n",
    "        next_segment = segments.loc[segments['ID'] == segment_temp, 'Down']\n",
    "#         print(next_segment)\n",
    "        up_length = segments.loc[segments['ID'] == segment_temp, 'length'] \n",
    "        next_length = segments.loc[segments['ID'] == next_segment, 'length']\n",
    "        segments.loc[:,6] =  up_length + next_length    #add new column for uplength? \n",
    "#         segments = segments.rename(columns={6:'upstream_length'}) \n",
    "#         segments.loc[segments['ID'] == next_segment, segments['upstream_length'] == segments.loc[segments['ID'] == next_segment, 'length'] + segments.loc[segments['ID'] == segment_temp, 'length']] #add length to downstream ID\n",
    "#         seglist=c(seglist,snext)\n",
    "#         ftemp=segments[snext,fragID]\n",
    "#         lengthtemp=lengthtemp+segments[segnext, length]\n",
    "#         segtemp=segnext\n",
    "\n",
    "#     #Assign the fragment number to everything in the temp list\n",
    "#     segments[seglist, Frag] = ftemp\n",
    "#     #adding the downstream segment to the next queue\n",
    "#     queue2 = c(queue2,  segments[segtemp, frag])  #queue needs to  have two columns the segment ID and the FragID that lead to i\n",
    "#     #sum up the total length of the segments and add to lengthtemp\n",
    "#     frag[ftemp, length]=frag[ftemp,length]+lengthtemp\n",
    "#     frag[ftemp, Fup] = queue[s,2]\n",
    "    \n",
    "#     #clear everything out\n",
    "#     seglist=null\n",
    "#     lengthtemp=0\n",
    "segments.head(3)"
   ]
  },
  {
   "cell_type": "code",
   "execution_count": null,
   "metadata": {},
   "outputs": [],
   "source": []
  },
  {
   "cell_type": "markdown",
   "metadata": {},
   "source": [
    "## Junk/ trying things"
   ]
  },
  {
   "cell_type": "code",
   "execution_count": 17,
   "metadata": {},
   "outputs": [],
   "source": [
    "# trying to plot data when geometry is WKT\n",
    "# from shapely import wkt\n",
    "\n",
    "# ## get WKT in the correct format\n",
    "# flowlines_test = flowlines_test.rename(columns={\"WKT\": \"Coordinates\"}) #rename column\n",
    "# flowlines_test.Coordinates = flowlines_test.Coordinates.astype(str)\n",
    "# # flowlines_test.COMID = flowlines_test.COMID.apply(str)\n",
    "# flowlines_test['Coordinates'] = flowlines_test['Coordinates'].apply(wkt.loads)\n",
    "# flowline_gdf = gp.GeoDataFrame(flowlines_test, geometry='Coordinates')\n",
    "\n",
    "## Checking\n",
    "# print(flowlines_test.head(5))\n",
    "# # type(flowlines_test.Coordinates)\n",
    "# flowlines_test.info()\n",
    "# print(flowline_gdf.head())\n",
    "\n",
    "## Plotting\n",
    "# ax = flowline_gdf[flowline_gdf.streamorder>'6'].plot()\n",
    "# flowline_gdf.plot(ax=ax, color='red')\n",
    "# # plt.show()"
   ]
  }
 ],
 "metadata": {
  "kernelspec": {
   "display_name": "Python 3",
   "language": "python",
   "name": "python3"
  },
  "language_info": {
   "codemirror_mode": {
    "name": "ipython",
    "version": 3
   },
   "file_extension": ".py",
   "mimetype": "text/x-python",
   "name": "python",
   "nbconvert_exporter": "python",
   "pygments_lexer": "ipython3",
   "version": "3.8.1"
  }
 },
 "nbformat": 4,
 "nbformat_minor": 4
}
