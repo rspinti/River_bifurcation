{
 "cells": [
  {
   "cell_type": "markdown",
   "metadata": {},
   "source": [
    "# River bifurcation in CONUS workflow\n",
    "This notebook contains the workflow necessary to extract data from a HUC4 and join it to NABD for bifurcation analysis.\n",
    "\n",
    "## 1. Install packages"
   ]
  },
  {
   "cell_type": "code",
   "execution_count": null,
   "metadata": {},
   "outputs": [],
   "source": [
    "# import sys\n",
    "# !{sys.executable} -m pip install geofeather\n",
    "# !{sys.executable} -m pip install nhdnet  #see Setup info document "
   ]
  },
  {
   "cell_type": "markdown",
   "metadata": {},
   "source": [
    "## 2. Load modules"
   ]
  },
  {
   "cell_type": "code",
   "execution_count": 2,
   "metadata": {},
   "outputs": [],
   "source": [
    "#basic analysis \n",
    "from pathlib import Path\n",
    "import os\n",
    "from time import time\n",
    "import geopandas as gp\n",
    "import geofeather\n",
    "import numpy as np\n",
    "import pandas as pd\n",
    "\n",
    "\n",
    "#modules from SARP analysis\n",
    "from geofeather import to_geofeather\n",
    "from nhdnet.nhd.extract import extract_flowlines \n",
    "# from nhdnet.nhd.extract_test import extract_flowlines_R  # this function was created by Rachel to extract info from other NHD\n",
    "# from nhdnet.nhd.extract import extract_waterbodies\n",
    "from nhdnet.io import serialize_df, serialize_sindex, to_shp \n",
    "\n",
    "#Getting the other NHD \n",
    "# from nhdnet.nhd.download import download_huc4\n",
    "# nhd_dir = Path(\"data/nhd/source/huc4\")\n",
    "\n",
    "\n",
    "# #pull data from Google Drive\n",
    "# from pydrive.auth import GoogleAuth\n",
    "# from pydrive.drive import GoogleDrive\n",
    "\n",
    "# gauth = GoogleAuth()\n",
    "# gauth.LocalWebserverAuth() # client_secrets.json need to be in the same directory as the script\n",
    "# drive = GoogleDrive(gauth)"
   ]
  },
  {
   "cell_type": "markdown",
   "metadata": {},
   "source": [
    "## 3. Initial setup and constants"
   ]
  },
  {
   "cell_type": "code",
   "execution_count": 3,
   "metadata": {},
   "outputs": [
    {
     "name": "stdout",
     "output_type": "stream",
     "text": [
      "1019\n",
      "<class 'str'>\n",
      "1019000000\n",
      "data/nhd/source/huc4\n"
     ]
    }
   ],
   "source": [
    "#Select HUC of interest\n",
    "HUC2 = 10\n",
    "i = 19\n",
    "HUC4 = \"{0}{1:02d}\".format(HUC2, i)  # this formats the HUC4 name how we want it. ':02d' is string formatting\n",
    "print(HUC4)\n",
    "print(type(HUC4))\n",
    "huc_id = int(HUC4) * 1000000   # the full HUC4 ID\n",
    "print(huc_id)\n",
    "\n",
    "data_dir = Path(\"data/nhd/source/huc4\")  # point to where GDBs are\n",
    "# data_dir = Path(\"/Volumes/GoogleDrive/My Drive/Condon_Research_Group/Research_Projects/Rachel/Research/GIS/Layers/NHDPlusNationalData\")  # point to where GDBs are\n",
    "\n",
    "#Setting projections\n",
    "CRS = {           # Using USGS CONUS Albers (EPSG:102003): https://epsg.io/102003  WHY?\n",
    "    \"proj\": \"aea\",\n",
    "    \"lat_1\": 29.5,\n",
    "    \"lat_2\": 45.5,\n",
    "    \"lat_0\": 37.5,\n",
    "    \"lon_0\": -96,\n",
    "    \"x_0\": 0,\n",
    "    \"y_0\": 0,\n",
    "    \"datum\": \"NAD83\",\n",
    "    \"units\": \"m\",\n",
    "    \"no_defs\": True,\n",
    "}\n",
    "print(data_dir)"
   ]
  },
  {
   "cell_type": "markdown",
   "metadata": {},
   "source": [
    "## 4. Read in the geodatabase"
   ]
  },
  {
   "cell_type": "code",
   "execution_count": 4,
   "metadata": {},
   "outputs": [
    {
     "name": "stdout",
     "output_type": "stream",
     "text": [
      "data/nhd/source/huc4/1019/NHDPLUS_H_1019_HU4_GDB.gdb\n",
      "Reading flowlines\n",
      "Columns= <bound method NDFrame.head of            NHDPlusID  FlowDir  FType   GNIS_ID             GNIS_Name  \\\n",
      "0       2.300190e+13        1    460      None                  None   \n",
      "1       2.300190e+13        1    460      None                  None   \n",
      "2       2.300190e+13        1    460      None                  None   \n",
      "3       2.300190e+13        1    460      None                  None   \n",
      "4       2.300190e+13        1    460      None                  None   \n",
      "...              ...      ...    ...       ...                   ...   \n",
      "232506  2.300190e+13        1    460      None                  None   \n",
      "232507  2.300190e+13        1    460  00184959  West Toll Gate Creek   \n",
      "232508  2.300190e+13        1    334      None                  None   \n",
      "232509  2.300190e+13        1    558      None                  None   \n",
      "232510  2.300190e+13        1    336  00203030      Burlington Ditch   \n",
      "\n",
      "                                                 geometry       ReachCode  \n",
      "0       MULTILINESTRING Z ((-105.34899 39.07143 0.0000...  10190001010972  \n",
      "1       MULTILINESTRING Z ((-105.35264 39.12310 0.0000...  10190002021576  \n",
      "2       MULTILINESTRING Z ((-105.35673 39.11519 0.0000...  10190002022431  \n",
      "3       MULTILINESTRING Z ((-105.35209 39.11434 0.0000...  10190002022326  \n",
      "4       MULTILINESTRING Z ((-105.36363 39.14648 0.0000...  10190002002172  \n",
      "...                                                   ...             ...  \n",
      "232506  MULTILINESTRING Z ((-105.08310 39.33391 0.0000...  10190002032413  \n",
      "232507  MULTILINESTRING Z ((-104.80501 39.70918 0.0000...  10190003001307  \n",
      "232508  MULTILINESTRING Z ((-104.80338 39.72802 0.0000...  10190003004218  \n",
      "232509  MULTILINESTRING Z ((-104.80539 39.88881 0.0000...  10190003004014  \n",
      "232510  MULTILINESTRING Z ((-104.81659 39.90713 0.0000...  10190003000404  \n",
      "\n",
      "[232511 rows x 7 columns]>\n",
      "Read 232,511 flowlines\n",
      "Reading VAA table and joining...\n",
      "230,020 features after join to VAA\n",
      "Filtering out loops and coastlines\n",
      "221,415 features after removing loops and coastlines\n",
      "Calculating size class\n",
      "Converting MultiLineString => LineString\n",
      "Converting geometry to 2D\n",
      "projecting to target projection\n",
      "Calculating length and sinuosity\n",
      "Reading segment connections\n",
      "Read 221,415 flowlines in  75 seconds\n"
     ]
    }
   ],
   "source": [
    "# sys.path.append('/Users/rachelspinti/Documents/River_bifurcation/data/nhd/source/huc4/1019') #call where these scripts are located\n",
    "\n",
    "gdb = data_dir/HUC4/ \"NHDPLUS_H_{HUC4}_HU4_GDB.gdb\".format(HUC4=HUC4)\n",
    "print(gdb)\n",
    "read_start = time()\n",
    "flowlines, joins = extract_flowlines(gdb, target_crs=CRS)\n",
    "print(\"Read {:,} flowlines in  {:.0f} seconds\".format(len(flowlines), time() - read_start))\n",
    "\n",
    "# gdb = data_dir/\"NHDPlusV21_National_Seamless_Flattened_Lower48.gdb\"\n",
    "# print(gdb)\n",
    "# read_start = time()\n",
    "# flowlines = extract_flowlines_R(gdb, target_crs=CRS)\n",
    "# print(\"Read {:,} flowlines in  {:.0f} seconds\".format(len(flowlines), time() - read_start))\n",
    "\n",
    "# gdb = data_dir/ \"NHDPlusV21_National_Seamless_Flattened_Lower48.gdb\".format(HUC4=HUC4)\n",
    "# print(gdb)\n",
    "# read_start = time()\n",
    "# flowlines, joins = extract_flowlines(gdb, target_crs=CRS)\n",
    "# print(\"Read {:,} flowlines in  {:.0f} seconds\".format(len(flowlines), time() - read_start))\n"
   ]
  },
  {
   "cell_type": "markdown",
   "metadata": {},
   "source": [
    "### 4.1 Some checks and cleanup of 'flowlines'"
   ]
  },
  {
   "cell_type": "code",
   "execution_count": 5,
   "metadata": {},
   "outputs": [
    {
     "data": {
      "text/plain": [
       "['lineID', 'NHDPlusID', 'ReachCode', 'streamorder', 'geometry']"
      ]
     },
     "execution_count": 5,
     "metadata": {},
     "output_type": "execute_result"
    }
   ],
   "source": [
    "# flowlines.head(3)\n",
    "# list(flowlines.columns)\n",
    "\n",
    "# cleaning up columns\n",
    "imp_cols = [\"lineID\", \"NHDPlusID\", \"ReachCode\", \"streamorder\", \"geometry\"]\n",
    "flowlines = flowlines[imp_cols]\n",
    "list(flowlines.columns)\n",
    "# len(flowlines.columns)"
   ]
  },
  {
   "cell_type": "markdown",
   "metadata": {},
   "source": [
    "### 4.2 Read in the HUC4 shapefile (1019) I made "
   ]
  },
  {
   "cell_type": "code",
   "execution_count": 6,
   "metadata": {},
   "outputs": [],
   "source": [
    "huc_test = (gp.read_file('/Users/rachelspinti/Desktop/HUC_test/Test1029.shp')) # this is actually HUC 1019\n",
    "huc_test = huc_test.rename(columns={\"REACHCODE\": \"ReachCode\"})\n",
    "huc_test.ReachCode = huc_test.ReachCode.astype(\"uint64\")\n",
    "# print(huc_test)"
   ]
  },
  {
   "cell_type": "markdown",
   "metadata": {},
   "source": [
    "### 4.3 Checks and cleanup of 'huc_test'"
   ]
  },
  {
   "cell_type": "code",
   "execution_count": 7,
   "metadata": {},
   "outputs": [
    {
     "name": "stdout",
     "output_type": "stream",
     "text": [
      "14847\n"
     ]
    },
    {
     "data": {
      "text/plain": [
       "['OBJECTID', 'COMID', 'ReachCode']"
      ]
     },
     "execution_count": 7,
     "metadata": {},
     "output_type": "execute_result"
    }
   ],
   "source": [
    "# checking huc_test\n",
    "# type(huc_test.ReachCode)\n",
    "# huc_test.head(3)\n",
    "# list(huc_test.columns)\n",
    "print(len(huc_test))\n",
    "# cleaning up columns\n",
    "imp_cols2 = ['OBJECTID', 'COMID', 'ReachCode']\n",
    "huc_test = huc_test[imp_cols2]\n",
    "# huc_test.drop(huc_test.columns[[3, 4, 5, 6,7 ]], axis=1, inplace=True)\n",
    "list(huc_test.columns)\n",
    "# # len(huc_test.columns)\n"
   ]
  },
  {
   "cell_type": "code",
   "execution_count": 8,
   "metadata": {},
   "outputs": [
    {
     "data": {
      "text/plain": [
       "221415"
      ]
     },
     "execution_count": 8,
     "metadata": {},
     "output_type": "execute_result"
    }
   ],
   "source": [
    "len(flowlines)"
   ]
  },
  {
   "cell_type": "markdown",
   "metadata": {},
   "source": [
    "## 5. Join the two datasets\n",
    "Check this link out for help: https://www.earthdatascience.org/courses/use-data-open-source-python/intro-vector-data-python/vector-data-processing/spatial-joins-in-python-geopandas-shapely/\n",
    "\n",
    "See also: https://geopandas.org/mergingdata.html\n",
    "\n",
    "https://pandas.pydata.org/pandas-docs/stable/user_guide/merging.html"
   ]
  },
  {
   "cell_type": "code",
   "execution_count": 9,
   "metadata": {},
   "outputs": [],
   "source": [
    "# Attribute join with geopandas\n",
    "rivers = flowlines.merge(huc_test, how='left', on='ReachCode')"
   ]
  },
  {
   "cell_type": "markdown",
   "metadata": {},
   "source": [
    "### 5.1 Checks of 'rivers'"
   ]
  },
  {
   "cell_type": "code",
   "execution_count": 10,
   "metadata": {},
   "outputs": [
    {
     "name": "stdout",
     "output_type": "stream",
     "text": [
      "246765\n",
      "   lineID       NHDPlusID       ReachCode  streamorder  \\\n",
      "0       1  23001900008851  10190001010972            1   \n",
      "1       2  23001900008863  10190002021576            1   \n",
      "2       3  23001900008864  10190002022431            1   \n",
      "3       4  23001900008865  10190002022326            1   \n",
      "\n",
      "                                            geometry  OBJECTID  COMID  \n",
      "0  LINESTRING (-800081.762 215515.782, -800082.87...       NaN    NaN  \n",
      "1  LINESTRING (-799823.525 221309.940, -799829.56...       NaN    NaN  \n",
      "2  LINESTRING (-800259.206 220461.613, -800252.86...       NaN    NaN  \n",
      "3  LINESTRING (-799873.180 220328.121, -799869.36...       NaN    NaN  \n"
     ]
    },
    {
     "data": {
      "text/plain": [
       "176075"
      ]
     },
     "execution_count": 10,
     "metadata": {},
     "output_type": "execute_result"
    }
   ],
   "source": [
    "# Checking stuff after merge\n",
    "print(len(rivers))\n",
    "print(rivers.head(4))  #check the join\n",
    "# print(rivers.COMID)\n",
    "# rivers.iloc[rivers.streamorder].plot()\n",
    "# flowlines[flowlines.streamorder>4].plot()\n",
    "\n",
    "# Create a list of unique values by turning the\n",
    "# pandas column into a set\n",
    "# len(set(rivers.ReachCode))\n",
    "len(set(rivers.COMID))\n",
    "\n",
    "# type(rivers)\n",
    "# print(rivers.describe)\n",
    "# rivers.plot()\n",
    "# print(rivers.shape)\n",
    "# print(list(rivers.columns))"
   ]
  },
  {
   "cell_type": "markdown",
   "metadata": {},
   "source": [
    "## 6. Join NHD and NABD"
   ]
  },
  {
   "cell_type": "code",
   "execution_count": 11,
   "metadata": {},
   "outputs": [
    {
     "name": "stdout",
     "output_type": "stream",
     "text": [
      "['NIDID', 'COMID', 'Dam_name', 'Purposes', 'Year_compl', 'Max_stor', 'Norm_stor', 'NID_stor', 'geometry']\n"
     ]
    }
   ],
   "source": [
    "# Read in NABD shapefile and join with NHD\n",
    "nabd = gp.read_file('/Users/rachelspinti/Documents/River_bifurcation/data/nabd/nabd_fish_barriers_2012.shp')\n",
    "imp_cols3 = ['NIDID', 'COMID', 'Dam_name', 'Purposes', 'Year_compl', 'Max_stor', 'Norm_stor','NID_stor', 'geometry']\n",
    "nabd = nabd[imp_cols3]\n",
    "print(list(nabd.columns))"
   ]
  },
  {
   "cell_type": "code",
   "execution_count": 12,
   "metadata": {},
   "outputs": [],
   "source": [
    "# Merge\n",
    "nabd = nabd.merge(rivers, on='COMID')   #attribute join with geopandas"
   ]
  },
  {
   "cell_type": "code",
   "execution_count": 13,
   "metadata": {},
   "outputs": [
    {
     "name": "stdout",
     "output_type": "stream",
     "text": [
      "2073\n"
     ]
    },
    {
     "data": {
      "text/html": [
       "<div>\n",
       "<style scoped>\n",
       "    .dataframe tbody tr th:only-of-type {\n",
       "        vertical-align: middle;\n",
       "    }\n",
       "\n",
       "    .dataframe tbody tr th {\n",
       "        vertical-align: top;\n",
       "    }\n",
       "\n",
       "    .dataframe thead th {\n",
       "        text-align: right;\n",
       "    }\n",
       "</style>\n",
       "<table border=\"1\" class=\"dataframe\">\n",
       "  <thead>\n",
       "    <tr style=\"text-align: right;\">\n",
       "      <th></th>\n",
       "      <th>NIDID</th>\n",
       "      <th>COMID</th>\n",
       "      <th>Dam_name</th>\n",
       "      <th>Purposes</th>\n",
       "      <th>Year_compl</th>\n",
       "      <th>Max_stor</th>\n",
       "      <th>Norm_stor</th>\n",
       "      <th>NID_stor</th>\n",
       "      <th>geometry_x</th>\n",
       "      <th>lineID</th>\n",
       "      <th>NHDPlusID</th>\n",
       "      <th>ReachCode</th>\n",
       "      <th>streamorder</th>\n",
       "      <th>geometry_y</th>\n",
       "      <th>OBJECTID</th>\n",
       "    </tr>\n",
       "  </thead>\n",
       "  <tbody>\n",
       "    <tr>\n",
       "      <th>0</th>\n",
       "      <td>CO00307</td>\n",
       "      <td>188119.0</td>\n",
       "      <td>SMITH</td>\n",
       "      <td>IR</td>\n",
       "      <td>1884.0</td>\n",
       "      <td>822.0</td>\n",
       "      <td>638.0</td>\n",
       "      <td>822.0</td>\n",
       "      <td>POINT (-105.11384 39.68576)</td>\n",
       "      <td>172230</td>\n",
       "      <td>23001900133800</td>\n",
       "      <td>10190002000457</td>\n",
       "      <td>2</td>\n",
       "      <td>LINESTRING (-773431.077 282105.494, -773395.55...</td>\n",
       "      <td>1520138.0</td>\n",
       "    </tr>\n",
       "    <tr>\n",
       "      <th>1</th>\n",
       "      <td>CO00297</td>\n",
       "      <td>188127.0</td>\n",
       "      <td>KENDRICK</td>\n",
       "      <td>IR</td>\n",
       "      <td>1922.0</td>\n",
       "      <td>492.0</td>\n",
       "      <td>242.0</td>\n",
       "      <td>492.0</td>\n",
       "      <td>POINT (-105.10443 39.68396)</td>\n",
       "      <td>73964</td>\n",
       "      <td>23001900047389</td>\n",
       "      <td>10190002000455</td>\n",
       "      <td>2</td>\n",
       "      <td>LINESTRING (-769177.591 281385.829, -769166.58...</td>\n",
       "      <td>1520132.0</td>\n",
       "    </tr>\n",
       "    <tr>\n",
       "      <th>2</th>\n",
       "      <td>CO00297</td>\n",
       "      <td>188127.0</td>\n",
       "      <td>KENDRICK</td>\n",
       "      <td>IR</td>\n",
       "      <td>1922.0</td>\n",
       "      <td>492.0</td>\n",
       "      <td>242.0</td>\n",
       "      <td>492.0</td>\n",
       "      <td>POINT (-105.10443 39.68396)</td>\n",
       "      <td>73965</td>\n",
       "      <td>23001900047390</td>\n",
       "      <td>10190002000455</td>\n",
       "      <td>2</td>\n",
       "      <td>LINESTRING (-768913.600 281410.653, -768770.37...</td>\n",
       "      <td>1520132.0</td>\n",
       "    </tr>\n",
       "    <tr>\n",
       "      <th>3</th>\n",
       "      <td>CO00297</td>\n",
       "      <td>188127.0</td>\n",
       "      <td>KENDRICK</td>\n",
       "      <td>IR</td>\n",
       "      <td>1922.0</td>\n",
       "      <td>492.0</td>\n",
       "      <td>242.0</td>\n",
       "      <td>492.0</td>\n",
       "      <td>POINT (-105.10443 39.68396)</td>\n",
       "      <td>74291</td>\n",
       "      <td>23001900046500</td>\n",
       "      <td>10190002000455</td>\n",
       "      <td>2</td>\n",
       "      <td>LINESTRING (-772040.876 281657.221, -771962.28...</td>\n",
       "      <td>1520132.0</td>\n",
       "    </tr>\n",
       "  </tbody>\n",
       "</table>\n",
       "</div>"
      ],
      "text/plain": [
       "     NIDID     COMID  Dam_name Purposes  Year_compl  Max_stor  Norm_stor  \\\n",
       "0  CO00307  188119.0     SMITH       IR      1884.0     822.0      638.0   \n",
       "1  CO00297  188127.0  KENDRICK       IR      1922.0     492.0      242.0   \n",
       "2  CO00297  188127.0  KENDRICK       IR      1922.0     492.0      242.0   \n",
       "3  CO00297  188127.0  KENDRICK       IR      1922.0     492.0      242.0   \n",
       "\n",
       "   NID_stor                   geometry_x  lineID       NHDPlusID  \\\n",
       "0     822.0  POINT (-105.11384 39.68576)  172230  23001900133800   \n",
       "1     492.0  POINT (-105.10443 39.68396)   73964  23001900047389   \n",
       "2     492.0  POINT (-105.10443 39.68396)   73965  23001900047390   \n",
       "3     492.0  POINT (-105.10443 39.68396)   74291  23001900046500   \n",
       "\n",
       "        ReachCode  streamorder  \\\n",
       "0  10190002000457            2   \n",
       "1  10190002000455            2   \n",
       "2  10190002000455            2   \n",
       "3  10190002000455            2   \n",
       "\n",
       "                                          geometry_y   OBJECTID  \n",
       "0  LINESTRING (-773431.077 282105.494, -773395.55...  1520138.0  \n",
       "1  LINESTRING (-769177.591 281385.829, -769166.58...  1520132.0  \n",
       "2  LINESTRING (-768913.600 281410.653, -768770.37...  1520132.0  \n",
       "3  LINESTRING (-772040.876 281657.221, -771962.28...  1520132.0  "
      ]
     },
     "execution_count": 13,
     "metadata": {},
     "output_type": "execute_result"
    }
   ],
   "source": [
    "# Checking stuff after merge\n",
    "print(len(nabd))\n",
    "nabd.head(4)  #check the join\n",
    "# nabd[nabd.COMID].plot()"
   ]
  },
  {
   "cell_type": "code",
   "execution_count": null,
   "metadata": {},
   "outputs": [],
   "source": []
  }
 ],
 "metadata": {
  "kernelspec": {
   "display_name": "Python 3",
   "language": "python",
   "name": "python3"
  },
  "language_info": {
   "codemirror_mode": {
    "name": "ipython",
    "version": 3
   },
   "file_extension": ".py",
   "mimetype": "text/x-python",
   "name": "python",
   "nbconvert_exporter": "python",
   "pygments_lexer": "ipython3",
   "version": "3.8.1"
  }
 },
 "nbformat": 4,
 "nbformat_minor": 4
}
