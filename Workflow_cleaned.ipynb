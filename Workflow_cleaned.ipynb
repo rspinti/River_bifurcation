{
 "cells": [
  {
   "cell_type": "markdown",
   "metadata": {},
   "source": [
    "# River bifurcation in CONUS workflow\n",
    "This notebook contains the workflow necessary to extract data from a HUC4 and join it to NABD for bifurcation analysis.\n",
    "\n",
    "## 1. Install packages"
   ]
  },
  {
   "cell_type": "code",
   "execution_count": 1,
   "metadata": {},
   "outputs": [],
   "source": [
    "# import sys\n",
    "# !{sys.executable} -m pip install geofeather\n",
    "# !{sys.executable} -m pip install nhdnet  #see Setup info document "
   ]
  },
  {
   "cell_type": "markdown",
   "metadata": {},
   "source": [
    "## 2. Load modules"
   ]
  },
  {
   "cell_type": "code",
   "execution_count": 2,
   "metadata": {},
   "outputs": [],
   "source": [
    "#basic analysis \n",
    "from pathlib import Path\n",
    "import os\n",
    "from time import time\n",
    "import geopandas as gp\n",
    "import geofeather\n",
    "import numpy as np\n",
    "import pandas as pd\n",
    "\n",
    "\n",
    "#modules from SARP analysis \n",
    "from geofeather import to_geofeather\n",
    "# from nhdnet.nhd.extract import extract_flowlines    # this is the original function\n",
    "from nhdnet.nhd.extract_test import extract_flowlines_R  # this function was created by Rachel to extract info from other NHD\n",
    " \n",
    "\n",
    "#Getting the other NHD \n",
    "# from nhdnet.nhd.download import download_huc4\n",
    "# nhd_dir = Path(\"data/nhd/source/huc4\")\n",
    "\n",
    "\n",
    "# #pull data from Google Drive\n",
    "# from pydrive.auth import GoogleAuth\n",
    "# from pydrive.drive import GoogleDrive\n",
    "\n",
    "# gauth = GoogleAuth()\n",
    "# gauth.LocalWebserverAuth() # client_secrets.json need to be in the same directory as the script\n",
    "# drive = GoogleDrive(gauth)"
   ]
  },
  {
   "cell_type": "markdown",
   "metadata": {},
   "source": [
    "## 3. Initial setup and constants"
   ]
  },
  {
   "cell_type": "code",
   "execution_count": 3,
   "metadata": {},
   "outputs": [
    {
     "name": "stdout",
     "output_type": "stream",
     "text": [
      "1019\n",
      "<class 'str'>\n",
      "1019000000\n",
      "/Volumes/GoogleDrive/My Drive/Condon_Research_Group/Research_Projects/Rachel/Research/GIS/Layers/NHDPlusNationalData\n"
     ]
    }
   ],
   "source": [
    "#Select HUC of interest\n",
    "HUC2 = 10\n",
    "i = 19\n",
    "HUC4 = \"{0}{1:02d}\".format(HUC2, i)  # this formats the HUC4 name how we want it. ':02d' is string formatting\n",
    "print(HUC4)\n",
    "print(type(HUC4))\n",
    "huc_id = int(HUC4) * 1000000   # the full HUC4 ID\n",
    "print(huc_id)\n",
    "\n",
    "# data_dir = Path(\"data/nhd/source/huc4\")  # point to where GDBs are\n",
    "data_dir = Path(\"/Volumes/GoogleDrive/My Drive/Condon_Research_Group/Research_Projects/Rachel/Research/GIS/Layers/NHDPlusNationalData\")  # point to where GDBs are\n",
    "\n",
    "#Setting projections\n",
    "CRS = {           # Using USGS CONUS Albers (EPSG:102003): https://epsg.io/102003  WHY?\n",
    "    \"proj\": \"aea\",\n",
    "    \"lat_1\": 29.5,\n",
    "    \"lat_2\": 45.5,\n",
    "    \"lat_0\": 37.5,\n",
    "    \"lon_0\": -96,\n",
    "    \"x_0\": 0,\n",
    "    \"y_0\": 0,\n",
    "    \"datum\": \"NAD83\",\n",
    "    \"units\": \"m\",\n",
    "    \"no_defs\": True,}\n",
    "print(data_dir)"
   ]
  },
  {
   "cell_type": "markdown",
   "metadata": {},
   "source": [
    "## 4. Read in the geodatabase"
   ]
  },
  {
   "cell_type": "code",
   "execution_count": null,
   "metadata": {},
   "outputs": [
    {
     "name": "stdout",
     "output_type": "stream",
     "text": [
      "/Volumes/GoogleDrive/My Drive/Condon_Research_Group/Research_Projects/Rachel/Research/GIS/Layers/NHDPlusNationalData/NHDPlusV21_National_Seamless_Flattened_Lower48.gdb\n",
      "Reading flowlines\n"
     ]
    }
   ],
   "source": [
    "# Read the smaller HR gdb \n",
    "# gdb = data_dir/HUC4/ \"NHDPLUS_H_{HUC4}_HU4_GDB.gdb\".format(HUC4=HUC4)\n",
    "# print(gdb)\n",
    "# read_start = time()\n",
    "# flowlines, joins = extract_flowlines(gdb, target_crs=CRS)\n",
    "# print(\"Read {:,} flowlines in  {:.0f} seconds\".format(len(flowlines), time() - read_start))\n",
    "\n",
    "\n",
    "# Read in the entire gdb from Drive\n",
    "gdb = data_dir/\"NHDPlusV21_National_Seamless_Flattened_Lower48.gdb\"\n",
    "print(gdb)\n",
    "read_start = time()\n",
    "flowlines = extract_flowlines_R(gdb, target_crs=CRS)\n",
    "print(\"Read {:,} flowlines in  {:.0f} seconds\".format(len(flowlines), time() - read_start))\n",
    "\n",
    "\n",
    "# Filter the gdb as it is read in\n",
    "# gdb = data_dir/ \"NHDPlusV21_National_Seamless_Flattened_Lower48.gdb\".format(HUC4=HUC4)\n",
    "# print(gdb)\n",
    "# read_start = time()\n",
    "# flowlines, joins = extract_flowlines(gdb, target_crs=CRS)\n",
    "# print(\"Read {:,} flowlines in  {:.0f} seconds\".format(len(flowlines), time() - read_start))"
   ]
  },
  {
   "cell_type": "markdown",
   "metadata": {},
   "source": [
    "### 4.1 Some checks and cleanup of 'flowlines'"
   ]
  },
  {
   "cell_type": "code",
   "execution_count": null,
   "metadata": {},
   "outputs": [],
   "source": [
    "# flowlines.head(3)\n",
    "# list(flowlines.columns)\n",
    "\n",
    "# cleaning up columns\n",
    "imp_cols = [\"lineID\", \"NHDPlusID\", \"ReachCode\", \"streamorder\", \"geometry\"]\n",
    "flowlines = flowlines[imp_cols]\n",
    "list(flowlines.columns)\n",
    "# len(flowlines.columns)"
   ]
  },
  {
   "cell_type": "markdown",
   "metadata": {},
   "source": [
    "### 4.2 Read in the HUC4 shapefile (1019) I made "
   ]
  },
  {
   "cell_type": "code",
   "execution_count": null,
   "metadata": {},
   "outputs": [],
   "source": [
    "huc_test = (gp.read_file('/Users/rachelspinti/Desktop/HUC_test/Test1029.shp')) # this is actually HUC 1019\n",
    "huc_test = huc_test.rename(columns={\"REACHCODE\": \"ReachCode\"})\n",
    "huc_test.ReachCode = huc_test.ReachCode.astype(\"uint64\")\n",
    "# print(huc_test)"
   ]
  },
  {
   "cell_type": "markdown",
   "metadata": {},
   "source": [
    "### 4.3 Checks and cleanup of 'huc_test'"
   ]
  },
  {
   "cell_type": "code",
   "execution_count": null,
   "metadata": {},
   "outputs": [],
   "source": [
    "# checking huc_test\n",
    "# type(huc_test.ReachCode)\n",
    "# huc_test.head(3)\n",
    "# list(huc_test.columns)\n",
    "print(len(huc_test))\n",
    "# cleaning up columns\n",
    "imp_cols2 = ['OBJECTID', 'COMID', 'ReachCode']\n",
    "huc_test = huc_test[imp_cols2]\n",
    "# huc_test.drop(huc_test.columns[[3, 4, 5, 6,7 ]], axis=1, inplace=True)\n",
    "list(huc_test.columns)\n",
    "# # len(huc_test.columns)\n"
   ]
  },
  {
   "cell_type": "code",
   "execution_count": null,
   "metadata": {},
   "outputs": [],
   "source": [
    "len(flowlines)"
   ]
  },
  {
   "cell_type": "markdown",
   "metadata": {},
   "source": [
    "## 5. Join the two datasets\n",
    "Check this link out for help: https://www.earthdatascience.org/courses/use-data-open-source-python/intro-vector-data-python/vector-data-processing/spatial-joins-in-python-geopandas-shapely/\n",
    "\n",
    "See also: https://geopandas.org/mergingdata.html\n",
    "\n",
    "https://pandas.pydata.org/pandas-docs/stable/user_guide/merging.html"
   ]
  },
  {
   "cell_type": "code",
   "execution_count": null,
   "metadata": {},
   "outputs": [],
   "source": [
    "# Attribute join with geopandas\n",
    "rivers = flowlines.merge(huc_test, how='left', on='ReachCode')"
   ]
  },
  {
   "cell_type": "markdown",
   "metadata": {},
   "source": [
    "### 5.1 Checks of 'rivers'"
   ]
  },
  {
   "cell_type": "code",
   "execution_count": null,
   "metadata": {},
   "outputs": [],
   "source": [
    "# Checking stuff after merge\n",
    "print(len(rivers))\n",
    "print(rivers.head(4))  #check the join\n",
    "# print(rivers.COMID)\n",
    "# rivers.iloc[rivers.streamorder].plot()\n",
    "# flowlines[flowlines.streamorder>4].plot()\n",
    "\n",
    "# Create a list of unique values by turning the\n",
    "# pandas column into a set\n",
    "# len(set(rivers.ReachCode))\n",
    "len(set(rivers.COMID))\n",
    "\n",
    "# type(rivers)\n",
    "# print(rivers.describe)\n",
    "# rivers.plot()\n",
    "# print(rivers.shape)\n",
    "# print(list(rivers.columns))"
   ]
  },
  {
   "cell_type": "markdown",
   "metadata": {},
   "source": [
    "## 6. Join NHD and NABD"
   ]
  },
  {
   "cell_type": "code",
   "execution_count": null,
   "metadata": {},
   "outputs": [],
   "source": [
    "# Read in NABD shapefile and join with NHD\n",
    "nabd = gp.read_file('/Volumes/GoogleDrive/My Drive/Condon_Research_Group/Research_Projects/Rachel/Research/GIS/Layers/nabd_fish_barriers_2012.shp')\n",
    "imp_cols3 = ['NIDID', 'COMID', 'Dam_name', 'Purposes', 'Year_compl', 'Max_stor', 'Norm_stor','NID_stor', 'geometry']\n",
    "nabd = nabd[imp_cols3]\n",
    "print(list(nabd.columns))"
   ]
  },
  {
   "cell_type": "code",
   "execution_count": null,
   "metadata": {},
   "outputs": [],
   "source": [
    "# Merge\n",
    "nabd = nabd.merge(rivers, on='COMID')   #attribute join with geopandas"
   ]
  },
  {
   "cell_type": "code",
   "execution_count": null,
   "metadata": {},
   "outputs": [],
   "source": [
    "# Checking stuff after merge\n",
    "print(len(nabd))\n",
    "nabd.head(4)  #check the join\n",
    "# nabd[nabd.COMID].plot()"
   ]
  },
  {
   "cell_type": "code",
   "execution_count": null,
   "metadata": {},
   "outputs": [],
   "source": []
  }
 ],
 "metadata": {
  "kernelspec": {
   "display_name": "Python 3",
   "language": "python",
   "name": "python3"
  },
  "language_info": {
   "codemirror_mode": {
    "name": "ipython",
    "version": 3
   },
   "file_extension": ".py",
   "mimetype": "text/x-python",
   "name": "python",
   "nbconvert_exporter": "python",
   "pygments_lexer": "ipython3",
   "version": "3.8.1"
  }
 },
 "nbformat": 4,
 "nbformat_minor": 4
}
