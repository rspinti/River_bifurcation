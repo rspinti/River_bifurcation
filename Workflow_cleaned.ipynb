{
 "cells": [
  {
   "cell_type": "markdown",
   "metadata": {},
   "source": [
    "# River bifurcation in CONUS workflow\n",
    "This notebook contains the workflow necessary to extract data from a HUC4 and join it to NABD for bifurcation analysis.\n",
    "\n",
    "## 1. Install packages"
   ]
  },
  {
   "cell_type": "code",
   "execution_count": 1,
   "metadata": {},
   "outputs": [],
   "source": [
    "# import sys\n",
    "# !{sys.executable} -m pip install geofeather\n",
    "# !{sys.executable} -m pip install nhdnet  #see Setup info document "
   ]
  },
  {
   "cell_type": "markdown",
   "metadata": {},
   "source": [
    "## 2. Load modules"
   ]
  },
  {
   "cell_type": "code",
   "execution_count": 2,
   "metadata": {},
   "outputs": [],
   "source": [
    "# Basic analysis \n",
    "from pathlib import Path\n",
    "import os\n",
    "from time import time\n",
    "import geopandas as gp\n",
    "import geofeather\n",
    "import numpy as np\n",
    "import pandas as pd\n",
    "import matplotlib as mp\n",
    "import matplotlib.pyplot as plt\n",
    "\n",
    "# Set path\n",
    "gdrive = Path(\"/Volumes/GoogleDrive/My Drive/Condon_Research_Group/Research_Projects/Rachel/Research/GIS/Layers\") # where shapefiles live on the Drive"
   ]
  },
  {
   "cell_type": "markdown",
   "metadata": {},
   "source": [
    "## 3. Read in the sample geodatabase"
   ]
  },
  {
   "cell_type": "markdown",
   "metadata": {},
   "source": [
    "### 3.1 Read in the HUC4 shapefile (1019) I made "
   ]
  },
  {
   "cell_type": "code",
   "execution_count": 19,
   "metadata": {},
   "outputs": [],
   "source": [
    "## larger dataset\n",
    "# flowlines_test = gp.read_file(gdrive/\"HUC_test/Test1029.shp\")       # this is actually HUC 1019\n",
    "\n",
    "## subset of above data\n",
    "flowlines_test = pd.read_csv(gdrive/\"NHDPlusNationalData/small1019.csv\")\n",
    "\n",
    "flowlines_test = flowlines_test.rename(columns={\"REACHCODE\": \"Reachcode\"})  # rename columns  \n",
    "flowlines_test = flowlines_test.rename(columns={\"StreamOrde\": \"streamorder\"})\n",
    "flowlines_test = flowlines_test.rename(columns={\"LENGTHKM\": \"length\"})\n",
    "# print(flowlines_test)\n",
    "# list(flowlines_test.columns)"
   ]
  },
  {
   "cell_type": "markdown",
   "metadata": {},
   "source": [
    "### 3.2 Checks and cleanup of 'flowlines_test'"
   ]
  },
  {
   "cell_type": "code",
   "execution_count": 22,
   "metadata": {},
   "outputs": [
    {
     "name": "stdout",
     "output_type": "stream",
     "text": [
      "<class 'pandas.core.frame.DataFrame'>\n",
      "RangeIndex: 51 entries, 0 to 50\n",
      "Data columns (total 9 columns):\n",
      "OBJECTID       51 non-null object\n",
      "COMID          51 non-null object\n",
      "Reachcode      51 non-null object\n",
      "streamorder    51 non-null object\n",
      "WKT            51 non-null object\n",
      "Hydroseq       51 non-null object\n",
      "UpHydroseq     51 non-null object\n",
      "DnHydroseq     51 non-null object\n",
      "length         51 non-null object\n",
      "dtypes: object(9)\n",
      "memory usage: 3.7+ KB\n"
     ]
    }
   ],
   "source": [
    "# Checking flowlines\n",
    "flowlines_test.head(3)            # see the first 3 rows\n",
    "# type(flowlines_test.streamorder)  # check data type\n",
    "# print(len(flowlines_test))        # check length\n",
    "# set(flowlines_test.streamorder)   # list unique streamorder values\n",
    "\n",
    "# Cleanup columns\n",
    "# imp_cols2 = ['OBJECTID', 'COMID', 'Reachcode', 'streamorder', 'geometry', 'Hydroseq', 'UpHydroseq', 'DnHydroseq', 'length']  # specify columns we want to keep\n",
    "imp_cols2 = ['OBJECTID', 'COMID', 'Reachcode', 'streamorder', 'WKT', 'Hydroseq', 'UpHydroseq', 'DnHydroseq', 'length'] # for subset\n",
    "flowlines_test = flowlines_test[imp_cols2]  # filter dataframe with specified columns\n",
    "# print(flowlines_test)\n",
    "\n",
    "# Plotting\n",
    "# flowlines_test[flowlines_test.streamorder>0].plot()  # Plot all stream lines"
   ]
  },
  {
   "cell_type": "markdown",
   "metadata": {},
   "source": [
    "## 4. Join the two datasets (NHD and NABD)\n",
    "Check [this link](https://www.earthdatascience.org/courses/use-data-open-source-python/intro-vector-data-python/vector-data-processing/spatial-joins-in-python-geopandas-shapely/) out for help: \n",
    "\n",
    "See also: https://geopandas.org/mergingdata.html\n",
    "\n",
    "https://pandas.pydata.org/pandas-docs/stable/user_guide/merging.html"
   ]
  },
  {
   "cell_type": "markdown",
   "metadata": {},
   "source": [
    "### 4.1 Read NABD and plot"
   ]
  },
  {
   "cell_type": "code",
   "execution_count": 5,
   "metadata": {},
   "outputs": [
    {
     "name": "stdout",
     "output_type": "stream",
     "text": [
      "['NIDID', 'COMID', 'Dam_name', 'Purposes', 'Year_compl', 'Norm_stor', 'geometry']\n"
     ]
    }
   ],
   "source": [
    "# Read in NABD shapefile\n",
    "nabd = gp.read_file(gdrive/\"nabd_fish_barriers_2012.shp\")  # read in NABD from Drive\n",
    "imp_cols3 = ['NIDID', 'COMID', 'Dam_name', 'Purposes', 'Year_compl', 'Norm_stor', 'geometry']  # specify columns we want to keep\n",
    "nabd = nabd[imp_cols3]  # filter dataframe with specified columns\n",
    "print(list(nabd.columns))\n",
    "# print(len(nabd))"
   ]
  },
  {
   "cell_type": "code",
   "execution_count": 6,
   "metadata": {},
   "outputs": [
    {
     "data": {
      "text/plain": [
       "<matplotlib.axes._subplots.AxesSubplot at 0x7fb8c8deb5b0>"
      ]
     },
     "execution_count": 6,
     "metadata": {},
     "output_type": "execute_result"
    },
    {
     "data": {
      "image/png": "[encoded data removed]",
      "text/plain": [
       "<Figure size 432x288 with 1 Axes>"
      ]
     },
     "metadata": {
      "needs_background": "light"
     },
     "output_type": "display_data"
    }
   ],
   "source": [
    "# Plotting check\n",
    "nabd[nabd.COMID>0].plot()  # plot all dams in US"
   ]
  },
  {
   "cell_type": "markdown",
   "metadata": {},
   "source": [
    "### 4.2 Merge datasets by COMID"
   ]
  },
  {
   "cell_type": "code",
   "execution_count": 7,
   "metadata": {},
   "outputs": [],
   "source": [
    "# Merge NABD and NHD\n",
    "nabd_nhd_join = nabd.merge(flowlines_test, how= 'right', on='COMID')  # how = 'right': merge is done by adding NABD attributes to NHD flowlines based on COMID\n",
    "                                                                 # the result will have the same length as \"flowlines_test\""
   ]
  },
  {
   "cell_type": "markdown",
   "metadata": {},
   "source": [
    "### 4.3 Checks of 'nabd_nhd_join'"
   ]
  },
  {
   "cell_type": "code",
   "execution_count": 8,
   "metadata": {},
   "outputs": [
    {
     "name": "stdout",
     "output_type": "stream",
     "text": [
      "51\n"
     ]
    }
   ],
   "source": [
    "# Checking stuff after merge\n",
    "# nabd_nhd_join.head(10)  \n",
    "# nabd_nhd_join.columns\n",
    "# set(nabd_nhd_join.NIDID)\n",
    "# type(nabd_nhd_join)\n",
    "print(len(nabd_nhd_join))  #check the merge\n",
    "# print(type(nabd_nhd_join))\n",
    "# print(nabd_nhd_join[nabd_nhd_join.NIDID!='NaN'])\n",
    "\n",
    "# Plotting  *currently not working, but does not matter*\n",
    "\n",
    "# nabd_nhd_join[nabd_nhd_join.COMID>0].plot()\n",
    "# nabd_nhd_join[nabd_nhd_join.streamorder>0].plot(subplots=FALSE)\n",
    "\n"
   ]
  },
  {
   "cell_type": "markdown",
   "metadata": {},
   "source": [
    "## 5. How to read in NHDFlowline csv\n",
    "Exported the Flowline_Network feature class in the NHDPlusV21_National_Seamless_Flattened_Lower48 geodatabase to a csv. [This link](https://gis.stackexchange.com/questions/23376/how-to-export-polygons-to-csv-with-coordinates) helped me keep the geometry of the flowlines"
   ]
  },
  {
   "cell_type": "code",
   "execution_count": 9,
   "metadata": {},
   "outputs": [],
   "source": [
    "# Flowline csv\n",
    "# nhdflowlines = pd.read_csv(gdrive/\"NHDPlusNationalData/NHDFlowlines.csv\")\n",
    "# nhdflowlines.head(3)"
   ]
  },
  {
   "cell_type": "markdown",
   "metadata": {},
   "source": [
    "### 5.1 Checking and filtering the csv"
   ]
  },
  {
   "cell_type": "code",
   "execution_count": 10,
   "metadata": {},
   "outputs": [],
   "source": [
    "# list(flowlines.columns)\n",
    "# keep_cols = ['OBJECTID', 'COMID', 'REACHCODE', 'StreamOrde', 'WKT', 'Hydroseq', 'UpHydroseq', 'DnHydroseq']  # specify columns we want to keep\n",
    "# nhdflowlines = nhdflowlines[keep_cols] # filter dataframe with specified columns\n",
    "# nhdflowlines.head(3)\n",
    "# nhdflowlines['REACHCODE']\n",
    "# nhdflowlines['WKT']"
   ]
  },
  {
   "cell_type": "markdown",
   "metadata": {},
   "source": [
    "### 5.2 Mess around with sample NHD"
   ]
  },
  {
   "cell_type": "code",
   "execution_count": 11,
   "metadata": {},
   "outputs": [],
   "source": [
    "nhd_sample = pd.read_csv(gdrive/\"NHDPlusNationalData/nhd_sample.csv\")\n",
    "# print(nhd_sample)"
   ]
  },
  {
   "cell_type": "markdown",
   "metadata": {},
   "source": [
    "## 6. Bifurcation calculations\n",
    "Looking at 'stats.py'"
   ]
  },
  {
   "cell_type": "code",
   "execution_count": 12,
   "metadata": {},
   "outputs": [
    {
     "data": {
      "text/plain": [
       "{'internal', 'origin'}"
      ]
     },
     "execution_count": 12,
     "metadata": {},
     "output_type": "execute_result"
    }
   ],
   "source": [
    "nabd_nhd_join.head(3)\n",
    "# set(nabd_nhd_join.DnHydroseq)\n",
    "# x = nabd_nhd_join[nabd_nhd_join.DnHydroseq == '']\n",
    "# print(x)\n",
    "\n",
    "## need to add \"kind\" to the df - See stats.py and Rachel_workflow\n",
    "nabd_nhd_join.loc[nabd_nhd_join.UpHydroseq > 0, 'kind'] = 'internal'   # there is stream lines above and below this flowline\n",
    "nabd_nhd_join.loc[nabd_nhd_join.UpHydroseq == 0, 'kind'] = 'origin'    # there is no stream line above this flowline\n",
    "nabd_nhd_join.loc[nabd_nhd_join.DnHydroseq == 0, 'kind'] = 'terminal'  # there is no stream line below this flowline\n",
    "# print(nabd_nhd_join.head(3))\n",
    "set(nabd_nhd_join.kind)"
   ]
  },
  {
   "cell_type": "markdown",
   "metadata": {},
   "source": [
    "### 6.1 Upstream count"
   ]
  },
  {
   "cell_type": "code",
   "execution_count": 13,
   "metadata": {},
   "outputs": [
    {
     "data": {
      "text/html": [
       "<div>\n",
       "<style scoped>\n",
       "    .dataframe tbody tr th:only-of-type {\n",
       "        vertical-align: middle;\n",
       "    }\n",
       "\n",
       "    .dataframe tbody tr th {\n",
       "        vertical-align: top;\n",
       "    }\n",
       "\n",
       "    .dataframe thead th {\n",
       "        text-align: right;\n",
       "    }\n",
       "</style>\n",
       "<table border=\"1\" class=\"dataframe\">\n",
       "  <thead>\n",
       "    <tr style=\"text-align: right;\">\n",
       "      <th>kind</th>\n",
       "      <th>0.0</th>\n",
       "    </tr>\n",
       "    <tr>\n",
       "      <th>Hydroseq</th>\n",
       "      <th></th>\n",
       "    </tr>\n",
       "  </thead>\n",
       "  <tbody>\n",
       "    <tr>\n",
       "      <th>550037589</th>\n",
       "      <td>1</td>\n",
       "    </tr>\n",
       "    <tr>\n",
       "      <th>550038487</th>\n",
       "      <td>2</td>\n",
       "    </tr>\n",
       "    <tr>\n",
       "      <th>550039449</th>\n",
       "      <td>2</td>\n",
       "    </tr>\n",
       "    <tr>\n",
       "      <th>550040521</th>\n",
       "      <td>1</td>\n",
       "    </tr>\n",
       "    <tr>\n",
       "      <th>550041689</th>\n",
       "      <td>1</td>\n",
       "    </tr>\n",
       "    <tr>\n",
       "      <th>550042993</th>\n",
       "      <td>1</td>\n",
       "    </tr>\n",
       "    <tr>\n",
       "      <th>550044416</th>\n",
       "      <td>2</td>\n",
       "    </tr>\n",
       "    <tr>\n",
       "      <th>550046027</th>\n",
       "      <td>1</td>\n",
       "    </tr>\n",
       "    <tr>\n",
       "      <th>550047868</th>\n",
       "      <td>2</td>\n",
       "    </tr>\n",
       "    <tr>\n",
       "      <th>550049960</th>\n",
       "      <td>2</td>\n",
       "    </tr>\n",
       "  </tbody>\n",
       "</table>\n",
       "</div>"
      ],
      "text/plain": [
       "kind       0.0\n",
       "Hydroseq      \n",
       "550037589    1\n",
       "550038487    2\n",
       "550039449    2\n",
       "550040521    1\n",
       "550041689    1\n",
       "550042993    1\n",
       "550044416    2\n",
       "550046027    1\n",
       "550047868    2\n",
       "550049960    2"
      ]
     },
     "execution_count": 13,
     "metadata": {},
     "output_type": "execute_result"
    }
   ],
   "source": [
    "# create series of networkID indexed by COMID?\n",
    "networkID = nabd_nhd_join\n",
    "# print(networkID)\n",
    "\n",
    "list(nabd_nhd_join.columns)\n",
    "# list(networkID.columns)\n",
    "# identify all barriers that are upstream of a given network by joining on their downstream Hydroseq (DnHydroseq)\n",
    "barriers_upstream = (nabd_nhd_join[[\"DnHydroseq\", \"kind\"]].merge(networkID, on = 'DnHydroseq')\n",
    "                     .reset_index()[[\"Hydroseq\"]].dropna())\n",
    "barriers_upstream.Hydroseq = barriers_upstream.Hydroseq.astype(\"uint32\")\n",
    "# print(barriers_upstream)\n",
    "len(barriers_upstream)\n",
    "\n",
    "# # have to re-add column for kind\n",
    "# kind = np.zeros(26358)  # for HUC 1019\n",
    "kind = np.zeros(73)  # for subset of HUC 1019\n",
    "\n",
    "barriers_upstream['kind'] = kind\n",
    "# Count barriers that have a given network DOWNSTREAM of them  * do they mean upstream?\n",
    "upstream_counts = (barriers_upstream.groupby([\"Hydroseq\", 'kind']).size().rename(\"count\").reset_index()\n",
    "                   .pivot(index=\"Hydroseq\", columns='kind', values=\"count\").rename(columns={\n",
    "                \"dam\": \"up_ndams\"}))\n",
    "upstream_counts.head(10)\n",
    "# print(upstream_counts.columns)"
   ]
  },
  {
   "cell_type": "markdown",
   "metadata": {},
   "source": [
    "### 6.2 River length"
   ]
  },
  {
   "cell_type": "code",
   "execution_count": 14,
   "metadata": {},
   "outputs": [],
   "source": [
    "network_length = nabd_nhd_join.groupby(level=0)[[\"length\"]].sum()\n",
    "# free_length = (df.loc[~df.waterbody].groupby(level=0).length.sum().rename(\"free_length\"))\n",
    "# temp_df = df[[\"length\", \"sinuosity\"]].join(network_length, rsuffix=\"_total\")"
   ]
  },
  {
   "cell_type": "markdown",
   "metadata": {},
   "source": [
    "## Junk/ trying things"
   ]
  },
  {
   "cell_type": "code",
   "execution_count": 45,
   "metadata": {},
   "outputs": [
    {
     "name": "stderr",
     "output_type": "stream",
     "text": [
      "/Library/Frameworks/Python.framework/Versions/3.8/lib/python3.8/site-packages/geopandas/plotting.py:529: UserWarning: The GeoDataFrame you are attempting to plot is empty. Nothing has been displayed.\n",
      "  warnings.warn(\n"
     ]
    },
    {
     "data": {
      "image/png": "[encoded data removed]",
      "text/plain": [
       "<Figure size 432x288 with 1 Axes>"
      ]
     },
     "metadata": {
      "needs_background": "light"
     },
     "output_type": "display_data"
    },
    {
     "name": "stdout",
     "output_type": "stream",
     "text": [
      "['r', 'r', 'r', 'r', 'r', 'r', 'r', 'r', 'r', 'r', 'r', 'r', 'r', 'r', 'r', 'r']\n"
     ]
    }
   ],
   "source": [
    "# trying to plot data when geometry is WKT\n",
    "from shapely import wkt\n",
    "\n",
    "## get WKT in the correct format\n",
    "flowlines_test = flowlines_test.rename(columns={\"WKT\": \"Coordinates\"}) #rename column\n",
    "flowlines_test.Coordinates = flowlines_test.Coordinates.astype(str)\n",
    "# flowlines_test.COMID = flowlines_test.COMID.apply(str)\n",
    "flowlines_test['Coordinates'] = flowlines_test['Coordinates'].apply(wkt.loads)\n",
    "flowline_gdf = gp.GeoDataFrame(flowlines_test, geometry='Coordinates')\n",
    "\n",
    "## Checking\n",
    "# print(flowlines_test.head(5))\n",
    "# # type(flowlines_test.Coordinates)\n",
    "# flowlines_test.info()\n",
    "# print(flowline_gdf.head())\n",
    "\n",
    "## Plotting\n",
    "ax = flowline_gdf[flowline_gdf.streamorder>'6'].plot()\n",
    "flowline_gdf.plot(ax=ax, color='red')\n",
    "plt.show()\n",
    "\n",
    "\n",
    "# Joined data\n",
    "# trying to plot data when geometry is WKT\n",
    "from shapely import wkt\n",
    "\n",
    "## get WKT in the correct format\n",
    "nabd_nhd_join = nabd_nhd_join.rename(columns={\"WKT\": \"Coordinates\"}) #rename column\n",
    "nabd_nhd_join.Coordinates = nabd_nhd_join.Coordinates.astype(str)\n",
    "# flowlines_test.COMID = flowlines_test.COMID.apply(str)\n",
    "nabd_nhd_join['Coordinates'] = nabd_nhd_join['Coordinates'].apply(wkt.loads)\n",
    "nabd_nhd_join_gdf = gp.GeoDataFrame(nabd_nhd_join, geometry='Coordinates')\n",
    "\n",
    "## Checking\n",
    "# print(nabd_nhd_join.head(5))\n",
    "# # type(nabd_nhd_join.Coordinates)\n",
    "# nabd_nhd_join.info()\n",
    "# print(nabd_nhd_join_gdf.head())\n",
    "\n",
    "## Plotting\n",
    "item = nabd_nhd_join_gdf.NIDID\n",
    "colors = []\n",
    "for item in nabd_nhd_join_gdf:\n",
    "    if item != 'nan':\n",
    "        colors.append('r')\n",
    "    else:\n",
    "        colors.append('b')\n",
    "print(colors)\n",
    "# ax = flowline_gdf[flowline_gdf.streamorder>'6'].plot()\n",
    "# nabd_nhd_join_gdf.plot(color=colors)\n",
    "# plt.show()\n",
    "\n",
    "# item = nabd_nhd_join.NIDID\n",
    "# colors = []\n",
    "# for i in nabd_nhd_join.NIDID:\n",
    "#     if np.isnan(nabd_nhd_join.NIDID[i]) == 'TRUE':\n",
    "#         colors.append('r')\n",
    "#     else:\n",
    "#         colors.append('b')\n",
    "# plt.plot(x, y)                      \n",
    "# ax.bar(x, data, color=colors)\n",
    "# nabd_nhd_join[nabd_nhd_join.NIDID].plot(color=colors)\n",
    "# set(colors)"
   ]
  },
  {
   "cell_type": "code",
   "execution_count": null,
   "metadata": {},
   "outputs": [],
   "source": []
  }
 ],
 "metadata": {
  "kernelspec": {
   "display_name": "Python 3",
   "language": "python",
   "name": "python3"
  },
  "language_info": {
   "codemirror_mode": {
    "name": "ipython",
    "version": 3
   },
   "file_extension": ".py",
   "mimetype": "text/x-python",
   "name": "python",
   "nbconvert_exporter": "python",
   "pygments_lexer": "ipython3",
   "version": "3.8.1"
  }
 },
 "nbformat": 4,
 "nbformat_minor": 4
}
