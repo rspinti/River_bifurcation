{
 "cells": [
  {
   "cell_type": "markdown",
   "metadata": {},
   "source": [
    "## Optional first step installing packages"
   ]
  },
  {
   "cell_type": "code",
   "execution_count": 1,
   "metadata": {},
   "outputs": [],
   "source": [
    "# import sys\n",
    "# !{sys.executable} -m pip install geofeather\n",
    "# !{sys.executable} -m pip install nhdnet  #see Setup info document "
   ]
  },
  {
   "cell_type": "markdown",
   "metadata": {},
   "source": [
    "### Loading modules"
   ]
  },
  {
   "cell_type": "code",
   "execution_count": 2,
   "metadata": {},
   "outputs": [],
   "source": [
    "from pathlib import Path\n",
    "import os\n",
    "from time import time\n",
    "import geopandas as gp\n",
    "import geofeather\n",
    "\n",
    "from geofeather import to_geofeather\n",
    "from nhdnet.nhd.extract import extract_flowlines\n",
    "# from nhdnet.nhd.extract import extract_waterbodies\n",
    "from nhdnet.io import serialize_df, serialize_sindex, to_shp  "
   ]
  },
  {
   "cell_type": "markdown",
   "metadata": {},
   "source": [
    "## Initial setup and constants"
   ]
  },
  {
   "cell_type": "code",
   "execution_count": 3,
   "metadata": {},
   "outputs": [
    {
     "name": "stdout",
     "output_type": "stream",
     "text": [
      "1019\n",
      "<class 'str'>\n",
      "1019000000\n"
     ]
    }
   ],
   "source": [
    "#Select HUC of interest\n",
    "HUC2 = 10\n",
    "i = 19\n",
    "HUC4 = \"{0}{1:02d}\".format(HUC2, i)  # this formats the HUC4 name how we want it. ':02d' is string formatting\n",
    "print(HUC4)\n",
    "print(type(HUC4))\n",
    "huc_id = int(HUC4) * 1000000   # the full HUC4 ID\n",
    "print(huc_id)\n",
    "\n",
    "data_dir = Path(\"data/nhd/source/huc4\")  # point to where GDBs are\n",
    "\n",
    "#Setting projections\n",
    "CRS = {           # Using USGS CONUS Albers (EPSG:102003): https://epsg.io/102003  WHY?\n",
    "    \"proj\": \"aea\",\n",
    "    \"lat_1\": 29.5,\n",
    "    \"lat_2\": 45.5,\n",
    "    \"lat_0\": 37.5,\n",
    "    \"lon_0\": -96,\n",
    "    \"x_0\": 0,\n",
    "    \"y_0\": 0,\n",
    "    \"datum\": \"NAD83\",\n",
    "    \"units\": \"m\",\n",
    "    \"no_defs\": True,\n",
    "}"
   ]
  },
  {
   "cell_type": "markdown",
   "metadata": {},
   "source": [
    "## Read in the geodatabase"
   ]
  },
  {
   "cell_type": "code",
   "execution_count": 4,
   "metadata": {},
   "outputs": [
    {
     "name": "stdout",
     "output_type": "stream",
     "text": [
      "data/nhd/source/huc4/1019/NHDPLUS_H_1019_HU4_GDB.gdb\n",
      "Reading flowlines\n",
      "Columns= <bound method NDFrame.head of            NHDPlusID  FlowDir  FType   GNIS_ID             GNIS_Name  \\\n",
      "0       2.300190e+13        1    460      None                  None   \n",
      "1       2.300190e+13        1    460      None                  None   \n",
      "2       2.300190e+13        1    460      None                  None   \n",
      "3       2.300190e+13        1    460      None                  None   \n",
      "4       2.300190e+13        1    460      None                  None   \n",
      "...              ...      ...    ...       ...                   ...   \n",
      "232506  2.300190e+13        1    460      None                  None   \n",
      "232507  2.300190e+13        1    460  00184959  West Toll Gate Creek   \n",
      "232508  2.300190e+13        1    334      None                  None   \n",
      "232509  2.300190e+13        1    558      None                  None   \n",
      "232510  2.300190e+13        1    336  00203030      Burlington Ditch   \n",
      "\n",
      "                                                 geometry       ReachCode  \n",
      "0       MULTILINESTRING Z ((-105.34899 39.07143 0.0000...  10190001010972  \n",
      "1       MULTILINESTRING Z ((-105.35264 39.12310 0.0000...  10190002021576  \n",
      "2       MULTILINESTRING Z ((-105.35673 39.11519 0.0000...  10190002022431  \n",
      "3       MULTILINESTRING Z ((-105.35209 39.11434 0.0000...  10190002022326  \n",
      "4       MULTILINESTRING Z ((-105.36363 39.14648 0.0000...  10190002002172  \n",
      "...                                                   ...             ...  \n",
      "232506  MULTILINESTRING Z ((-105.08310 39.33391 0.0000...  10190002032413  \n",
      "232507  MULTILINESTRING Z ((-104.80501 39.70918 0.0000...  10190003001307  \n",
      "232508  MULTILINESTRING Z ((-104.80338 39.72802 0.0000...  10190003004218  \n",
      "232509  MULTILINESTRING Z ((-104.80539 39.88881 0.0000...  10190003004014  \n",
      "232510  MULTILINESTRING Z ((-104.81659 39.90713 0.0000...  10190003000404  \n",
      "\n",
      "[232511 rows x 7 columns]>\n",
      "Read 232,511 flowlines\n",
      "Reading VAA table and joining...\n",
      "230,020 features after join to VAA\n",
      "Filtering out loops and coastlines\n",
      "221,415 features after removing loops and coastlines\n",
      "Calculating size class\n",
      "Converting MultiLineString => LineString\n",
      "Converting geometry to 2D\n",
      "projecting to target projection\n",
      "Calculating length and sinuosity\n",
      "Reading segment connections\n",
      "Read 221,415 flowlines in  85 seconds\n"
     ]
    }
   ],
   "source": [
    "# sys.path.append('/Users/rachelspinti/Documents/River_bifurcation/data/nhd/source/huc4/1019') #call where these scripts are located\n",
    "\n",
    "gdb = data_dir/HUC4/ \"NHDPLUS_H_{HUC4}_HU4_GDB.gdb\".format(HUC4=HUC4)\n",
    "print(gdb)\n",
    "read_start = time()\n",
    "flowlines, joins = extract_flowlines(gdb, target_crs=CRS)\n",
    "print(\"Read {:,} flowlines in  {:.0f} seconds\".format(len(flowlines), time() - read_start))"
   ]
  },
  {
   "cell_type": "markdown",
   "metadata": {},
   "source": [
    "## Getting information about what came out of this\n",
    "\n",
    "First for the flowlines -- this is a geodataframe with the flowline geometry. Comes from *flowlines.py*"
   ]
  },
  {
   "cell_type": "code",
   "execution_count": 5,
   "metadata": {},
   "outputs": [
    {
     "name": "stdout",
     "output_type": "stream",
     "text": [
      "['NHDPlusID', 'FType', 'GNIS_ID', 'GNIS_Name', 'geometry', 'ReachCode', 'lineID', 'streamorder', 'TotDASqKm', 'sizeclass', 'length', 'sinuosity']\n"
     ]
    },
    {
     "data": {
      "text/plain": [
       "<matplotlib.axes._subplots.AxesSubplot at 0x7f96cc491430>"
      ]
     },
     "execution_count": 5,
     "metadata": {},
     "output_type": "execute_result"
    },
    {
     "data": {
      "image/png": "[encoded data removed]",
      "text/plain": [
       "<Figure size 432x288 with 1 Axes>"
      ]
     },
     "metadata": {
      "needs_background": "light"
     },
     "output_type": "display_data"
    }
   ],
   "source": [
    "# type(flowlines)\n",
    "# flowlines.head(3)\n",
    "# print(flowlines)\n",
    "# flowlines.plot()\n",
    "# print(flowlines.shape)\n",
    "print(list(flowlines.columns))\n",
    "# print(flowlines[flowlines.streamorder>6])\n",
    "flowlines[flowlines.streamorder>6].plot()"
   ]
  },
  {
   "cell_type": "code",
   "execution_count": 23,
   "metadata": {},
   "outputs": [
    {
     "data": {
      "text/html": [
       "<div>\n",
       "<style scoped>\n",
       "    .dataframe tbody tr th:only-of-type {\n",
       "        vertical-align: middle;\n",
       "    }\n",
       "\n",
       "    .dataframe tbody tr th {\n",
       "        vertical-align: top;\n",
       "    }\n",
       "\n",
       "    .dataframe thead th {\n",
       "        text-align: right;\n",
       "    }\n",
       "</style>\n",
       "<table border=\"1\" class=\"dataframe\">\n",
       "  <thead>\n",
       "    <tr style=\"text-align: right;\">\n",
       "      <th></th>\n",
       "      <th>geometry</th>\n",
       "      <th>lineID</th>\n",
       "      <th>NHDPlusID</th>\n",
       "      <th>ReachCode</th>\n",
       "      <th>FType</th>\n",
       "      <th>length</th>\n",
       "      <th>sinuosity</th>\n",
       "      <th>sizeclass</th>\n",
       "      <th>streamorder</th>\n",
       "    </tr>\n",
       "    <tr>\n",
       "      <th>NHDPlusID</th>\n",
       "      <th></th>\n",
       "      <th></th>\n",
       "      <th></th>\n",
       "      <th></th>\n",
       "      <th></th>\n",
       "      <th></th>\n",
       "      <th></th>\n",
       "      <th></th>\n",
       "      <th></th>\n",
       "    </tr>\n",
       "  </thead>\n",
       "  <tbody>\n",
       "    <tr>\n",
       "      <th>23001900008851</th>\n",
       "      <td>LINESTRING (-800081.762 215515.782, -800082.87...</td>\n",
       "      <td>1019000001</td>\n",
       "      <td>23001900008851</td>\n",
       "      <td>10190001010972</td>\n",
       "      <td>460</td>\n",
       "      <td>486.965546</td>\n",
       "      <td>1.082492</td>\n",
       "      <td>1a</td>\n",
       "      <td>1</td>\n",
       "    </tr>\n",
       "    <tr>\n",
       "      <th>23001900008863</th>\n",
       "      <td>LINESTRING (-799823.525 221309.940, -799829.56...</td>\n",
       "      <td>1019000002</td>\n",
       "      <td>23001900008863</td>\n",
       "      <td>10190002021576</td>\n",
       "      <td>460</td>\n",
       "      <td>81.604347</td>\n",
       "      <td>1.008270</td>\n",
       "      <td>1a</td>\n",
       "      <td>1</td>\n",
       "    </tr>\n",
       "    <tr>\n",
       "      <th>23001900008864</th>\n",
       "      <td>LINESTRING (-800259.206 220461.613, -800252.86...</td>\n",
       "      <td>1019000003</td>\n",
       "      <td>23001900008864</td>\n",
       "      <td>10190002022431</td>\n",
       "      <td>460</td>\n",
       "      <td>480.924530</td>\n",
       "      <td>1.016657</td>\n",
       "      <td>1a</td>\n",
       "      <td>1</td>\n",
       "    </tr>\n",
       "    <tr>\n",
       "      <th>23001900008865</th>\n",
       "      <td>LINESTRING (-799873.180 220328.121, -799869.36...</td>\n",
       "      <td>1019000004</td>\n",
       "      <td>23001900008865</td>\n",
       "      <td>10190002022326</td>\n",
       "      <td>460</td>\n",
       "      <td>239.971359</td>\n",
       "      <td>1.041028</td>\n",
       "      <td>1a</td>\n",
       "      <td>1</td>\n",
       "    </tr>\n",
       "    <tr>\n",
       "      <th>23001900008866</th>\n",
       "      <td>LINESTRING (-800502.522 224009.874, -800489.40...</td>\n",
       "      <td>1019000005</td>\n",
       "      <td>23001900008866</td>\n",
       "      <td>10190002002172</td>\n",
       "      <td>460</td>\n",
       "      <td>149.139175</td>\n",
       "      <td>1.022822</td>\n",
       "      <td>1a</td>\n",
       "      <td>2</td>\n",
       "    </tr>\n",
       "    <tr>\n",
       "      <th>23001900008867</th>\n",
       "      <td>LINESTRING (-800696.726 223529.142, -800688.63...</td>\n",
       "      <td>1019000006</td>\n",
       "      <td>23001900008867</td>\n",
       "      <td>10190002002197</td>\n",
       "      <td>460</td>\n",
       "      <td>374.499329</td>\n",
       "      <td>1.054500</td>\n",
       "      <td>1a</td>\n",
       "      <td>2</td>\n",
       "    </tr>\n",
       "    <tr>\n",
       "      <th>23001900008514</th>\n",
       "      <td>LINESTRING (-784197.161 402521.348, -784185.33...</td>\n",
       "      <td>1019000007</td>\n",
       "      <td>23001900008514</td>\n",
       "      <td>10190007011206</td>\n",
       "      <td>460</td>\n",
       "      <td>100.414604</td>\n",
       "      <td>1.003612</td>\n",
       "      <td>1a</td>\n",
       "      <td>2</td>\n",
       "    </tr>\n",
       "    <tr>\n",
       "      <th>23001900009741</th>\n",
       "      <td>LINESTRING (-794689.467 258885.462, -794681.70...</td>\n",
       "      <td>1019000008</td>\n",
       "      <td>23001900009741</td>\n",
       "      <td>10190002040388</td>\n",
       "      <td>460</td>\n",
       "      <td>552.855591</td>\n",
       "      <td>1.048819</td>\n",
       "      <td>1a</td>\n",
       "      <td>1</td>\n",
       "    </tr>\n",
       "    <tr>\n",
       "      <th>23001900009742</th>\n",
       "      <td>LINESTRING (-794453.545 258347.339, -794445.24...</td>\n",
       "      <td>1019000009</td>\n",
       "      <td>23001900009742</td>\n",
       "      <td>10190002040416</td>\n",
       "      <td>460</td>\n",
       "      <td>237.721313</td>\n",
       "      <td>1.029272</td>\n",
       "      <td>1a</td>\n",
       "      <td>1</td>\n",
       "    </tr>\n",
       "    <tr>\n",
       "      <th>23001900009743</th>\n",
       "      <td>LINESTRING (-794099.402 259345.736, -794088.85...</td>\n",
       "      <td>1019000010</td>\n",
       "      <td>23001900009743</td>\n",
       "      <td>10190002040514</td>\n",
       "      <td>460</td>\n",
       "      <td>107.660355</td>\n",
       "      <td>1.029068</td>\n",
       "      <td>1a</td>\n",
       "      <td>1</td>\n",
       "    </tr>\n",
       "  </tbody>\n",
       "</table>\n",
       "</div>"
      ],
      "text/plain": [
       "                                                         geometry      lineID  \\\n",
       "NHDPlusID                                                                       \n",
       "23001900008851  LINESTRING (-800081.762 215515.782, -800082.87...  1019000001   \n",
       "23001900008863  LINESTRING (-799823.525 221309.940, -799829.56...  1019000002   \n",
       "23001900008864  LINESTRING (-800259.206 220461.613, -800252.86...  1019000003   \n",
       "23001900008865  LINESTRING (-799873.180 220328.121, -799869.36...  1019000004   \n",
       "23001900008866  LINESTRING (-800502.522 224009.874, -800489.40...  1019000005   \n",
       "23001900008867  LINESTRING (-800696.726 223529.142, -800688.63...  1019000006   \n",
       "23001900008514  LINESTRING (-784197.161 402521.348, -784185.33...  1019000007   \n",
       "23001900009741  LINESTRING (-794689.467 258885.462, -794681.70...  1019000008   \n",
       "23001900009742  LINESTRING (-794453.545 258347.339, -794445.24...  1019000009   \n",
       "23001900009743  LINESTRING (-794099.402 259345.736, -794088.85...  1019000010   \n",
       "\n",
       "                     NHDPlusID       ReachCode  FType      length  sinuosity  \\\n",
       "NHDPlusID                                                                      \n",
       "23001900008851  23001900008851  10190001010972    460  486.965546   1.082492   \n",
       "23001900008863  23001900008863  10190002021576    460   81.604347   1.008270   \n",
       "23001900008864  23001900008864  10190002022431    460  480.924530   1.016657   \n",
       "23001900008865  23001900008865  10190002022326    460  239.971359   1.041028   \n",
       "23001900008866  23001900008866  10190002002172    460  149.139175   1.022822   \n",
       "23001900008867  23001900008867  10190002002197    460  374.499329   1.054500   \n",
       "23001900008514  23001900008514  10190007011206    460  100.414604   1.003612   \n",
       "23001900009741  23001900009741  10190002040388    460  552.855591   1.048819   \n",
       "23001900009742  23001900009742  10190002040416    460  237.721313   1.029272   \n",
       "23001900009743  23001900009743  10190002040514    460  107.660355   1.029068   \n",
       "\n",
       "               sizeclass  streamorder  \n",
       "NHDPlusID                              \n",
       "23001900008851        1a            1  \n",
       "23001900008863        1a            1  \n",
       "23001900008864        1a            1  \n",
       "23001900008865        1a            1  \n",
       "23001900008866        1a            2  \n",
       "23001900008867        1a            2  \n",
       "23001900008514        1a            2  \n",
       "23001900009741        1a            1  \n",
       "23001900009742        1a            1  \n",
       "23001900009743        1a            1  "
      ]
     },
     "execution_count": 23,
     "metadata": {},
     "output_type": "execute_result"
    }
   ],
   "source": [
    "flowlines.head(10)"
   ]
  },
  {
   "cell_type": "markdown",
   "metadata": {},
   "source": [
    "Then for the joins - this is a dataframe with the linkage information. Comes from *flowlines.py*"
   ]
  },
  {
   "cell_type": "code",
   "execution_count": 20,
   "metadata": {},
   "outputs": [
    {
     "name": "stdout",
     "output_type": "stream",
     "text": [
      "        upstream      downstream  upstream_id  downstream_id    type\n",
      "0              0  23001900145002            0     1019106322  origin\n",
      "1              0  23001900145006            0     1019106326  origin\n",
      "2              0  23001900145007            0     1019106327  origin\n",
      "3              0  23001900145008            0     1019107021  origin\n",
      "4              0  23001900145009            0     1019109914  origin\n",
      "...          ...             ...          ...            ...     ...\n",
      "324344         0  23001900054267            0     1019068792  origin\n",
      "324347         0  23001900009284            0     1019014812  origin\n",
      "324348         0  23001900005062            0     1019007072  origin\n",
      "324350         0  23001900010186            0     1019033645  origin\n",
      "324352         0  23001900008015            0     1019007281  origin\n",
      "\n",
      "[89771 rows x 5 columns]\n"
     ]
    }
   ],
   "source": [
    "type(joins)\n",
    "joins.head(3)\n",
    "# set(joins.type)\n",
    "x = joins[joins.type == 'origin']\n",
    "print(x)\n",
    "# joins.plot()\n",
    "# joins[joins.downstream_id>0].plot()  # plotting test\n",
    "# print(joins.describe)\n"
   ]
  },
  {
   "cell_type": "markdown",
   "metadata": {},
   "source": [
    "## Reorganizing the columns (not really sure why they do this)"
   ]
  },
  {
   "cell_type": "code",
   "execution_count": 7,
   "metadata": {},
   "outputs": [
    {
     "name": "stdout",
     "output_type": "stream",
     "text": [
      "(221415, 9)\n",
      "232510 1\n"
     ]
    }
   ],
   "source": [
    "flowlines= flowlines[[\"geometry\",\n",
    "                 \"lineID\",\n",
    "                 \"NHDPlusID\",\n",
    "                \"ReachCode\",\n",
    "                \"FType\",\n",
    "                \"length\",\n",
    "                \"sinuosity\",\n",
    "                \"sizeclass\",\n",
    "                \"streamorder\"]]\n",
    "print(flowlines.shape)\n",
    "#print(max(flowlines['NHDPlusID']), min(flowlines['NHDPlusID']))\n",
    "print(max(flowlines['lineID']), min(flowlines['lineID']))\n",
    "\n"
   ]
  },
  {
   "cell_type": "markdown",
   "metadata": {},
   "source": [
    "### Compare flowlines and joins\n",
    "The lineIDs are created in *flowlines.py* "
   ]
  },
  {
   "cell_type": "code",
   "execution_count": 8,
   "metadata": {},
   "outputs": [
    {
     "data": {
      "text/html": [
       "<table><tr style=\"background-color:white;\"><td><div>\n",
       "<style scoped>\n",
       "    .dataframe tbody tr th:only-of-type {\n",
       "        vertical-align: middle;\n",
       "    }\n",
       "\n",
       "    .dataframe tbody tr th {\n",
       "        vertical-align: top;\n",
       "    }\n",
       "\n",
       "    .dataframe thead th {\n",
       "        text-align: right;\n",
       "    }\n",
       "</style>\n",
       "<table border=\"1\" class=\"dataframe\">\n",
       "  <thead>\n",
       "    <tr style=\"text-align: right;\">\n",
       "      <th></th>\n",
       "      <th>geometry</th>\n",
       "      <th>lineID</th>\n",
       "      <th>NHDPlusID</th>\n",
       "      <th>ReachCode</th>\n",
       "      <th>FType</th>\n",
       "      <th>length</th>\n",
       "      <th>sinuosity</th>\n",
       "      <th>sizeclass</th>\n",
       "      <th>streamorder</th>\n",
       "    </tr>\n",
       "    <tr>\n",
       "      <th>NHDPlusID</th>\n",
       "      <th></th>\n",
       "      <th></th>\n",
       "      <th></th>\n",
       "      <th></th>\n",
       "      <th></th>\n",
       "      <th></th>\n",
       "      <th></th>\n",
       "      <th></th>\n",
       "      <th></th>\n",
       "    </tr>\n",
       "  </thead>\n",
       "  <tbody>\n",
       "    <tr>\n",
       "      <th>23001900008851</th>\n",
       "      <td>LINESTRING (-800081.762 215515.782, -800082.87...</td>\n",
       "      <td>1019000001</td>\n",
       "      <td>23001900008851</td>\n",
       "      <td>10190001010972</td>\n",
       "      <td>460</td>\n",
       "      <td>486.965546</td>\n",
       "      <td>1.082492</td>\n",
       "      <td>1a</td>\n",
       "      <td>1</td>\n",
       "    </tr>\n",
       "    <tr>\n",
       "      <th>23001900008863</th>\n",
       "      <td>LINESTRING (-799823.525 221309.940, -799829.56...</td>\n",
       "      <td>1019000002</td>\n",
       "      <td>23001900008863</td>\n",
       "      <td>10190002021576</td>\n",
       "      <td>460</td>\n",
       "      <td>81.604347</td>\n",
       "      <td>1.008270</td>\n",
       "      <td>1a</td>\n",
       "      <td>1</td>\n",
       "    </tr>\n",
       "    <tr>\n",
       "      <th>23001900008864</th>\n",
       "      <td>LINESTRING (-800259.206 220461.613, -800252.86...</td>\n",
       "      <td>1019000003</td>\n",
       "      <td>23001900008864</td>\n",
       "      <td>10190002022431</td>\n",
       "      <td>460</td>\n",
       "      <td>480.924530</td>\n",
       "      <td>1.016657</td>\n",
       "      <td>1a</td>\n",
       "      <td>1</td>\n",
       "    </tr>\n",
       "  </tbody>\n",
       "</table>\n",
       "</div></td><td><div>\n",
       "<style scoped>\n",
       "    .dataframe tbody tr th:only-of-type {\n",
       "        vertical-align: middle;\n",
       "    }\n",
       "\n",
       "    .dataframe tbody tr th {\n",
       "        vertical-align: top;\n",
       "    }\n",
       "\n",
       "    .dataframe thead th {\n",
       "        text-align: right;\n",
       "    }\n",
       "</style>\n",
       "<table border=\"1\" class=\"dataframe\">\n",
       "  <thead>\n",
       "    <tr style=\"text-align: right;\">\n",
       "      <th></th>\n",
       "      <th>upstream</th>\n",
       "      <th>downstream</th>\n",
       "      <th>upstream_id</th>\n",
       "      <th>downstream_id</th>\n",
       "      <th>type</th>\n",
       "    </tr>\n",
       "  </thead>\n",
       "  <tbody>\n",
       "    <tr>\n",
       "      <th>0</th>\n",
       "      <td>0</td>\n",
       "      <td>23001900145002</td>\n",
       "      <td>0</td>\n",
       "      <td>1019106322</td>\n",
       "      <td>origin</td>\n",
       "    </tr>\n",
       "    <tr>\n",
       "      <th>1</th>\n",
       "      <td>0</td>\n",
       "      <td>23001900145006</td>\n",
       "      <td>0</td>\n",
       "      <td>1019106326</td>\n",
       "      <td>origin</td>\n",
       "    </tr>\n",
       "    <tr>\n",
       "      <th>2</th>\n",
       "      <td>0</td>\n",
       "      <td>23001900145007</td>\n",
       "      <td>0</td>\n",
       "      <td>1019106327</td>\n",
       "      <td>origin</td>\n",
       "    </tr>\n",
       "  </tbody>\n",
       "</table>\n",
       "</div></td></tr></table>"
      ],
      "text/plain": [
       "<IPython.core.display.HTML object>"
      ]
     },
     "execution_count": 8,
     "metadata": {},
     "output_type": "execute_result"
    }
   ],
   "source": [
    "from IPython.core.display import HTML\n",
    "\n",
    "def multi_table(table_list):\n",
    "    ''' Acceps a list of IpyTable objects and returns a table which contains each IpyTable in a cell\n",
    "    '''\n",
    "    return HTML(\n",
    "        '<table><tr style=\"background-color:white;\">' + \n",
    "        ''.join(['<td>' + table._repr_html_() + '</td>' for table in table_list]) +\n",
    "        '</tr></table>'\n",
    "    )\n",
    "\n",
    "# Calculate lineIDs to be unique across the regions\n",
    "#LC - .loc Accesses a group of rows and columns by label(s) or a boolean array\n",
    "flowlines[\"lineID\"] += huc_id\n",
    "# flowlines.head(3)\n",
    "\n",
    "# Set updated lineIDs with the HUC4 prefix\n",
    "joins.loc[joins.upstream_id != 0, \"upstream_id\"] += huc_id\n",
    "joins.loc[joins.downstream_id != 0, \"downstream_id\"] += huc_id\n",
    "# joins.head(3)\n",
    "\n",
    "multi_table([flowlines.head(3), joins.head(3)])"
   ]
  },
  {
   "cell_type": "markdown",
   "metadata": {},
   "source": [
    "## Need to figure out what the read water bodies part is doing--- that function doesn't work in the sourced library but exists in the git repo\n",
    "Check if we need to have the water bodies in order to have a fully connected drainage network or not.\n",
    "\n",
    "*The joins are the connections between the flowlines, so do not need waterbodies. See extract.py*"
   ]
  },
  {
   "cell_type": "code",
   "execution_count": 9,
   "metadata": {},
   "outputs": [
    {
     "ename": "NameError",
     "evalue": "name 'extract_waterbodies' is not defined",
     "output_type": "error",
     "traceback": [
      "\u001b[0;31m---------------------------------------------------------------------------\u001b[0m",
      "\u001b[0;31mNameError\u001b[0m                                 Traceback (most recent call last)",
      "\u001b[0;32m<ipython-input-9-e0d76ccb1f48>\u001b[0m in \u001b[0;36m<module>\u001b[0;34m\u001b[0m\n\u001b[1;32m      1\u001b[0m \u001b[0;31m### Read waterbodies\u001b[0m\u001b[0;34m\u001b[0m\u001b[0;34m\u001b[0m\u001b[0;34m\u001b[0m\u001b[0m\n\u001b[1;32m      2\u001b[0m \u001b[0mread_start\u001b[0m \u001b[0;34m=\u001b[0m \u001b[0mtime\u001b[0m\u001b[0;34m(\u001b[0m\u001b[0;34m)\u001b[0m\u001b[0;34m\u001b[0m\u001b[0;34m\u001b[0m\u001b[0m\n\u001b[0;32m----> 3\u001b[0;31m waterbodies = extract_waterbodies(\n\u001b[0m\u001b[1;32m      4\u001b[0m                 \u001b[0mgdb\u001b[0m\u001b[0;34m,\u001b[0m\u001b[0;34m\u001b[0m\u001b[0;34m\u001b[0m\u001b[0m\n\u001b[1;32m      5\u001b[0m                 \u001b[0mtarget_crs\u001b[0m\u001b[0;34m=\u001b[0m\u001b[0mCRS\u001b[0m\u001b[0;34m,\u001b[0m\u001b[0;34m\u001b[0m\u001b[0;34m\u001b[0m\u001b[0m\n",
      "\u001b[0;31mNameError\u001b[0m: name 'extract_waterbodies' is not defined"
     ]
    }
   ],
   "source": [
    "### Read waterbodies\n",
    "read_start = time()\n",
    "waterbodies = extract_waterbodies(\n",
    "                gdb,\n",
    "                target_crs=CRS,\n",
    "                exclude_ftypes=WATERBODY_EXCLUDE_FTYPES,\n",
    "                min_area=WATERBODY_MIN_SIZE)\n",
    "\n",
    "print(\"Read {:,} waterbodies in  {:.0f} seconds\".format(\n",
    "                    len(waterbodies), time() - read_start))\n",
    "\n",
    "# calculate ids to be unique across region\n",
    "waterbodies[\"wbID\"] += huc_id\n",
    "\n",
    "### Only retain waterbodies that intersect flowlines\n",
    "print(\"Intersecting waterbodies and flowlines\")\n",
    "wb_joins = gp.sjoin(waterbodies, flowlines, how=\"inner\", op=\"intersects\")[[\"wbID\", \"lineID\"]]\n",
    "\n",
    "waterbodies = waterbodies.loc[waterbodies.wbID.isin(wb_joins.wbID)].copy()\n",
    "# print(\"Retained {:,} waterbodies that intersect flowlines\".format(\n",
    "#                     len(waterbodies))"
   ]
  },
  {
   "cell_type": "markdown",
   "metadata": {},
   "source": [
    "## Getting rid of dead ends\n",
    "Note in this example there are none so nothing changes\n",
    "~ means take the compliment"
   ]
  },
  {
   "cell_type": "code",
   "execution_count": null,
   "metadata": {},
   "outputs": [],
   "source": [
    "print(joins.shape)\n",
    "joins=joins.loc[~((joins.downstream == 0) & (joins.upstream == 0))].copy()\n",
    "print(joins.shape)"
   ]
  },
  {
   "cell_type": "markdown",
   "metadata": {},
   "source": [
    "# Serializing the flowlines \n",
    "I think this means that the data structure is changed. So go from dataframe to feather file because it is easier to work with.\n",
    "\n",
    "Blog post on to_geofeather: https://medium.com/@brendan_ward/introducing-geofeather-a-python-library-for-faster-geospatial-i-o-with-geopandas-341120d45ee5 \n",
    "reset_index explanation: https://www.geeksforgeeks.org/reset-index-in-pandas-dataframe/"
   ]
  },
  {
   "cell_type": "code",
   "execution_count": null,
   "metadata": {},
   "outputs": [],
   "source": [
    "print(\"serializing {:,} flowlines to feather\".format(len(flowlines)))\n",
    "region_dir=data_dir/HUC4/ \"NHDPLUS_H_{HUC4}_HU4_GDB.gdb\".format(HUC4=HUC4)\n",
    "# region_dir=Path(HUC4)\n",
    "flowlines = flowlines.reset_index(drop=True)\n",
    "to_geofeather(flowlines, region_dir /\"flowlines.feather\")\n",
    "# #Serializes a pandas DataFrame to a feather file on disk --- just writing it efficiently\n",
    "serialize_df(joins,  \"flowline_joins.feather\", index=False)\n"
   ]
  },
  {
   "cell_type": "markdown",
   "metadata": {},
   "source": [
    "## Not part of the workflow just testing out joins to see how they made that table¶\n",
    "This is copied from extract.py. I think the reson we don't get the same downstream/upstream_ids is the filtering they do with coastlines and the removed_idx"
   ]
  },
  {
   "cell_type": "code",
   "execution_count": null,
   "metadata": {},
   "outputs": [],
   "source": [
    "#     print(\"Filtering out loops and coastlines\")\n",
    "#     coastline_idx = flowlines.loc[(flowlines.FType == 566)].index\n",
    "#     removed_idx = flowlines.loc[\n",
    "#         (flowlines.streamorder != flowlines.StreamCalc) | (flowlines.FlowDir.isnull()) | (flowlines.FType == 566)\n",
    "#     ].index\n",
    "#     flowlines = flowlines.loc[~flowlines.index.isin(removed_idx)].copy()\n",
    "#     print(\"{:,} features after removing loops and coastlines\".format(len(flowlines)))"
   ]
  },
  {
   "cell_type": "code",
   "execution_count": null,
   "metadata": {},
   "outputs": [],
   "source": [
    "print(\"Reading flowline joins\")\n",
    "\n",
    "#this line reads the flowlines and grabs out just the columns 'FromNHDPID' and 'ToNHDPID' then it renames them as upstream and downstream\n",
    "join_df = gp.read_file(gdb, layer=\"NHDPlusFlow\")[[\"FromNHDPID\", \"ToNHDPID\"]].rename(columns={\"FromNHDPID\": \"upstream\", \"ToNHDPID\": \"downstream\"})\n",
    "join_df.upstream = join_df.upstream.astype(\"uint64\")\n",
    "join_df.downstream = join_df.downstream.astype(\"uint64\")\n",
    "\n",
    "join_df = join_df.drop_duplicates()\n",
    "join_df = (join_df.join(flowlines.lineID.rename(\"upstream_id\"), on=\"upstream\").\n",
    "          join(flowlines.lineID.rename(\"downstream_id\"), on=\"downstream\")\n",
    "          .fillna(0))\n",
    "\n",
    "for col in (\"upstream\", \"downstream\"):\n",
    "        join_df[col] = join_df[col].astype(\"uint64\")\n",
    "\n",
    "for col in (\"upstream_id\", \"downstream_id\"):\n",
    "        join_df[col] = join_df[col].astype(\"uint32\")\n",
    "\n",
    "# test=flowlines[0:3]\n",
    "#print(test)\n",
    "#print(test.FType)\n",
    "#test.FType.rename(\"testing\")\n",
    "# print(test)\n",
    "print(join_df)\n"
   ]
  },
  {
   "cell_type": "code",
   "execution_count": null,
   "metadata": {},
   "outputs": [],
   "source": [
    "joins.head(3)\n",
    "# joins.describe"
   ]
  },
  {
   "cell_type": "code",
   "execution_count": null,
   "metadata": {},
   "outputs": [],
   "source": [
    "#grabbing two columns out\n",
    "print(join_df.shape)\n",
    "# test=join_df[[\"FromNHDPID\", \"ToNHDPID\"]]\n",
    "test=join_df[[\"upstream_id\", \"downstream_id\"]]\n",
    "print(test.shape)\n",
    "test.head(3)"
   ]
  },
  {
   "cell_type": "code",
   "execution_count": null,
   "metadata": {},
   "outputs": [],
   "source": [
    "# #Grabbing two columns out and modifying \n",
    "\n",
    "# test2=join_df[[\"FromNHDPID\", \"ToNHDPID\"]].rename(columns={\"FromNHDPID\": \"upstream\", \"ToNHDPID\": \"downstream\"})\n",
    "# test2.head(3)"
   ]
  },
  {
   "cell_type": "markdown",
   "metadata": {},
   "source": [
    "## Reading in the NABD shape file\n",
    "Usefull tips on working with shape files: https://www.earthdatascience.org/workshops/gis-open-source-python/intro-vector-data-python/"
   ]
  },
  {
   "cell_type": "code",
   "execution_count": null,
   "metadata": {},
   "outputs": [],
   "source": [
    "NABD = gp.read_file('/Users/rachelspinti/Documents/River_bifurcation/data/nabd/nabd_fish_barriers_2012.shp')\n"
   ]
  },
  {
   "cell_type": "code",
   "execution_count": null,
   "metadata": {},
   "outputs": [],
   "source": [
    "#look at the properties"
   ]
  },
  {
   "cell_type": "code",
   "execution_count": null,
   "metadata": {},
   "outputs": [],
   "source": [
    "print(NABD.shape)\n",
    "print(list(NABD.columns))\n",
    "NABD.head(3)"
   ]
  },
  {
   "cell_type": "markdown",
   "metadata": {},
   "source": [
    "## Attempt at spatial join of NHD_HUC4 and NHD I have\n",
    "#### 1. Filter NHD"
   ]
  },
  {
   "cell_type": "code",
   "execution_count": null,
   "metadata": {},
   "outputs": [],
   "source": [
    "# Stuck here...\n",
    "# Need a script like the extract.py but that is separate so we can extract COMID, so copy the code, but save elsewhere?"
   ]
  },
  {
   "cell_type": "markdown",
   "metadata": {},
   "source": [
    "#### 2. Join NHD_HUC4 and NHD\n",
    "Check this link out for help: https://www.earthdatascience.org/courses/use-data-open-source-python/intro-vector-data-python/vector-data-processing/spatial-joins-in-python-geopandas-shapely/"
   ]
  },
  {
   "cell_type": "code",
   "execution_count": null,
   "metadata": {},
   "outputs": [],
   "source": []
  }
 ],
 "metadata": {
  "kernelspec": {
   "display_name": "Python 3",
   "language": "python",
   "name": "python3"
  },
  "language_info": {
   "codemirror_mode": {
    "name": "ipython",
    "version": 3
   },
   "file_extension": ".py",
   "mimetype": "text/x-python",
   "name": "python",
   "nbconvert_exporter": "python",
   "pygments_lexer": "ipython3",
   "version": "3.8.1"
  }
 },
 "nbformat": 4,
 "nbformat_minor": 4
}
