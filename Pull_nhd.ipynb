{
 "cells": [
  {
   "cell_type": "markdown",
   "metadata": {},
   "source": [
    "# Specify what regions to pull from Google Drive\n",
    "\n",
    "\n",
    "## Specify REGIONS"
   ]
  },
  {
   "cell_type": "code",
   "execution_count": 1,
   "metadata": {},
   "outputs": [
    {
     "name": "stdout",
     "output_type": "stream",
     "text": [
      "{'10': [19, 29]}\n"
     ]
    }
   ],
   "source": [
    "# Rachel selects regions\n",
    "REGIONS = {\"10\": [19, 29]}\n",
    "\n",
    "print(REGIONS)"
   ]
  },
  {
   "cell_type": "markdown",
   "metadata": {},
   "source": [
    "## Download data"
   ]
  },
  {
   "cell_type": "code",
   "execution_count": 2,
   "metadata": {},
   "outputs": [],
   "source": [
    "from pathlib import Path\n",
    "import os\n",
    "# from requests import HTTPError\n",
    "import numpy as np\n",
    "import geopandas as gp\n",
    "\n",
    "import sys\n",
    "sys.path.append('/Users/rachelspinti/Documents/River_bifurcation/sarp-connectivity/') #call where these scripts are located\n",
    "\n",
    "# from nhdnet.nhd.pull_nhd import pull_huc4\n",
    "\n",
    "# from analysis.constants import REGIONS\n",
    "#from constants import REGIONS\n",
    "\n",
    "\n",
    "nhd_dir = Path(\"/Volumes/GoogleDrive/My Drive/Condon_Research_Group/Research_Projects/Rachel/Research/GIS/Layers/NHDPlusNationalData/NHDPlusV21_National_Seamless_Flattened_Lower48.gdb\")\n",
    "KEEP_COLS = [\"NHDPlusID\", \"FType\", \"FCode\", \"GNIS_Name\", \"geometry\",\"COMID\"]\n",
    "\n",
    "# Dam, Gate, Lock Chamber, Waterfall\n",
    "KEEP_FTYPES = [343, 369, 398, 487]\n",
    "\n",
    "            \n",
    "for HUC2 in REGIONS:\n",
    "    for i in REGIONS[HUC2]:\n",
    "        HUC4 = \"{0}{1:02d}\".format(HUC2, i)\n",
    "#         df = gp.read_file(gdb, layer=\"NHDLine\")\n",
    "#         df.NHDPlusID = df.NHDPlusID.astype(\"uint64\")\n",
    "#         df = df.loc[df.FType.isin(KEEP_FTYPES)][KEEP_COLS].copy()\n",
    "        filename = nhd_dir / \"{HUC4}.shp\".format(HUC4=HUC4)\n",
    "\n",
    "#         if not os.path.exists(filename):\n",
    "#             try:\n",
    "#                 download_huc4(HUC4, filename)\n",
    "#             except HTTPError as ex:\n",
    "#                 print(ex)\n",
    "#                 pass"
   ]
  },
  {
   "cell_type": "code",
   "execution_count": 3,
   "metadata": {},
   "outputs": [
    {
     "name": "stdout",
     "output_type": "stream",
     "text": [
      "/Volumes/GoogleDrive/My Drive/Condon_Research_Group/Research_Projects/Rachel/Research/GIS/Layers/NHDPlusNationalData/NHDPlusV21_National_Seamless_Flattened_Lower48.gdb/1029.shp\n"
     ]
    }
   ],
   "source": [
    "print(filename)"
   ]
  },
  {
   "cell_type": "code",
   "execution_count": null,
   "metadata": {},
   "outputs": [],
   "source": []
  }
 ],
 "metadata": {
  "kernelspec": {
   "display_name": "Python 3",
   "language": "python",
   "name": "python3"
  },
  "language_info": {
   "codemirror_mode": {
    "name": "ipython",
    "version": 3
   },
   "file_extension": ".py",
   "mimetype": "text/x-python",
   "name": "python",
   "nbconvert_exporter": "python",
   "pygments_lexer": "ipython3",
   "version": "3.8.1"
  }
 },
 "nbformat": 4,
 "nbformat_minor": 4
}
