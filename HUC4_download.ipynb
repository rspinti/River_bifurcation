{
 "cells": [
  {
   "cell_type": "markdown",
   "metadata": {},
   "source": [
    "# Figure out how to specify what regions to download\n",
    "\n",
    "\n",
    "## Specify REGIONS"
   ]
  },
  {
   "cell_type": "code",
   "execution_count": 3,
   "metadata": {},
   "outputs": [
    {
     "name": "stdout",
     "output_type": "stream",
     "text": [
      "{'10': [19, 29]}\n"
     ]
    }
   ],
   "source": [
    "# Rachel selects regions\n",
    "REGIONS = {\n",
    "    \"10\": [19, 29]\n",
    "}\n",
    "\n",
    "# Regions from Ward script - Mapping of region to HUC4 IDs that are present within the SARP boundary\n",
    "# REGIONS = {           \n",
    "#     \"02\": [7, 8],\n",
    "#     \"03\": list(range(1, 19)),\n",
    "#     \"05\": [5, 7, 9, 10, 11, 13, 14],\n",
    "#     \"06\": list(range(1, 5)),\n",
    "#     \"07\": [10, 11, 14],\n",
    "#     \"08\": list(range(1, 10)),\n",
    "#     \"10\": [24, 27, 28, 29, 30],\n",
    "#     \"11\": [1, 4, 5, 6, 7, 8, 9, 10, 11, 12, 13, 14],\n",
    "#     \"12\": list(range(1, 12)),\n",
    "#     \"13\": [3, 4, 5, 6, 7, 8, 9],\n",
    "# }\n",
    "print(REGIONS)"
   ]
  },
  {
   "cell_type": "markdown",
   "metadata": {},
   "source": [
    "## Download data"
   ]
  },
  {
   "cell_type": "code",
   "execution_count": 2,
   "metadata": {},
   "outputs": [
    {
     "name": "stdout",
     "output_type": "stream",
     "text": [
      "Downloading HUC4: 1019 (364.72 MB)\n"
     ]
    }
   ],
   "source": [
    "from pathlib import Path\n",
    "import os\n",
    "from requests import HTTPError\n",
    "import numpy as np\n",
    "\n",
    "import sys\n",
    "sys.path.append('/Users/rachelspinti/Documents/River_bifurcation/sarp-connectivity/') #call where these scripts are located\n",
    "\n",
    "from nhdnet.nhd.download import download_huc4\n",
    "\n",
    "# from analysis.constants import REGIONS\n",
    "#from constants import REGIONS\n",
    "\n",
    "\n",
    "nhd_dir = Path(\"data/nhd/source/huc4\")\n",
    "\n",
    "# HUC10 = np.where(REGIONS == 10)\n",
    "\n",
    "# for HUC2 in HUC10:\n",
    "#     for i in HUC10[HUC2]:\n",
    "#         HUC4 = \"{0}{1:02d}\".format(HUC2, i)\n",
    "#         filename = nhd_dir / \"{HUC4}.zip\".format(HUC4=HUC4)\n",
    "\n",
    "#         if not os.path.exists(filename):\n",
    "#             try:\n",
    "#                 download_huc4(HUC4, filename)\n",
    "#             except HTTPError as ex:\n",
    "#                 print(ex)\n",
    "#                 pass\n",
    "            \n",
    "for HUC2 in REGIONS:\n",
    "    for i in REGIONS[HUC2]:\n",
    "        HUC4 = \"{0}{1:02d}\".format(HUC2, i)\n",
    "        filename = nhd_dir / \"{HUC4}.zip\".format(HUC4=HUC4)\n",
    "\n",
    "        if not os.path.exists(filename):\n",
    "            try:\n",
    "                download_huc4(HUC4, filename)\n",
    "            except HTTPError as ex:\n",
    "                print(ex)\n",
    "                pass"
   ]
  },
  {
   "cell_type": "code",
   "execution_count": null,
   "metadata": {},
   "outputs": [],
   "source": []
  }
 ],
 "metadata": {
  "kernelspec": {
   "display_name": "Python 3",
   "language": "python",
   "name": "python3"
  },
  "language_info": {
   "codemirror_mode": {
    "name": "ipython",
    "version": 3
   },
   "file_extension": ".py",
   "mimetype": "text/x-python",
   "name": "python",
   "nbconvert_exporter": "python",
   "pygments_lexer": "ipython3",
   "version": "3.8.1"
  }
 },
 "nbformat": 4,
 "nbformat_minor": 4
}
